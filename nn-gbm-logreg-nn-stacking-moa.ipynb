{
 "cells": [
  {
   "cell_type": "code",
   "execution_count": 1,
   "metadata": {
    "_cell_guid": "b1076dfc-b9ad-4769-8c92-a6c4dae69d19",
    "_uuid": "8f2839f25d086af736a60e9eeb907d3b93b6e0e5",
    "execution": {
     "iopub.execute_input": "2020-12-11T05:38:37.578103Z",
     "iopub.status.busy": "2020-12-11T05:38:37.574124Z",
     "iopub.status.idle": "2020-12-11T05:38:46.383572Z",
     "shell.execute_reply": "2020-12-11T05:38:46.384371Z"
    },
    "papermill": {
     "duration": 8.847638,
     "end_time": "2020-12-11T05:38:46.384594",
     "exception": false,
     "start_time": "2020-12-11T05:38:37.536956",
     "status": "completed"
    },
    "tags": []
   },
   "outputs": [
    {
     "data": {
      "text/html": [
       "<style type='text/css'>\n",
       ".datatable table.frame { margin-bottom: 0; }\n",
       ".datatable table.frame thead { border-bottom: none; }\n",
       ".datatable table.frame tr.coltypes td {  color: #FFFFFF;  line-height: 6px;  padding: 0 0.5em;}\n",
       ".datatable .bool    { background: #DDDD99; }\n",
       ".datatable .object  { background: #565656; }\n",
       ".datatable .int     { background: #5D9E5D; }\n",
       ".datatable .float   { background: #4040CC; }\n",
       ".datatable .str     { background: #CC4040; }\n",
       ".datatable .row_index {  background: var(--jp-border-color3);  border-right: 1px solid var(--jp-border-color0);  color: var(--jp-ui-font-color3);  font-size: 9px;}\n",
       ".datatable .frame tr.coltypes .row_index {  background: var(--jp-border-color0);}\n",
       ".datatable th:nth-child(2) { padding-left: 12px; }\n",
       ".datatable .hellipsis {  color: var(--jp-cell-editor-border-color);}\n",
       ".datatable .vellipsis {  background: var(--jp-layout-color0);  color: var(--jp-cell-editor-border-color);}\n",
       ".datatable .na {  color: var(--jp-cell-editor-border-color);  font-size: 80%;}\n",
       ".datatable .footer { font-size: 9px; }\n",
       ".datatable .frame_dimensions {  background: var(--jp-border-color3);  border-top: 1px solid var(--jp-border-color0);  color: var(--jp-ui-font-color3);  display: inline-block;  opacity: 0.6;  padding: 1px 10px 1px 5px;}\n",
       ".datatable .frame thead tr.colnames {  background-image: url('data:image/png;base64,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');  background-repeat: repeat-x;  background-size: 14px;  height: 28px;}\n",
       "</style>\n"
      ],
      "text/plain": [
       "<IPython.core.display.HTML object>"
      ]
     },
     "metadata": {},
     "output_type": "display_data"
    },
    {
     "name": "stdout",
     "output_type": "stream",
     "text": [
      "/kaggle/input/lish-moa/train_targets_scored.csv\n",
      "/kaggle/input/lish-moa/sample_submission.csv\n",
      "/kaggle/input/lish-moa/train_drug.csv\n",
      "/kaggle/input/lish-moa/train_targets_nonscored.csv\n",
      "/kaggle/input/lish-moa/train_features.csv\n",
      "/kaggle/input/lish-moa/test_features.csv\n"
     ]
    }
   ],
   "source": [
    "import numpy as np # linear algebra\n",
    "import pandas as pd # data processing, CSV file I/O (e.g. pd.read_csv)\n",
    "\n",
    "import keras\n",
    "from tensorflow.keras.models import Sequential\n",
    "from tensorflow.keras.layers import Input, Dense, Dropout, BatchNormalization\n",
    "\n",
    "from sklearn.model_selection import KFold\n",
    "from sklearn.multioutput import MultiOutputClassifier\n",
    "from sklearn.linear_model import LogisticRegression\n",
    "from sklearn.preprocessing import StandardScaler\n",
    "\n",
    "import lightgbm as lgb\n",
    "\n",
    "import matplotlib.pyplot as plt\n",
    "%matplotlib inline\n",
    "\n",
    "import os\n",
    "for dirname, _, filenames in os.walk('/kaggle/input'):\n",
    "    for filename in filenames:\n",
    "        print(os.path.join(dirname, filename))"
   ]
  },
  {
   "cell_type": "markdown",
   "metadata": {
    "papermill": {
     "duration": 0.022585,
     "end_time": "2020-12-11T05:38:46.431512",
     "exception": false,
     "start_time": "2020-12-11T05:38:46.408927",
     "status": "completed"
    },
    "tags": []
   },
   "source": [
    "Ensemble related sources:<br>\n",
    "https://www.analyticsvidhya.com/blog/2018/06/comprehensive-guide-for-ensemble-models/ <br>\n",
    "https://www.kaggle.com/kokitanisaka/moa-ensemble<br>\n",
    "<br>\n",
    "Notebooks used for individual models:<br>\n",
    "<br>\n",
    "Logistic Regression:<br>\n",
    "https://www.kaggle.com/sg1993/logistic-regression-model/notebook<br>\n",
    "https://www.kaggle.com/barteksadlej123/basic-logistic-regression<br>\n",
    "<br>\n",
    "LightGBM:<br>\n",
    "https://www.kaggle.com/nroman/moa-lightgbm-206-models<br>\n",
    "https://www.kaggle.com/pavelvpster/moa-lgb-optuna<br>\n",
    "<br>\n",
    "FNN:<br>\n",
    "https://www.kaggle.com/simakov/keras-multilabel-neural-network-v1-2/notebook<br>\n",
    "https://www.kaggle.com/elcaiseri/moa-keras-multilabel-classifier-nn-starter/notebook<br>\n",
    "https://www.kaggle.com/gogo827jz/moa-lstm-pure-transformer-fast-and-not-bad/notebook?scriptVersionId=42679125<br>"
   ]
  },
  {
   "cell_type": "markdown",
   "metadata": {
    "papermill": {
     "duration": 0.022618,
     "end_time": "2020-12-11T05:38:46.477270",
     "exception": false,
     "start_time": "2020-12-11T05:38:46.454652",
     "status": "completed"
    },
    "tags": []
   },
   "source": [
    "## Reading data"
   ]
  },
  {
   "cell_type": "code",
   "execution_count": 2,
   "metadata": {
    "_cell_guid": "79c7e3d0-c299-4dcb-8224-4455121ee9b0",
    "_uuid": "d629ff2d2480ee46fbb7e2d37f6b5fab8052498a",
    "execution": {
     "iopub.execute_input": "2020-12-11T05:38:46.535240Z",
     "iopub.status.busy": "2020-12-11T05:38:46.534384Z",
     "iopub.status.idle": "2020-12-11T05:38:55.093762Z",
     "shell.execute_reply": "2020-12-11T05:38:55.093084Z"
    },
    "papermill": {
     "duration": 8.593452,
     "end_time": "2020-12-11T05:38:55.093890",
     "exception": false,
     "start_time": "2020-12-11T05:38:46.500438",
     "status": "completed"
    },
    "tags": []
   },
   "outputs": [],
   "source": [
    "path = \"/kaggle/input/lish-moa/\"\n",
    "train_features = pd.read_csv(path+\"train_features.csv\")\n",
    "test_features = pd.read_csv(path+\"test_features.csv\")\n",
    "train_targets_scored = pd.read_csv(path+\"train_targets_scored.csv\")\n",
    "sub = pd.read_csv(path+\"sample_submission.csv\")\n",
    "\n",
    "# From https://www.kaggle.com/carlmcbrideellis/moa-setting-ctl-vehicle-0-improves-score\n",
    "train_features.at[train_features['cp_type'].str.contains('ctl_vehicle'),train_features.filter(regex='-.*').columns] = 0.0\n",
    "test_features.at[test_features['cp_type'].str.contains('ctl_vehicle'),test_features.filter(regex='-.*').columns] = 0.0"
   ]
  },
  {
   "cell_type": "markdown",
   "metadata": {
    "papermill": {
     "duration": 0.022782,
     "end_time": "2020-12-11T05:38:55.140360",
     "exception": false,
     "start_time": "2020-12-11T05:38:55.117578",
     "status": "completed"
    },
    "tags": []
   },
   "source": [
    "## General data processing"
   ]
  },
  {
   "cell_type": "code",
   "execution_count": 3,
   "metadata": {
    "execution": {
     "iopub.execute_input": "2020-12-11T05:38:55.194263Z",
     "iopub.status.busy": "2020-12-11T05:38:55.193112Z",
     "iopub.status.idle": "2020-12-11T05:38:55.195878Z",
     "shell.execute_reply": "2020-12-11T05:38:55.196575Z"
    },
    "papermill": {
     "duration": 0.032591,
     "end_time": "2020-12-11T05:38:55.196744",
     "exception": false,
     "start_time": "2020-12-11T05:38:55.164153",
     "status": "completed"
    },
    "tags": []
   },
   "outputs": [],
   "source": [
    "def onehotencode(data):\n",
    "    data = pd.get_dummies(data)\n",
    "    return data"
   ]
  },
  {
   "cell_type": "code",
   "execution_count": 4,
   "metadata": {
    "execution": {
     "iopub.execute_input": "2020-12-11T05:38:55.257440Z",
     "iopub.status.busy": "2020-12-11T05:38:55.255569Z",
     "iopub.status.idle": "2020-12-11T05:38:55.871631Z",
     "shell.execute_reply": "2020-12-11T05:38:55.870759Z"
    },
    "papermill": {
     "duration": 0.651467,
     "end_time": "2020-12-11T05:38:55.871785",
     "exception": false,
     "start_time": "2020-12-11T05:38:55.220318",
     "status": "completed"
    },
    "tags": []
   },
   "outputs": [],
   "source": [
    "# Dropping sig_id columns and onehot encoding\n",
    "\n",
    "X_test = test_features.copy()\n",
    "X_train = train_features.copy()\n",
    "y_train = train_targets_scored.copy()\n",
    "X_train = X_train.drop(\"sig_id\", axis=1)\n",
    "y_train = y_train.drop(\"sig_id\", axis=1)\n",
    "\n",
    "# changing cp_time to categorical before onehotencoding\n",
    "X_test = test_features.copy()\n",
    "X_train['cp_time'] = X_train['cp_time'].apply(lambda x:str(x))\n",
    "X_test['cp_time'] = X_test['cp_time'].apply(lambda x:str(x))\n",
    "\n",
    "X_train = onehotencode(X_train)\n",
    "\n",
    "sig_id = X_test[\"sig_id\"]  # getting the ids\n",
    "X_test = X_test.drop(\"sig_id\", axis=1)\n",
    "X_test = onehotencode(X_test)\n",
    "\n",
    "columns = X_test.columns  # getting the feature columns\n",
    "sub = pd.read_csv(path+\"sample_submission.csv\")"
   ]
  },
  {
   "cell_type": "markdown",
   "metadata": {
    "papermill": {
     "duration": 0.023391,
     "end_time": "2020-12-11T05:38:55.919120",
     "exception": false,
     "start_time": "2020-12-11T05:38:55.895729",
     "status": "completed"
    },
    "tags": []
   },
   "source": [
    "## Stacking"
   ]
  },
  {
   "cell_type": "code",
   "execution_count": 5,
   "metadata": {
    "execution": {
     "iopub.execute_input": "2020-12-11T05:38:56.001660Z",
     "iopub.status.busy": "2020-12-11T05:38:56.000681Z",
     "iopub.status.idle": "2020-12-11T05:38:56.004629Z",
     "shell.execute_reply": "2020-12-11T05:38:56.003930Z"
    },
    "papermill": {
     "duration": 0.061931,
     "end_time": "2020-12-11T05:38:56.004775",
     "exception": false,
     "start_time": "2020-12-11T05:38:55.942844",
     "status": "completed"
    },
    "tags": []
   },
   "outputs": [],
   "source": [
    "def stacking_gbm(train,y,test,n_fold,params):\n",
    "    folds=KFold(n_splits=n_fold)\n",
    "    test_pred = pd.DataFrame(columns=y.columns)\n",
    "    train_pred = pd.DataFrame(columns=y.columns)\n",
    "    # 206 different models. One for each label\n",
    "    for model, target in enumerate(y_train, 1):\n",
    "        y_col = y_train[target]\n",
    "        preds_train = np.zeros(train.shape[0])\n",
    "        preds_test = np.zeros(test.shape[0])\n",
    "        for trn_idx,test_idx in folds.split(train):\n",
    "            trn_data = lgb.Dataset(train.iloc[trn_idx], label=y_col.iloc[trn_idx])\n",
    "            val_data = lgb.Dataset(train.iloc[test_idx], label=y_col.iloc[test_idx])\n",
    "\n",
    "            clf = lgb.train(params, trn_data, 10000, valid_sets = [trn_data, val_data], verbose_eval=0, early_stopping_rounds=20)\n",
    "            preds_train[test_idx] = clf.predict(train.iloc[test_idx])\n",
    "            preds_test += clf.predict(test) / folds.n_splits\n",
    "        train_pred[target] = preds_train\n",
    "        test_pred[target] = clf.predict(test)\n",
    "\n",
    "    return test_pred,train_pred\n",
    "\n",
    "def stacking_nn(model, train, y, test, n_fold):\n",
    "    folds=KFold(n_splits=n_fold)\n",
    "    test_pred = pd.DataFrame(columns=y.columns)\n",
    "    train_pred = pd.DataFrame(columns=y.columns)\n",
    "    for train_indices,val_indices in folds.split(train):\n",
    "        x_train,x_val=train.iloc[train_indices],train.iloc[val_indices]\n",
    "        y_train,y_val=y.iloc[train_indices],y.iloc[val_indices]\n",
    "\n",
    "        model.fit(x_train, y_train, batch_size=32, validation_split=0.2, verbose=0, epochs=100)\n",
    "        train_preds = pd.DataFrame(model.predict_proba(x_val), columns=y.columns)\n",
    "        train_pred = train_pred.append(train_preds, ignore_index=True)\n",
    "    test_preds = pd.DataFrame(model.predict_proba(test), columns=y.columns)\n",
    "    test_pred = test_pred.append(test_preds, ignore_index=True)\n",
    "    return test_pred,train_pred\n",
    "\n",
    "def stacking_logreg(model, train, y, test, n_fold):\n",
    "    folds=KFold(n_splits=n_fold)\n",
    "    test_pred = pd.DataFrame(columns=y.columns)\n",
    "    train_pred = pd.DataFrame(columns=y.columns)\n",
    "    for train_indices,val_indices in folds.split(train):\n",
    "        x_trn,x_val=train.iloc[train_indices],train.iloc[val_indices]\n",
    "        y_trn,y_val=y.iloc[train_indices],y.iloc[val_indices]\n",
    "        \n",
    "        for col in y_train.columns:  # for when a split has only 0s as targets in a column\n",
    "            y_trn = y_trn.copy()\n",
    "            if (y_trn[col] == 0).all():\n",
    "                y_trn[col].iloc[0] = 1  # change first element to 1\n",
    "                \n",
    "        model.fit(x_trn, y_trn)\n",
    "        train_preds = model.predict_proba(x_val)\n",
    "        train_preds = np.array(train_preds)[:,:,1]\n",
    "        train_preds = pd.DataFrame(train_preds.T, columns=y.columns)\n",
    "        train_pred = train_pred.append(train_preds, ignore_index=True)\n",
    "    test_preds = model.predict_proba(test)\n",
    "    test_preds = np.array(test_preds)[:,:,1]\n",
    "    test_preds = pd.DataFrame(test_preds.T, columns=y.columns)\n",
    "    test_pred = test_pred.append(test_preds, ignore_index=True)\n",
    "    return test_pred,train_pred"
   ]
  },
  {
   "cell_type": "markdown",
   "metadata": {
    "papermill": {
     "duration": 0.023633,
     "end_time": "2020-12-11T05:38:56.052988",
     "exception": false,
     "start_time": "2020-12-11T05:38:56.029355",
     "status": "completed"
    },
    "tags": []
   },
   "source": [
    "## Base Models"
   ]
  },
  {
   "cell_type": "markdown",
   "metadata": {
    "papermill": {
     "duration": 0.024074,
     "end_time": "2020-12-11T05:38:56.101035",
     "exception": false,
     "start_time": "2020-12-11T05:38:56.076961",
     "status": "completed"
    },
    "tags": []
   },
   "source": [
    "### Logistic Regression"
   ]
  },
  {
   "cell_type": "code",
   "execution_count": 6,
   "metadata": {
    "execution": {
     "iopub.execute_input": "2020-12-11T05:38:56.169876Z",
     "iopub.status.busy": "2020-12-11T05:38:56.168216Z",
     "iopub.status.idle": "2020-12-11T05:38:56.866667Z",
     "shell.execute_reply": "2020-12-11T05:38:56.865866Z"
    },
    "papermill": {
     "duration": 0.741159,
     "end_time": "2020-12-11T05:38:56.866802",
     "exception": false,
     "start_time": "2020-12-11T05:38:56.125643",
     "status": "completed"
    },
    "tags": []
   },
   "outputs": [
    {
     "data": {
      "text/html": [
       "<div>\n",
       "<style scoped>\n",
       "    .dataframe tbody tr th:only-of-type {\n",
       "        vertical-align: middle;\n",
       "    }\n",
       "\n",
       "    .dataframe tbody tr th {\n",
       "        vertical-align: top;\n",
       "    }\n",
       "\n",
       "    .dataframe thead th {\n",
       "        text-align: right;\n",
       "    }\n",
       "</style>\n",
       "<table border=\"1\" class=\"dataframe\">\n",
       "  <thead>\n",
       "    <tr style=\"text-align: right;\">\n",
       "      <th></th>\n",
       "      <th>g-0</th>\n",
       "      <th>g-1</th>\n",
       "      <th>g-2</th>\n",
       "      <th>g-3</th>\n",
       "      <th>g-4</th>\n",
       "      <th>g-5</th>\n",
       "      <th>g-6</th>\n",
       "      <th>g-7</th>\n",
       "      <th>g-8</th>\n",
       "      <th>g-9</th>\n",
       "      <th>...</th>\n",
       "      <th>c-97</th>\n",
       "      <th>c-98</th>\n",
       "      <th>c-99</th>\n",
       "      <th>cp_type_ctl_vehicle</th>\n",
       "      <th>cp_type_trt_cp</th>\n",
       "      <th>cp_time_24</th>\n",
       "      <th>cp_time_48</th>\n",
       "      <th>cp_time_72</th>\n",
       "      <th>cp_dose_D1</th>\n",
       "      <th>cp_dose_D2</th>\n",
       "    </tr>\n",
       "  </thead>\n",
       "  <tbody>\n",
       "    <tr>\n",
       "      <th>0</th>\n",
       "      <td>0.587495</td>\n",
       "      <td>0.819669</td>\n",
       "      <td>-0.404962</td>\n",
       "      <td>-0.758524</td>\n",
       "      <td>-0.277536</td>\n",
       "      <td>-0.774113</td>\n",
       "      <td>-1.235604</td>\n",
       "      <td>0.142506</td>\n",
       "      <td>0.448638</td>\n",
       "      <td>-0.177931</td>\n",
       "      <td>...</td>\n",
       "      <td>0.358523</td>\n",
       "      <td>0.479884</td>\n",
       "      <td>0.533100</td>\n",
       "      <td>-0.29158</td>\n",
       "      <td>0.29158</td>\n",
       "      <td>1.436689</td>\n",
       "      <td>-0.728059</td>\n",
       "      <td>-0.697375</td>\n",
       "      <td>0.980043</td>\n",
       "      <td>-0.980043</td>\n",
       "    </tr>\n",
       "    <tr>\n",
       "      <th>1</th>\n",
       "      <td>-0.132368</td>\n",
       "      <td>0.626207</td>\n",
       "      <td>0.144569</td>\n",
       "      <td>-0.015806</td>\n",
       "      <td>0.957312</td>\n",
       "      <td>0.574388</td>\n",
       "      <td>0.266602</td>\n",
       "      <td>0.480924</td>\n",
       "      <td>-0.106182</td>\n",
       "      <td>0.713380</td>\n",
       "      <td>...</td>\n",
       "      <td>0.305291</td>\n",
       "      <td>0.605019</td>\n",
       "      <td>0.763341</td>\n",
       "      <td>-0.29158</td>\n",
       "      <td>0.29158</td>\n",
       "      <td>-0.696045</td>\n",
       "      <td>-0.728059</td>\n",
       "      <td>1.433950</td>\n",
       "      <td>0.980043</td>\n",
       "      <td>-0.980043</td>\n",
       "    </tr>\n",
       "    <tr>\n",
       "      <th>2</th>\n",
       "      <td>0.271184</td>\n",
       "      <td>0.850831</td>\n",
       "      <td>1.405277</td>\n",
       "      <td>-0.164960</td>\n",
       "      <td>-0.112571</td>\n",
       "      <td>1.206363</td>\n",
       "      <td>0.191737</td>\n",
       "      <td>0.369552</td>\n",
       "      <td>0.131590</td>\n",
       "      <td>1.071966</td>\n",
       "      <td>...</td>\n",
       "      <td>0.102085</td>\n",
       "      <td>-0.503215</td>\n",
       "      <td>0.731634</td>\n",
       "      <td>-0.29158</td>\n",
       "      <td>0.29158</td>\n",
       "      <td>-0.696045</td>\n",
       "      <td>1.373516</td>\n",
       "      <td>-0.697375</td>\n",
       "      <td>0.980043</td>\n",
       "      <td>-0.980043</td>\n",
       "    </tr>\n",
       "    <tr>\n",
       "      <th>3</th>\n",
       "      <td>-0.560991</td>\n",
       "      <td>-0.227885</td>\n",
       "      <td>-0.422744</td>\n",
       "      <td>0.494894</td>\n",
       "      <td>4.054101</td>\n",
       "      <td>-0.595949</td>\n",
       "      <td>-2.356190</td>\n",
       "      <td>0.336332</td>\n",
       "      <td>0.051446</td>\n",
       "      <td>-1.092973</td>\n",
       "      <td>...</td>\n",
       "      <td>-0.288974</td>\n",
       "      <td>0.057802</td>\n",
       "      <td>-0.355437</td>\n",
       "      <td>-0.29158</td>\n",
       "      <td>0.29158</td>\n",
       "      <td>-0.696045</td>\n",
       "      <td>1.373516</td>\n",
       "      <td>-0.697375</td>\n",
       "      <td>0.980043</td>\n",
       "      <td>-0.980043</td>\n",
       "    </tr>\n",
       "    <tr>\n",
       "      <th>4</th>\n",
       "      <td>-0.423680</td>\n",
       "      <td>-0.424983</td>\n",
       "      <td>0.818574</td>\n",
       "      <td>0.672723</td>\n",
       "      <td>1.363365</td>\n",
       "      <td>-0.609059</td>\n",
       "      <td>-0.348225</td>\n",
       "      <td>0.035252</td>\n",
       "      <td>-0.380383</td>\n",
       "      <td>0.725009</td>\n",
       "      <td>...</td>\n",
       "      <td>0.402744</td>\n",
       "      <td>0.062750</td>\n",
       "      <td>0.745614</td>\n",
       "      <td>-0.29158</td>\n",
       "      <td>0.29158</td>\n",
       "      <td>-0.696045</td>\n",
       "      <td>-0.728059</td>\n",
       "      <td>1.433950</td>\n",
       "      <td>-1.020364</td>\n",
       "      <td>1.020364</td>\n",
       "    </tr>\n",
       "  </tbody>\n",
       "</table>\n",
       "<p>5 rows × 879 columns</p>\n",
       "</div>"
      ],
      "text/plain": [
       "        g-0       g-1       g-2       g-3       g-4       g-5       g-6  \\\n",
       "0  0.587495  0.819669 -0.404962 -0.758524 -0.277536 -0.774113 -1.235604   \n",
       "1 -0.132368  0.626207  0.144569 -0.015806  0.957312  0.574388  0.266602   \n",
       "2  0.271184  0.850831  1.405277 -0.164960 -0.112571  1.206363  0.191737   \n",
       "3 -0.560991 -0.227885 -0.422744  0.494894  4.054101 -0.595949 -2.356190   \n",
       "4 -0.423680 -0.424983  0.818574  0.672723  1.363365 -0.609059 -0.348225   \n",
       "\n",
       "        g-7       g-8       g-9  ...      c-97      c-98      c-99  \\\n",
       "0  0.142506  0.448638 -0.177931  ...  0.358523  0.479884  0.533100   \n",
       "1  0.480924 -0.106182  0.713380  ...  0.305291  0.605019  0.763341   \n",
       "2  0.369552  0.131590  1.071966  ...  0.102085 -0.503215  0.731634   \n",
       "3  0.336332  0.051446 -1.092973  ... -0.288974  0.057802 -0.355437   \n",
       "4  0.035252 -0.380383  0.725009  ...  0.402744  0.062750  0.745614   \n",
       "\n",
       "   cp_type_ctl_vehicle  cp_type_trt_cp  cp_time_24  cp_time_48  cp_time_72  \\\n",
       "0             -0.29158         0.29158    1.436689   -0.728059   -0.697375   \n",
       "1             -0.29158         0.29158   -0.696045   -0.728059    1.433950   \n",
       "2             -0.29158         0.29158   -0.696045    1.373516   -0.697375   \n",
       "3             -0.29158         0.29158   -0.696045    1.373516   -0.697375   \n",
       "4             -0.29158         0.29158   -0.696045   -0.728059    1.433950   \n",
       "\n",
       "   cp_dose_D1  cp_dose_D2  \n",
       "0    0.980043   -0.980043  \n",
       "1    0.980043   -0.980043  \n",
       "2    0.980043   -0.980043  \n",
       "3    0.980043   -0.980043  \n",
       "4   -1.020364    1.020364  \n",
       "\n",
       "[5 rows x 879 columns]"
      ]
     },
     "execution_count": 6,
     "metadata": {},
     "output_type": "execute_result"
    }
   ],
   "source": [
    "scaler = StandardScaler()\n",
    "X_train_scaled = pd.DataFrame(scaler.fit_transform(X_train), columns=X_train.columns)\n",
    "X_test_scaled = pd.DataFrame(scaler.transform(X_test), columns=X_test.columns)\n",
    "X_train_scaled.head()"
   ]
  },
  {
   "cell_type": "code",
   "execution_count": 7,
   "metadata": {
    "execution": {
     "iopub.execute_input": "2020-12-11T05:38:56.923516Z",
     "iopub.status.busy": "2020-12-11T05:38:56.922350Z",
     "iopub.status.idle": "2020-12-11T05:38:56.926104Z",
     "shell.execute_reply": "2020-12-11T05:38:56.925259Z"
    },
    "papermill": {
     "duration": 0.034661,
     "end_time": "2020-12-11T05:38:56.926257",
     "exception": false,
     "start_time": "2020-12-11T05:38:56.891596",
     "status": "completed"
    },
    "tags": []
   },
   "outputs": [],
   "source": [
    "model0 = MultiOutputClassifier(LogisticRegression(C=0.01, solver=\"sag\", max_iter=200, random_state=0), n_jobs=-1)"
   ]
  },
  {
   "cell_type": "code",
   "execution_count": 8,
   "metadata": {
    "execution": {
     "iopub.execute_input": "2020-12-11T05:38:56.983382Z",
     "iopub.status.busy": "2020-12-11T05:38:56.982568Z",
     "iopub.status.idle": "2020-12-11T07:47:18.666103Z",
     "shell.execute_reply": "2020-12-11T07:47:18.665172Z"
    },
    "papermill": {
     "duration": 7701.714631,
     "end_time": "2020-12-11T07:47:18.666290",
     "exception": false,
     "start_time": "2020-12-11T05:38:56.951659",
     "status": "completed"
    },
    "tags": []
   },
   "outputs": [],
   "source": [
    "test_pred0, train_pred0 = stacking_logreg(model=model0, n_fold=3, train=X_train_scaled, test=X_test_scaled, y=y_train.copy())"
   ]
  },
  {
   "cell_type": "code",
   "execution_count": 9,
   "metadata": {
    "execution": {
     "iopub.execute_input": "2020-12-11T07:47:18.752612Z",
     "iopub.status.busy": "2020-12-11T07:47:18.751662Z",
     "iopub.status.idle": "2020-12-11T07:47:18.761578Z",
     "shell.execute_reply": "2020-12-11T07:47:18.760861Z"
    },
    "papermill": {
     "duration": 0.065775,
     "end_time": "2020-12-11T07:47:18.761741",
     "exception": false,
     "start_time": "2020-12-11T07:47:18.695966",
     "status": "completed"
    },
    "tags": []
   },
   "outputs": [
    {
     "name": "stdout",
     "output_type": "stream",
     "text": [
      "(23814, 206)\n",
      "(3982, 206)\n",
      "   5-alpha_reductase_inhibitor  11-beta-hsd1_inhibitor  acat_inhibitor  \\\n",
      "0                     0.004778                0.006790        0.002768   \n",
      "1                     0.003462                0.003832        0.004392   \n",
      "2                     0.003563                0.003301        0.005360   \n",
      "3                     0.003942                0.005014        0.003191   \n",
      "4                     0.002293                0.004487        0.008529   \n",
      "\n",
      "   acetylcholine_receptor_agonist  acetylcholine_receptor_antagonist  \\\n",
      "0                        0.012949                           0.124682   \n",
      "1                        0.009566                           0.019255   \n",
      "2                        0.001522                           0.023335   \n",
      "3                        0.001999                           0.003640   \n",
      "4                        0.016428                           0.003998   \n",
      "\n",
      "   acetylcholinesterase_inhibitor  adenosine_receptor_agonist  \\\n",
      "0                        0.008535                    0.008418   \n",
      "1                        0.008256                    0.004527   \n",
      "2                        0.004052                    0.003918   \n",
      "3                        0.004015                    0.004858   \n",
      "4                        0.005545                    0.005247   \n",
      "\n",
      "   adenosine_receptor_antagonist  adenylyl_cyclase_activator  \\\n",
      "0                       0.004783                    0.004074   \n",
      "1                       0.006642                    0.004264   \n",
      "2                       0.010229                    0.005545   \n",
      "3                       0.004347                    0.003183   \n",
      "4                       0.003686                    0.006007   \n",
      "\n",
      "   adrenergic_receptor_agonist  ...  tropomyosin_receptor_kinase_inhibitor  \\\n",
      "0                     0.009075  ...                               0.003294   \n",
      "1                     0.007526  ...                               0.003366   \n",
      "2                     0.004244  ...                               0.003318   \n",
      "3                     0.003708  ...                               0.003615   \n",
      "4                     0.038564  ...                               0.004633   \n",
      "\n",
      "   trpv_agonist  trpv_antagonist  tubulin_inhibitor  \\\n",
      "0      0.001646         0.003869           0.005281   \n",
      "1      0.004140         0.004318           0.007836   \n",
      "2      0.006357         0.004236           0.005797   \n",
      "3      0.013708         0.005468           0.159228   \n",
      "4      0.002528         0.002346           0.004765   \n",
      "\n",
      "   tyrosine_kinase_inhibitor  ubiquitin_specific_protease_inhibitor  \\\n",
      "0                   0.006302                               0.003256   \n",
      "1                   0.006631                               0.003079   \n",
      "2                   0.005030                               0.003634   \n",
      "3                   0.018372                               0.003903   \n",
      "4                   0.010711                               0.004493   \n",
      "\n",
      "   vegfr_inhibitor  vitamin_b  vitamin_d_receptor_agonist  wnt_inhibitor  \n",
      "0         0.002130   0.004186                    0.001969       0.006512  \n",
      "1         0.007975   0.006216                    0.011377       0.005530  \n",
      "2         0.018024   0.003447                    0.004999       0.002957  \n",
      "3         0.004996   0.004543                    0.001486       0.002506  \n",
      "4         0.007953   0.006708                    0.004958       0.007548  \n",
      "\n",
      "[5 rows x 206 columns]\n",
      "   5-alpha_reductase_inhibitor  11-beta-hsd1_inhibitor  acat_inhibitor  \\\n",
      "0                     0.001905                0.002299        0.002532   \n",
      "1                     0.000469                0.001325        0.001049   \n",
      "2                     0.001364                0.001308        0.001530   \n",
      "3                     0.001060                0.001093        0.001797   \n",
      "4                     0.002042                0.001426        0.003441   \n",
      "\n",
      "   acetylcholine_receptor_agonist  acetylcholine_receptor_antagonist  \\\n",
      "0                        0.026595                           0.009398   \n",
      "1                        0.000776                           0.003664   \n",
      "2                        0.002763                           0.003681   \n",
      "3                        0.004416                           0.004975   \n",
      "4                        0.008490                           0.017592   \n",
      "\n",
      "   acetylcholinesterase_inhibitor  adenosine_receptor_agonist  \\\n",
      "0                        0.004118                    0.002193   \n",
      "1                        0.005544                    0.002058   \n",
      "2                        0.001866                    0.001696   \n",
      "3                        0.005346                    0.001128   \n",
      "4                        0.001790                    0.003455   \n",
      "\n",
      "   adenosine_receptor_antagonist  adenylyl_cyclase_activator  \\\n",
      "0                       0.002356                    0.001223   \n",
      "1                       0.003770                    0.001994   \n",
      "2                       0.001970                    0.001241   \n",
      "3                       0.002145                    0.001007   \n",
      "4                       0.003515                    0.001220   \n",
      "\n",
      "   adrenergic_receptor_agonist  ...  tropomyosin_receptor_kinase_inhibitor  \\\n",
      "0                     0.013377  ...                               0.002903   \n",
      "1                     0.006247  ...                               0.001492   \n",
      "2                     0.003040  ...                               0.001228   \n",
      "3                     0.022360  ...                               0.001187   \n",
      "4                     0.007920  ...                               0.002179   \n",
      "\n",
      "   trpv_agonist  trpv_antagonist  tubulin_inhibitor  \\\n",
      "0      0.006702         0.003300           0.001558   \n",
      "1      0.001299         0.002376           0.000755   \n",
      "2      0.001375         0.001631           0.002497   \n",
      "3      0.000694         0.003488           0.021641   \n",
      "4      0.000742         0.004165           0.002278   \n",
      "\n",
      "   tyrosine_kinase_inhibitor  ubiquitin_specific_protease_inhibitor  \\\n",
      "0                   0.000978                               0.001751   \n",
      "1                   0.005306                               0.001281   \n",
      "2                   0.001478                               0.001308   \n",
      "3                   0.002905                               0.001090   \n",
      "4                   0.000552                               0.002117   \n",
      "\n",
      "   vegfr_inhibitor  vitamin_b  vitamin_d_receptor_agonist  wnt_inhibitor  \n",
      "0         0.003424   0.003598                    0.005359       0.001566  \n",
      "1         0.008543   0.001355                    0.002867       0.003394  \n",
      "2         0.002071   0.001530                    0.001393       0.001506  \n",
      "3         0.001890   0.002652                    0.001353       0.003331  \n",
      "4         0.004686   0.002075                    0.001655       0.002399  \n",
      "\n",
      "[5 rows x 206 columns]\n"
     ]
    }
   ],
   "source": [
    "print(train_pred0.shape)\n",
    "print(test_pred0.shape)\n",
    "print(train_pred0.head())\n",
    "print(test_pred0.head())"
   ]
  },
  {
   "cell_type": "markdown",
   "metadata": {
    "papermill": {
     "duration": 0.02567,
     "end_time": "2020-12-11T07:47:18.813905",
     "exception": false,
     "start_time": "2020-12-11T07:47:18.788235",
     "status": "completed"
    },
    "tags": []
   },
   "source": [
    "### Feed Forward Neural Network"
   ]
  },
  {
   "cell_type": "code",
   "execution_count": 10,
   "metadata": {
    "execution": {
     "iopub.execute_input": "2020-12-11T07:47:18.880375Z",
     "iopub.status.busy": "2020-12-11T07:47:18.877867Z",
     "iopub.status.idle": "2020-12-11T07:47:18.884234Z",
     "shell.execute_reply": "2020-12-11T07:47:18.883404Z"
    },
    "papermill": {
     "duration": 0.041958,
     "end_time": "2020-12-11T07:47:18.884379",
     "exception": false,
     "start_time": "2020-12-11T07:47:18.842421",
     "status": "completed"
    },
    "tags": []
   },
   "outputs": [],
   "source": [
    "def create_model(n_input):\n",
    "    model = Sequential()\n",
    "    model.add(Input(n_input))\n",
    "    model.add(BatchNormalization())\n",
    "    model.add(Dropout(0.3))\n",
    "    model.add(Dense(300, kernel_initializer='he_uniform', activation='sigmoid'))\n",
    "    model.add(Dropout(0.6)) \n",
    "    model.add(Dense(300, activation='sigmoid'))\n",
    "    model.add(Dropout(0.6))\n",
    "    model.add(Dense(700, activation='sigmoid'))\n",
    "    model.add(Dropout(0.6))\n",
    "    model.add(Dense(206, activation='sigmoid'))\n",
    "    \n",
    "    model.compile(loss='binary_crossentropy', optimizer='adamax', metrics=['accuracy'])\n",
    "    return model"
   ]
  },
  {
   "cell_type": "code",
   "execution_count": 11,
   "metadata": {
    "execution": {
     "iopub.execute_input": "2020-12-11T07:47:18.944498Z",
     "iopub.status.busy": "2020-12-11T07:47:18.943584Z",
     "iopub.status.idle": "2020-12-11T07:47:19.291520Z",
     "shell.execute_reply": "2020-12-11T07:47:19.292352Z"
    },
    "papermill": {
     "duration": 0.381572,
     "end_time": "2020-12-11T07:47:19.292569",
     "exception": false,
     "start_time": "2020-12-11T07:47:18.910997",
     "status": "completed"
    },
    "tags": []
   },
   "outputs": [
    {
     "name": "stdout",
     "output_type": "stream",
     "text": [
      "Model: \"sequential\"\n",
      "_________________________________________________________________\n",
      "Layer (type)                 Output Shape              Param #   \n",
      "=================================================================\n",
      "batch_normalization (BatchNo (None, 879)               3516      \n",
      "_________________________________________________________________\n",
      "dropout (Dropout)            (None, 879)               0         \n",
      "_________________________________________________________________\n",
      "dense (Dense)                (None, 300)               264000    \n",
      "_________________________________________________________________\n",
      "dropout_1 (Dropout)          (None, 300)               0         \n",
      "_________________________________________________________________\n",
      "dense_1 (Dense)              (None, 300)               90300     \n",
      "_________________________________________________________________\n",
      "dropout_2 (Dropout)          (None, 300)               0         \n",
      "_________________________________________________________________\n",
      "dense_2 (Dense)              (None, 700)               210700    \n",
      "_________________________________________________________________\n",
      "dropout_3 (Dropout)          (None, 700)               0         \n",
      "_________________________________________________________________\n",
      "dense_3 (Dense)              (None, 206)               144406    \n",
      "=================================================================\n",
      "Total params: 712,922\n",
      "Trainable params: 711,164\n",
      "Non-trainable params: 1,758\n",
      "_________________________________________________________________\n"
     ]
    }
   ],
   "source": [
    "model1 = create_model(len(columns))\n",
    "model1.summary()"
   ]
  },
  {
   "cell_type": "code",
   "execution_count": 12,
   "metadata": {
    "execution": {
     "iopub.execute_input": "2020-12-11T07:47:19.387817Z",
     "iopub.status.busy": "2020-12-11T07:47:19.386504Z",
     "iopub.status.idle": "2020-12-11T08:19:49.585662Z",
     "shell.execute_reply": "2020-12-11T08:19:49.584803Z"
    },
    "papermill": {
     "duration": 1950.264403,
     "end_time": "2020-12-11T08:19:49.585810",
     "exception": false,
     "start_time": "2020-12-11T07:47:19.321407",
     "status": "completed"
    },
    "tags": []
   },
   "outputs": [],
   "source": [
    "test_pred1, train_pred1 = stacking_nn(model=model1, n_fold=5, train=X_train, test=X_test, y=y_train)"
   ]
  },
  {
   "cell_type": "code",
   "execution_count": 13,
   "metadata": {
    "execution": {
     "iopub.execute_input": "2020-12-11T08:19:49.673197Z",
     "iopub.status.busy": "2020-12-11T08:19:49.672161Z",
     "iopub.status.idle": "2020-12-11T08:19:49.676578Z",
     "shell.execute_reply": "2020-12-11T08:19:49.677517Z"
    },
    "papermill": {
     "duration": 0.064235,
     "end_time": "2020-12-11T08:19:49.677754",
     "exception": false,
     "start_time": "2020-12-11T08:19:49.613519",
     "status": "completed"
    },
    "tags": []
   },
   "outputs": [
    {
     "name": "stdout",
     "output_type": "stream",
     "text": [
      "(23814, 206)\n",
      "(3982, 206)\n",
      "   5-alpha_reductase_inhibitor  11-beta-hsd1_inhibitor  acat_inhibitor  \\\n",
      "0                     0.001160                0.000845        0.001319   \n",
      "1                     0.000699                0.000811        0.001830   \n",
      "2                     0.001238                0.001407        0.001422   \n",
      "3                     0.000001                0.000043        0.001202   \n",
      "4                     0.000871                0.001404        0.001999   \n",
      "\n",
      "   acetylcholine_receptor_agonist  acetylcholine_receptor_antagonist  \\\n",
      "0                        0.012465                           0.023770   \n",
      "1                        0.012853                           0.019105   \n",
      "2                        0.005837                           0.013817   \n",
      "3                        0.001693                           0.000324   \n",
      "4                        0.014842                           0.023213   \n",
      "\n",
      "   acetylcholinesterase_inhibitor  adenosine_receptor_agonist  \\\n",
      "0                        0.003805                    0.003442   \n",
      "1                        0.004654                    0.004073   \n",
      "2                        0.005839                    0.003540   \n",
      "3                        0.000201                    0.000505   \n",
      "4                        0.004603                    0.004431   \n",
      "\n",
      "   adenosine_receptor_antagonist  adenylyl_cyclase_activator  \\\n",
      "0                       0.005383                4.987419e-04   \n",
      "1                       0.002699                1.320541e-04   \n",
      "2                       0.006557                1.247019e-03   \n",
      "3                       0.000214                3.033357e-07   \n",
      "4                       0.003231                2.106428e-04   \n",
      "\n",
      "   adrenergic_receptor_agonist  ...  tropomyosin_receptor_kinase_inhibitor  \\\n",
      "0                     0.018895  ...                               0.000270   \n",
      "1                     0.012585  ...                               0.000441   \n",
      "2                     0.019554  ...                               0.000194   \n",
      "3                     0.000340  ...                               0.000004   \n",
      "4                     0.013824  ...                               0.000479   \n",
      "\n",
      "   trpv_agonist  trpv_antagonist  tubulin_inhibitor  \\\n",
      "0      0.000149         0.002805           0.000334   \n",
      "1      0.000437         0.003480           0.003207   \n",
      "2      0.000780         0.002858           0.001455   \n",
      "3      0.014672         0.000234           0.505661   \n",
      "4      0.000747         0.003841           0.003835   \n",
      "\n",
      "   tyrosine_kinase_inhibitor  ubiquitin_specific_protease_inhibitor  \\\n",
      "0                   0.001232                               0.000235   \n",
      "1                   0.001036                               0.000204   \n",
      "2                   0.003799                               0.000307   \n",
      "3                   0.003368                               0.000004   \n",
      "4                   0.001097                               0.000296   \n",
      "\n",
      "   vegfr_inhibitor  vitamin_b  vitamin_d_receptor_agonist  wnt_inhibitor  \n",
      "0         0.001037   0.001571                    0.002101       0.001998  \n",
      "1         0.000967   0.001573                    0.002793       0.001591  \n",
      "2         0.006952   0.001111                    0.002896       0.001464  \n",
      "3         0.002807   0.000090                    0.000121       0.000057  \n",
      "4         0.000949   0.001798                    0.002641       0.001465  \n",
      "\n",
      "[5 rows x 206 columns]\n",
      "   5-alpha_reductase_inhibitor  11-beta-hsd1_inhibitor  acat_inhibitor  \\\n",
      "0                     0.000219            1.082460e-04    2.586842e-03   \n",
      "1                     0.000681            9.990931e-04    6.939173e-04   \n",
      "2                     0.000000            8.536637e-38    1.170735e-28   \n",
      "3                     0.000909            4.323125e-04    2.407640e-03   \n",
      "4                     0.000764            4.588664e-04    2.329707e-03   \n",
      "\n",
      "   acetylcholine_receptor_agonist  acetylcholine_receptor_antagonist  \\\n",
      "0                    2.249599e-02                       2.623314e-02   \n",
      "1                    6.699562e-04                       3.449380e-03   \n",
      "2                    1.211324e-18                       2.659080e-18   \n",
      "3                    1.720089e-02                       2.619779e-02   \n",
      "4                    2.330431e-02                       2.820349e-02   \n",
      "\n",
      "   acetylcholinesterase_inhibitor  adenosine_receptor_agonist  \\\n",
      "0                    3.468454e-03                4.007339e-03   \n",
      "1                    2.164215e-03                1.245290e-03   \n",
      "2                    1.317821e-27                2.950853e-26   \n",
      "3                    5.910784e-03                3.917694e-03   \n",
      "4                    4.874587e-03                7.759005e-03   \n",
      "\n",
      "   adenosine_receptor_antagonist  adenylyl_cyclase_activator  \\\n",
      "0                   2.649426e-03                    0.000015   \n",
      "1                   5.699492e-02                    0.008130   \n",
      "2                   2.598333e-27                    0.000000   \n",
      "3                   5.110055e-03                    0.000016   \n",
      "4                   3.000885e-03                    0.000163   \n",
      "\n",
      "   adrenergic_receptor_agonist  ...  tropomyosin_receptor_kinase_inhibitor  \\\n",
      "0                 8.122265e-03  ...                           1.924604e-03   \n",
      "1                 1.358342e-02  ...                           2.211856e-05   \n",
      "2                 2.310723e-19  ...                           2.574570e-38   \n",
      "3                 1.027650e-02  ...                           3.514886e-04   \n",
      "4                 1.745394e-02  ...                           8.811951e-04   \n",
      "\n",
      "   trpv_agonist  trpv_antagonist  tubulin_inhibitor  \\\n",
      "0  8.753538e-04     5.036741e-03       1.768500e-03   \n",
      "1  1.862943e-04     3.238171e-03       9.259502e-05   \n",
      "2  2.731978e-34     3.033970e-28       7.822681e-20   \n",
      "3  1.594841e-03     3.740638e-03       9.417236e-03   \n",
      "4  9.219646e-04     5.618840e-03       1.773745e-03   \n",
      "\n",
      "   tyrosine_kinase_inhibitor  ubiquitin_specific_protease_inhibitor  \\\n",
      "0               2.774000e-04                           1.182935e-04   \n",
      "1               1.763189e-02                           2.617538e-04   \n",
      "2               1.698579e-24                           1.095412e-36   \n",
      "3               5.263895e-03                           3.792644e-04   \n",
      "4               7.183552e-04                           4.440546e-04   \n",
      "\n",
      "   vegfr_inhibitor     vitamin_b  vitamin_d_receptor_agonist  wnt_inhibitor  \n",
      "0     9.176731e-04  2.719730e-03                    0.000694   9.003878e-04  \n",
      "1     2.236474e-02  5.277991e-04                    0.001056   2.467662e-03  \n",
      "2     2.696947e-27  8.559461e-31                    0.000000   1.192978e-30  \n",
      "3     1.164347e-03  2.420664e-03                    0.001147   3.451198e-03  \n",
      "4     1.320243e-03  3.299087e-03                    0.000223   1.621246e-03  \n",
      "\n",
      "[5 rows x 206 columns]\n"
     ]
    }
   ],
   "source": [
    "print(train_pred1.shape)\n",
    "print(test_pred1.shape)\n",
    "print(train_pred1.head())\n",
    "print(test_pred1.head())"
   ]
  },
  {
   "cell_type": "markdown",
   "metadata": {
    "papermill": {
     "duration": 0.027414,
     "end_time": "2020-12-11T08:19:49.737193",
     "exception": false,
     "start_time": "2020-12-11T08:19:49.709779",
     "status": "completed"
    },
    "tags": []
   },
   "source": [
    "### LightGBM"
   ]
  },
  {
   "cell_type": "code",
   "execution_count": 14,
   "metadata": {
    "execution": {
     "iopub.execute_input": "2020-12-11T08:19:49.832133Z",
     "iopub.status.busy": "2020-12-11T08:19:49.822938Z",
     "iopub.status.idle": "2020-12-11T09:43:01.702915Z",
     "shell.execute_reply": "2020-12-11T09:43:01.703698Z"
    },
    "papermill": {
     "duration": 4991.939114,
     "end_time": "2020-12-11T09:43:01.703903",
     "exception": false,
     "start_time": "2020-12-11T08:19:49.764789",
     "status": "completed"
    },
    "tags": []
   },
   "outputs": [],
   "source": [
    "params = {\n",
    "    'objective': 'binary',\n",
    "    'metric': 'binary_logloss',\n",
    "    'boosting_type': \"gbdt\",\n",
    "    'num_leaves': 500,\n",
    "    'min_child_weight': 0.01,\n",
    "    'feature_fraction': 0.5,\n",
    "    'bagging_fraction': 0.6,\n",
    "    'min_data_in_leaf': 100,\n",
    "    'max_depth': -1,\n",
    "    'learning_rate': 0.01,\n",
    "    'bagging_seed': 11,\n",
    "    'verbosity': 0,\n",
    "    'reg_alpha': 0.4,\n",
    "    'reg_lambda': 0.6,\n",
    "    'random_state': 0\n",
    "         }\n",
    "\n",
    "test_pred2, train_pred2 = stacking_gbm(n_fold=3, train=X_train, test=X_test, y=y_train, params=params)"
   ]
  },
  {
   "cell_type": "code",
   "execution_count": 15,
   "metadata": {
    "execution": {
     "iopub.execute_input": "2020-12-11T09:43:01.784339Z",
     "iopub.status.busy": "2020-12-11T09:43:01.782968Z",
     "iopub.status.idle": "2020-12-11T09:43:01.844552Z",
     "shell.execute_reply": "2020-12-11T09:43:01.845377Z"
    },
    "papermill": {
     "duration": 0.107351,
     "end_time": "2020-12-11T09:43:01.845591",
     "exception": false,
     "start_time": "2020-12-11T09:43:01.738240",
     "status": "completed"
    },
    "tags": []
   },
   "outputs": [
    {
     "name": "stdout",
     "output_type": "stream",
     "text": [
      "(23814, 206)\n",
      "(3982, 206)\n",
      "   5-alpha_reductase_inhibitor  11-beta-hsd1_inhibitor  acat_inhibitor  \\\n",
      "0                     0.000690                0.000178        0.001004   \n",
      "1                     0.000687                0.000264        0.001011   \n",
      "2                     0.000690                0.000713        0.001004   \n",
      "3                     0.000687                0.000439        0.001045   \n",
      "4                     0.000690                0.000153        0.001109   \n",
      "\n",
      "   acetylcholine_receptor_agonist  acetylcholine_receptor_antagonist  \\\n",
      "0                        0.005602                           0.012616   \n",
      "1                        0.007729                           0.007978   \n",
      "2                        0.006266                           0.009222   \n",
      "3                        0.005178                           0.004784   \n",
      "4                        0.007295                           0.011268   \n",
      "\n",
      "   acetylcholinesterase_inhibitor  adenosine_receptor_agonist  \\\n",
      "0                        0.001528                    0.002619   \n",
      "1                        0.001393                    0.001982   \n",
      "2                        0.002062                    0.002670   \n",
      "3                        0.001499                    0.001825   \n",
      "4                        0.002552                    0.002097   \n",
      "\n",
      "   adenosine_receptor_antagonist  adenylyl_cyclase_activator  \\\n",
      "0                       0.003113                    0.000297   \n",
      "1                       0.003157                    0.000196   \n",
      "2                       0.003668                    0.000376   \n",
      "3                       0.002889                    0.000216   \n",
      "4                       0.004920                    0.000253   \n",
      "\n",
      "   adrenergic_receptor_agonist  ...  tropomyosin_receptor_kinase_inhibitor  \\\n",
      "0                     0.006883  ...                               0.000188   \n",
      "1                     0.007145  ...                               0.000188   \n",
      "2                     0.010436  ...                               0.000188   \n",
      "3                     0.003700  ...                               0.000188   \n",
      "4                     0.008002  ...                               0.000188   \n",
      "\n",
      "   trpv_agonist  trpv_antagonist  tubulin_inhibitor  \\\n",
      "0      0.000414         0.001872           0.001022   \n",
      "1      0.000396         0.001710           0.001022   \n",
      "2      0.000467         0.002004           0.002605   \n",
      "3      0.001497         0.001685           0.100413   \n",
      "4      0.000423         0.001945           0.003037   \n",
      "\n",
      "   tyrosine_kinase_inhibitor  ubiquitin_specific_protease_inhibitor  \\\n",
      "0                   0.002332                               0.000124   \n",
      "1                   0.001506                               0.000124   \n",
      "2                   0.002983                               0.000124   \n",
      "3                   0.003599                               0.000125   \n",
      "4                   0.001726                               0.000126   \n",
      "\n",
      "   vegfr_inhibitor  vitamin_b  vitamin_d_receptor_agonist  wnt_inhibitor  \n",
      "0         0.001134   0.000972                    0.000104       0.001124  \n",
      "1         0.001154   0.000983                    0.000273       0.001131  \n",
      "2         0.077856   0.000977                    0.000110       0.001129  \n",
      "3         0.001350   0.000984                    0.000117       0.001148  \n",
      "4         0.002252   0.000986                    0.000280       0.001117  \n",
      "\n",
      "[5 rows x 206 columns]\n",
      "   5-alpha_reductase_inhibitor  11-beta-hsd1_inhibitor  acat_inhibitor  \\\n",
      "0                     0.000402                  0.0005        0.000920   \n",
      "1                     0.000313                  0.0005        0.000920   \n",
      "2                     0.000295                  0.0005        0.000920   \n",
      "3                     0.000299                  0.0005        0.000923   \n",
      "4                     0.000378                  0.0005        0.000920   \n",
      "\n",
      "   acetylcholine_receptor_agonist  acetylcholine_receptor_antagonist  \\\n",
      "0                        0.011019                           0.009634   \n",
      "1                        0.007246                           0.006673   \n",
      "2                        0.007241                           0.004233   \n",
      "3                        0.008377                           0.007695   \n",
      "4                        0.007563                           0.008082   \n",
      "\n",
      "   acetylcholinesterase_inhibitor  adenosine_receptor_agonist  \\\n",
      "0                        0.002486                    0.001834   \n",
      "1                        0.002470                    0.001636   \n",
      "2                        0.002463                    0.001364   \n",
      "3                        0.002507                    0.001383   \n",
      "4                        0.002468                    0.001655   \n",
      "\n",
      "   adenosine_receptor_antagonist  adenylyl_cyclase_activator  \\\n",
      "0                       0.003610                    0.000089   \n",
      "1                       0.003617                    0.000072   \n",
      "2                       0.003610                    0.000070   \n",
      "3                       0.003628                    0.000070   \n",
      "4                       0.003610                    0.000092   \n",
      "\n",
      "   adrenergic_receptor_agonist  ...  tropomyosin_receptor_kinase_inhibitor  \\\n",
      "0                     0.010974  ...                               0.000160   \n",
      "1                     0.007663  ...                               0.000139   \n",
      "2                     0.003628  ...                               0.000139   \n",
      "3                     0.009276  ...                               0.000139   \n",
      "4                     0.007663  ...                               0.000179   \n",
      "\n",
      "   trpv_agonist  trpv_antagonist  tubulin_inhibitor  \\\n",
      "0      0.000478         0.001340           0.000964   \n",
      "1      0.000443         0.001298           0.000426   \n",
      "2      0.000370         0.001136           0.000258   \n",
      "3      0.000413         0.001213           0.001984   \n",
      "4      0.000392         0.001888           0.001364   \n",
      "\n",
      "   tyrosine_kinase_inhibitor  ubiquitin_specific_protease_inhibitor  \\\n",
      "0                   0.001523                               0.000027   \n",
      "1                   0.008850                               0.000033   \n",
      "2                   0.001374                               0.000016   \n",
      "3                   0.001450                               0.000037   \n",
      "4                   0.001565                               0.000034   \n",
      "\n",
      "   vegfr_inhibitor  vitamin_b  vitamin_d_receptor_agonist  wnt_inhibitor  \n",
      "0         0.000983   0.001061                    0.000378       0.001274  \n",
      "1         0.001444   0.001061                    0.001807       0.001277  \n",
      "2         0.000716   0.001061                    0.000338       0.001274  \n",
      "3         0.001317   0.001061                    0.000404       0.001309  \n",
      "4         0.001025   0.001061                    0.000471       0.001274  \n",
      "\n",
      "[5 rows x 206 columns]\n"
     ]
    }
   ],
   "source": [
    "print(train_pred2.shape)\n",
    "print(test_pred2.shape)\n",
    "print(train_pred2.head())\n",
    "print(test_pred2.head())"
   ]
  },
  {
   "cell_type": "markdown",
   "metadata": {
    "papermill": {
     "duration": 0.031923,
     "end_time": "2020-12-11T09:43:01.923224",
     "exception": false,
     "start_time": "2020-12-11T09:43:01.891301",
     "status": "completed"
    },
    "tags": []
   },
   "source": [
    "### Meta learning NN"
   ]
  },
  {
   "cell_type": "code",
   "execution_count": 16,
   "metadata": {
    "execution": {
     "iopub.execute_input": "2020-12-11T09:43:01.993680Z",
     "iopub.status.busy": "2020-12-11T09:43:01.992869Z",
     "iopub.status.idle": "2020-12-11T09:43:02.082131Z",
     "shell.execute_reply": "2020-12-11T09:43:02.080903Z"
    },
    "papermill": {
     "duration": 0.129804,
     "end_time": "2020-12-11T09:43:02.082309",
     "exception": false,
     "start_time": "2020-12-11T09:43:01.952505",
     "status": "completed"
    },
    "tags": []
   },
   "outputs": [
    {
     "name": "stdout",
     "output_type": "stream",
     "text": [
      "(23814, 618)\n",
      "(23814, 206)\n",
      "(3982, 618)\n",
      "   5-alpha_reductase_inhibitor  11-beta-hsd1_inhibitor  acat_inhibitor  \\\n",
      "0                     0.004778                0.006790        0.002768   \n",
      "1                     0.003462                0.003832        0.004392   \n",
      "2                     0.003563                0.003301        0.005360   \n",
      "3                     0.003942                0.005014        0.003191   \n",
      "4                     0.002293                0.004487        0.008529   \n",
      "\n",
      "   acetylcholine_receptor_agonist  acetylcholine_receptor_antagonist  \\\n",
      "0                        0.012949                           0.124682   \n",
      "1                        0.009566                           0.019255   \n",
      "2                        0.001522                           0.023335   \n",
      "3                        0.001999                           0.003640   \n",
      "4                        0.016428                           0.003998   \n",
      "\n",
      "   acetylcholinesterase_inhibitor  adenosine_receptor_agonist  \\\n",
      "0                        0.008535                    0.008418   \n",
      "1                        0.008256                    0.004527   \n",
      "2                        0.004052                    0.003918   \n",
      "3                        0.004015                    0.004858   \n",
      "4                        0.005545                    0.005247   \n",
      "\n",
      "   adenosine_receptor_antagonist  adenylyl_cyclase_activator  \\\n",
      "0                       0.004783                    0.004074   \n",
      "1                       0.006642                    0.004264   \n",
      "2                       0.010229                    0.005545   \n",
      "3                       0.004347                    0.003183   \n",
      "4                       0.003686                    0.006007   \n",
      "\n",
      "   adrenergic_receptor_agonist  ...  tropomyosin_receptor_kinase_inhibitor  \\\n",
      "0                     0.009075  ...                               0.000188   \n",
      "1                     0.007526  ...                               0.000188   \n",
      "2                     0.004244  ...                               0.000188   \n",
      "3                     0.003708  ...                               0.000188   \n",
      "4                     0.038564  ...                               0.000188   \n",
      "\n",
      "   trpv_agonist  trpv_antagonist  tubulin_inhibitor  \\\n",
      "0      0.000414         0.001872           0.001022   \n",
      "1      0.000396         0.001710           0.001022   \n",
      "2      0.000467         0.002004           0.002605   \n",
      "3      0.001497         0.001685           0.100413   \n",
      "4      0.000423         0.001945           0.003037   \n",
      "\n",
      "   tyrosine_kinase_inhibitor  ubiquitin_specific_protease_inhibitor  \\\n",
      "0                   0.002332                               0.000124   \n",
      "1                   0.001506                               0.000124   \n",
      "2                   0.002983                               0.000124   \n",
      "3                   0.003599                               0.000125   \n",
      "4                   0.001726                               0.000126   \n",
      "\n",
      "   vegfr_inhibitor  vitamin_b  vitamin_d_receptor_agonist  wnt_inhibitor  \n",
      "0         0.001134   0.000972                    0.000104       0.001124  \n",
      "1         0.001154   0.000983                    0.000273       0.001131  \n",
      "2         0.077856   0.000977                    0.000110       0.001129  \n",
      "3         0.001350   0.000984                    0.000117       0.001148  \n",
      "4         0.002252   0.000986                    0.000280       0.001117  \n",
      "\n",
      "[5 rows x 618 columns]\n",
      "   5-alpha_reductase_inhibitor  11-beta-hsd1_inhibitor  acat_inhibitor  \\\n",
      "0                     0.001905                0.002299        0.002532   \n",
      "1                     0.000469                0.001325        0.001049   \n",
      "2                     0.001364                0.001308        0.001530   \n",
      "3                     0.001060                0.001093        0.001797   \n",
      "4                     0.002042                0.001426        0.003441   \n",
      "\n",
      "   acetylcholine_receptor_agonist  acetylcholine_receptor_antagonist  \\\n",
      "0                        0.026595                           0.009398   \n",
      "1                        0.000776                           0.003664   \n",
      "2                        0.002763                           0.003681   \n",
      "3                        0.004416                           0.004975   \n",
      "4                        0.008490                           0.017592   \n",
      "\n",
      "   acetylcholinesterase_inhibitor  adenosine_receptor_agonist  \\\n",
      "0                        0.004118                    0.002193   \n",
      "1                        0.005544                    0.002058   \n",
      "2                        0.001866                    0.001696   \n",
      "3                        0.005346                    0.001128   \n",
      "4                        0.001790                    0.003455   \n",
      "\n",
      "   adenosine_receptor_antagonist  adenylyl_cyclase_activator  \\\n",
      "0                       0.002356                    0.001223   \n",
      "1                       0.003770                    0.001994   \n",
      "2                       0.001970                    0.001241   \n",
      "3                       0.002145                    0.001007   \n",
      "4                       0.003515                    0.001220   \n",
      "\n",
      "   adrenergic_receptor_agonist  ...  tropomyosin_receptor_kinase_inhibitor  \\\n",
      "0                     0.013377  ...                               0.000160   \n",
      "1                     0.006247  ...                               0.000139   \n",
      "2                     0.003040  ...                               0.000139   \n",
      "3                     0.022360  ...                               0.000139   \n",
      "4                     0.007920  ...                               0.000179   \n",
      "\n",
      "   trpv_agonist  trpv_antagonist  tubulin_inhibitor  \\\n",
      "0      0.000478         0.001340           0.000964   \n",
      "1      0.000443         0.001298           0.000426   \n",
      "2      0.000370         0.001136           0.000258   \n",
      "3      0.000413         0.001213           0.001984   \n",
      "4      0.000392         0.001888           0.001364   \n",
      "\n",
      "   tyrosine_kinase_inhibitor  ubiquitin_specific_protease_inhibitor  \\\n",
      "0                   0.001523                               0.000027   \n",
      "1                   0.008850                               0.000033   \n",
      "2                   0.001374                               0.000016   \n",
      "3                   0.001450                               0.000037   \n",
      "4                   0.001565                               0.000034   \n",
      "\n",
      "   vegfr_inhibitor  vitamin_b  vitamin_d_receptor_agonist  wnt_inhibitor  \n",
      "0         0.000983   0.001061                    0.000378       0.001274  \n",
      "1         0.001444   0.001061                    0.001807       0.001277  \n",
      "2         0.000716   0.001061                    0.000338       0.001274  \n",
      "3         0.001317   0.001061                    0.000404       0.001309  \n",
      "4         0.001025   0.001061                    0.000471       0.001274  \n",
      "\n",
      "[5 rows x 618 columns]\n"
     ]
    }
   ],
   "source": [
    "df_train = pd.concat([train_pred0, train_pred1, train_pred2], axis=1)\n",
    "df_test = pd.concat([test_pred0, test_pred1, test_pred2], axis=1)\n",
    "print(df_train.shape)\n",
    "print(y_train.shape)\n",
    "print(df_test.shape)\n",
    "print(df_train.head())\n",
    "print(df_test.head())"
   ]
  },
  {
   "cell_type": "code",
   "execution_count": 17,
   "metadata": {
    "execution": {
     "iopub.execute_input": "2020-12-11T09:43:02.155555Z",
     "iopub.status.busy": "2020-12-11T09:43:02.154363Z",
     "iopub.status.idle": "2020-12-11T09:43:02.157909Z",
     "shell.execute_reply": "2020-12-11T09:43:02.157254Z"
    },
    "papermill": {
     "duration": 0.044003,
     "end_time": "2020-12-11T09:43:02.158081",
     "exception": false,
     "start_time": "2020-12-11T09:43:02.114078",
     "status": "completed"
    },
    "tags": []
   },
   "outputs": [],
   "source": [
    "def create_meta_model(n_input):\n",
    "    model = Sequential()\n",
    "    model.add(Input(n_input))\n",
    "    model.add(BatchNormalization())\n",
    "    model.add(Dropout(0.3))\n",
    "    model.add(Dense(1024, activation=\"sigmoid\"))\n",
    "    model.add(Dropout(0.6))\n",
    "    model.add(Dense(512, activation=\"sigmoid\"))\n",
    "    model.add(Dropout(0.6))\n",
    "    model.add(Dense(206, activation=\"sigmoid\"))\n",
    "    model.compile(optimizer=\"adamax\", loss='binary_crossentropy', metrics=['accuracy'])\n",
    "    return model"
   ]
  },
  {
   "cell_type": "code",
   "execution_count": 18,
   "metadata": {
    "execution": {
     "iopub.execute_input": "2020-12-11T09:43:02.227389Z",
     "iopub.status.busy": "2020-12-11T09:43:02.226605Z",
     "iopub.status.idle": "2020-12-11T09:43:02.339009Z",
     "shell.execute_reply": "2020-12-11T09:43:02.337954Z"
    },
    "papermill": {
     "duration": 0.150007,
     "end_time": "2020-12-11T09:43:02.339218",
     "exception": false,
     "start_time": "2020-12-11T09:43:02.189211",
     "status": "completed"
    },
    "tags": []
   },
   "outputs": [
    {
     "name": "stdout",
     "output_type": "stream",
     "text": [
      "Model: \"sequential_1\"\n",
      "_________________________________________________________________\n",
      "Layer (type)                 Output Shape              Param #   \n",
      "=================================================================\n",
      "batch_normalization_1 (Batch (None, 618)               2472      \n",
      "_________________________________________________________________\n",
      "dropout_4 (Dropout)          (None, 618)               0         \n",
      "_________________________________________________________________\n",
      "dense_4 (Dense)              (None, 1024)              633856    \n",
      "_________________________________________________________________\n",
      "dropout_5 (Dropout)          (None, 1024)              0         \n",
      "_________________________________________________________________\n",
      "dense_5 (Dense)              (None, 512)               524800    \n",
      "_________________________________________________________________\n",
      "dropout_6 (Dropout)          (None, 512)               0         \n",
      "_________________________________________________________________\n",
      "dense_6 (Dense)              (None, 206)               105678    \n",
      "=================================================================\n",
      "Total params: 1,266,806\n",
      "Trainable params: 1,265,570\n",
      "Non-trainable params: 1,236\n",
      "_________________________________________________________________\n"
     ]
    }
   ],
   "source": [
    "meta_model = create_meta_model(df_train.shape[1])\n",
    "meta_model.summary()"
   ]
  },
  {
   "cell_type": "code",
   "execution_count": 19,
   "metadata": {
    "execution": {
     "iopub.execute_input": "2020-12-11T09:43:02.408289Z",
     "iopub.status.busy": "2020-12-11T09:43:02.407487Z",
     "iopub.status.idle": "2020-12-11T09:45:30.001247Z",
     "shell.execute_reply": "2020-12-11T09:45:30.001928Z"
    },
    "papermill": {
     "duration": 147.631881,
     "end_time": "2020-12-11T09:45:30.002154",
     "exception": false,
     "start_time": "2020-12-11T09:43:02.370273",
     "status": "completed"
    },
    "tags": []
   },
   "outputs": [
    {
     "name": "stdout",
     "output_type": "stream",
     "text": [
      "Epoch 1/20\n",
      "596/596 [==============================] - 8s 14ms/step - loss: 0.0311 - accuracy: 0.0120 - val_loss: 0.0211 - val_accuracy: 0.0334\n",
      "Epoch 2/20\n",
      "596/596 [==============================] - 8s 13ms/step - loss: 0.0222 - accuracy: 0.0266 - val_loss: 0.0196 - val_accuracy: 0.0632\n",
      "Epoch 3/20\n",
      "596/596 [==============================] - 7s 13ms/step - loss: 0.0206 - accuracy: 0.0468 - val_loss: 0.0183 - val_accuracy: 0.0842\n",
      "Epoch 4/20\n",
      "596/596 [==============================] - 7s 12ms/step - loss: 0.0193 - accuracy: 0.0767 - val_loss: 0.0173 - val_accuracy: 0.0823\n",
      "Epoch 5/20\n",
      "596/596 [==============================] - 7s 12ms/step - loss: 0.0184 - accuracy: 0.0892 - val_loss: 0.0169 - val_accuracy: 0.1014\n",
      "Epoch 6/20\n",
      "596/596 [==============================] - 7s 12ms/step - loss: 0.0178 - accuracy: 0.0973 - val_loss: 0.0165 - val_accuracy: 0.1016\n",
      "Epoch 7/20\n",
      "596/596 [==============================] - 7s 12ms/step - loss: 0.0174 - accuracy: 0.1013 - val_loss: 0.0164 - val_accuracy: 0.1098\n",
      "Epoch 8/20\n",
      "596/596 [==============================] - 7s 12ms/step - loss: 0.0171 - accuracy: 0.1046 - val_loss: 0.0162 - val_accuracy: 0.1138\n",
      "Epoch 9/20\n",
      "596/596 [==============================] - 7s 12ms/step - loss: 0.0168 - accuracy: 0.1051 - val_loss: 0.0160 - val_accuracy: 0.1125\n",
      "Epoch 10/20\n",
      "596/596 [==============================] - 8s 13ms/step - loss: 0.0167 - accuracy: 0.1097 - val_loss: 0.0159 - val_accuracy: 0.1146\n",
      "Epoch 11/20\n",
      "596/596 [==============================] - 7s 12ms/step - loss: 0.0165 - accuracy: 0.1069 - val_loss: 0.0158 - val_accuracy: 0.1146\n",
      "Epoch 12/20\n",
      "596/596 [==============================] - 7s 12ms/step - loss: 0.0164 - accuracy: 0.1133 - val_loss: 0.0157 - val_accuracy: 0.1151\n",
      "Epoch 13/20\n",
      "596/596 [==============================] - 7s 12ms/step - loss: 0.0162 - accuracy: 0.1126 - val_loss: 0.0156 - val_accuracy: 0.1180\n",
      "Epoch 14/20\n",
      "596/596 [==============================] - 7s 12ms/step - loss: 0.0161 - accuracy: 0.1159 - val_loss: 0.0156 - val_accuracy: 0.1142\n",
      "Epoch 15/20\n",
      "596/596 [==============================] - 7s 12ms/step - loss: 0.0161 - accuracy: 0.1141 - val_loss: 0.0155 - val_accuracy: 0.1197\n",
      "Epoch 16/20\n",
      "596/596 [==============================] - 7s 12ms/step - loss: 0.0160 - accuracy: 0.1143 - val_loss: 0.0155 - val_accuracy: 0.1193\n",
      "Epoch 17/20\n",
      "596/596 [==============================] - 7s 12ms/step - loss: 0.0159 - accuracy: 0.1144 - val_loss: 0.0154 - val_accuracy: 0.1195\n",
      "Epoch 18/20\n",
      "596/596 [==============================] - 7s 12ms/step - loss: 0.0158 - accuracy: 0.1165 - val_loss: 0.0154 - val_accuracy: 0.1190\n",
      "Epoch 19/20\n",
      "596/596 [==============================] - 7s 13ms/step - loss: 0.0158 - accuracy: 0.1190 - val_loss: 0.0154 - val_accuracy: 0.1207\n",
      "Epoch 20/20\n",
      "596/596 [==============================] - 7s 12ms/step - loss: 0.0157 - accuracy: 0.1198 - val_loss: 0.0153 - val_accuracy: 0.1178\n"
     ]
    }
   ],
   "source": [
    "hist = meta_model.fit(df_train, y_train, batch_size=32, validation_split=0.2, verbose=1, epochs=20)"
   ]
  },
  {
   "cell_type": "code",
   "execution_count": 20,
   "metadata": {
    "execution": {
     "iopub.execute_input": "2020-12-11T09:45:32.064723Z",
     "iopub.status.busy": "2020-12-11T09:45:32.063937Z",
     "iopub.status.idle": "2020-12-11T09:45:32.357568Z",
     "shell.execute_reply": "2020-12-11T09:45:32.356907Z"
    },
    "papermill": {
     "duration": 1.325807,
     "end_time": "2020-12-11T09:45:32.357704",
     "exception": false,
     "start_time": "2020-12-11T09:45:31.031897",
     "status": "completed"
    },
    "tags": []
   },
   "outputs": [
    {
     "data": {
      "text/plain": [
       "Text(0.5, 1.0, 'Accuracy')"
      ]
     },
     "execution_count": 20,
     "metadata": {},
     "output_type": "execute_result"
    },
    {
     "data": {
      "image/png": "[encoded data removed]",
      "text/plain": [
       "<Figure size 1080x504 with 1 Axes>"
      ]
     },
     "metadata": {
      "needs_background": "light"
     },
     "output_type": "display_data"
    }
   ],
   "source": [
    "# Draw fitting info\n",
    "plt.figure(figsize=(15, 7))\n",
    "plt.plot(hist.history['accuracy'])\n",
    "plt.plot(hist.history['val_accuracy'])\n",
    "plt.xlabel('Epoch')\n",
    "plt.ylabel('Accuracy')\n",
    "plt.legend(['Train_Accuracy', 'Val_accuracy'])\n",
    "plt.title('Accuracy')\n"
   ]
  },
  {
   "cell_type": "code",
   "execution_count": 21,
   "metadata": {
    "execution": {
     "iopub.execute_input": "2020-12-11T09:45:34.483028Z",
     "iopub.status.busy": "2020-12-11T09:45:34.481882Z",
     "iopub.status.idle": "2020-12-11T09:45:38.075718Z",
     "shell.execute_reply": "2020-12-11T09:45:38.074909Z"
    },
    "papermill": {
     "duration": 4.689681,
     "end_time": "2020-12-11T09:45:38.075852",
     "exception": false,
     "start_time": "2020-12-11T09:45:33.386171",
     "status": "completed"
    },
    "tags": []
   },
   "outputs": [],
   "source": [
    "preds = meta_model.predict(df_test)\n",
    "submission = pd.DataFrame.from_records(preds)\n",
    "submission.insert(0, \"sig_id\", sig_id)\n",
    "submission.columns = sub.columns\n",
    "submission.to_csv('submission.csv', index=False)"
   ]
  }
 ],
 "metadata": {
  "kernelspec": {
   "display_name": "Python 3",
   "language": "python",
   "name": "python3"
  },
  "language_info": {
   "codemirror_mode": {
    "name": "ipython",
    "version": 3
   },
   "file_extension": ".py",
   "mimetype": "text/x-python",
   "name": "python",
   "nbconvert_exporter": "python",
   "pygments_lexer": "ipython3",
   "version": "3.8.5"
  },
  "papermill": {
   "duration": 14827.811989,
   "end_time": "2020-12-11T09:45:39.310693",
   "environment_variables": {},
   "exception": null,
   "input_path": "__notebook__.ipynb",
   "output_path": "__notebook__.ipynb",
   "parameters": {},
   "start_time": "2020-12-11T05:38:31.498704",
   "version": "2.1.0"
  }
 },
 "nbformat": 4,
 "nbformat_minor": 4
}
