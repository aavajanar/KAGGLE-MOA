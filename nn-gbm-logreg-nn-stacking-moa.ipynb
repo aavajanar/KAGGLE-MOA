{
 "cells": [
  {
   "cell_type": "code",
   "execution_count": 1,
   "metadata": {
    "_cell_guid": "b1076dfc-b9ad-4769-8c92-a6c4dae69d19",
    "_uuid": "8f2839f25d086af736a60e9eeb907d3b93b6e0e5",
    "execution": {
     "iopub.execute_input": "2020-12-11T15:13:51.370897Z",
     "iopub.status.busy": "2020-12-11T15:13:51.364937Z",
     "iopub.status.idle": "2020-12-11T15:13:59.430812Z",
     "shell.execute_reply": "2020-12-11T15:13:59.429884Z"
    },
    "papermill": {
     "duration": 8.098582,
     "end_time": "2020-12-11T15:13:59.431011",
     "exception": false,
     "start_time": "2020-12-11T15:13:51.332429",
     "status": "completed"
    },
    "tags": []
   },
   "outputs": [
    {
     "data": {
      "text/html": [
       "<style type='text/css'>\n",
       ".datatable table.frame { margin-bottom: 0; }\n",
       ".datatable table.frame thead { border-bottom: none; }\n",
       ".datatable table.frame tr.coltypes td {  color: #FFFFFF;  line-height: 6px;  padding: 0 0.5em;}\n",
       ".datatable .bool    { background: #DDDD99; }\n",
       ".datatable .object  { background: #565656; }\n",
       ".datatable .int     { background: #5D9E5D; }\n",
       ".datatable .float   { background: #4040CC; }\n",
       ".datatable .str     { background: #CC4040; }\n",
       ".datatable .row_index {  background: var(--jp-border-color3);  border-right: 1px solid var(--jp-border-color0);  color: var(--jp-ui-font-color3);  font-size: 9px;}\n",
       ".datatable .frame tr.coltypes .row_index {  background: var(--jp-border-color0);}\n",
       ".datatable th:nth-child(2) { padding-left: 12px; }\n",
       ".datatable .hellipsis {  color: var(--jp-cell-editor-border-color);}\n",
       ".datatable .vellipsis {  background: var(--jp-layout-color0);  color: var(--jp-cell-editor-border-color);}\n",
       ".datatable .na {  color: var(--jp-cell-editor-border-color);  font-size: 80%;}\n",
       ".datatable .footer { font-size: 9px; }\n",
       ".datatable .frame_dimensions {  background: var(--jp-border-color3);  border-top: 1px solid var(--jp-border-color0);  color: var(--jp-ui-font-color3);  display: inline-block;  opacity: 0.6;  padding: 1px 10px 1px 5px;}\n",
       ".datatable .frame thead tr.colnames {  background-image: url('data:image/png;base64,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');  background-repeat: repeat-x;  background-size: 14px;  height: 28px;}\n",
       "</style>\n"
      ],
      "text/plain": [
       "<IPython.core.display.HTML object>"
      ]
     },
     "metadata": {},
     "output_type": "display_data"
    },
    {
     "name": "stdout",
     "output_type": "stream",
     "text": [
      "/kaggle/input/lish-moa/train_targets_scored.csv\n",
      "/kaggle/input/lish-moa/sample_submission.csv\n",
      "/kaggle/input/lish-moa/train_drug.csv\n",
      "/kaggle/input/lish-moa/train_targets_nonscored.csv\n",
      "/kaggle/input/lish-moa/train_features.csv\n",
      "/kaggle/input/lish-moa/test_features.csv\n"
     ]
    }
   ],
   "source": [
    "import numpy as np # linear algebra\n",
    "import pandas as pd # data processing, CSV file I/O (e.g. pd.read_csv)\n",
    "\n",
    "import keras\n",
    "from tensorflow.keras.models import Sequential\n",
    "from tensorflow.keras.layers import Input, Dense, Dropout, BatchNormalization\n",
    "\n",
    "from sklearn.model_selection import KFold, StratifiedKFold\n",
    "from sklearn.multioutput import MultiOutputClassifier\n",
    "from sklearn.linear_model import LogisticRegression\n",
    "from sklearn.preprocessing import StandardScaler\n",
    "\n",
    "import lightgbm as lgb\n",
    "\n",
    "import matplotlib.pyplot as plt\n",
    "%matplotlib inline\n",
    "\n",
    "import os\n",
    "for dirname, _, filenames in os.walk('/kaggle/input'):\n",
    "    for filename in filenames:\n",
    "        print(os.path.join(dirname, filename))"
   ]
  },
  {
   "cell_type": "markdown",
   "metadata": {
    "papermill": {
     "duration": 0.023081,
     "end_time": "2020-12-11T15:13:59.479841",
     "exception": false,
     "start_time": "2020-12-11T15:13:59.456760",
     "status": "completed"
    },
    "tags": []
   },
   "source": [
    "Ensemble related sources:<br>\n",
    "https://www.analyticsvidhya.com/blog/2018/06/comprehensive-guide-for-ensemble-models/ <br>\n",
    "https://www.kaggle.com/kokitanisaka/moa-ensemble<br>\n",
    "<br>\n",
    "Notebooks used for individual models:<br>\n",
    "<br>\n",
    "Logistic Regression:<br>\n",
    "https://www.kaggle.com/sg1993/logistic-regression-model/notebook<br>\n",
    "https://www.kaggle.com/barteksadlej123/basic-logistic-regression<br>\n",
    "<br>\n",
    "LightGBM:<br>\n",
    "https://www.kaggle.com/nroman/moa-lightgbm-206-models<br>\n",
    "https://www.kaggle.com/pavelvpster/moa-lgb-optuna<br>\n",
    "<br>\n",
    "FNN:<br>\n",
    "https://www.kaggle.com/simakov/keras-multilabel-neural-network-v1-2/notebook<br>\n",
    "https://www.kaggle.com/elcaiseri/moa-keras-multilabel-classifier-nn-starter/notebook<br>\n",
    "https://www.kaggle.com/gogo827jz/moa-lstm-pure-transformer-fast-and-not-bad/notebook?scriptVersionId=42679125<br>"
   ]
  },
  {
   "cell_type": "markdown",
   "metadata": {
    "papermill": {
     "duration": 0.023193,
     "end_time": "2020-12-11T15:13:59.526640",
     "exception": false,
     "start_time": "2020-12-11T15:13:59.503447",
     "status": "completed"
    },
    "tags": []
   },
   "source": [
    "## Reading data"
   ]
  },
  {
   "cell_type": "code",
   "execution_count": 2,
   "metadata": {
    "_cell_guid": "79c7e3d0-c299-4dcb-8224-4455121ee9b0",
    "_uuid": "d629ff2d2480ee46fbb7e2d37f6b5fab8052498a",
    "execution": {
     "iopub.execute_input": "2020-12-11T15:13:59.586016Z",
     "iopub.status.busy": "2020-12-11T15:13:59.585221Z",
     "iopub.status.idle": "2020-12-11T15:14:08.971464Z",
     "shell.execute_reply": "2020-12-11T15:14:08.970381Z"
    },
    "papermill": {
     "duration": 9.42145,
     "end_time": "2020-12-11T15:14:08.971607",
     "exception": false,
     "start_time": "2020-12-11T15:13:59.550157",
     "status": "completed"
    },
    "tags": []
   },
   "outputs": [],
   "source": [
    "path = \"/kaggle/input/lish-moa/\"\n",
    "train_features = pd.read_csv(path+\"train_features.csv\")\n",
    "test_features = pd.read_csv(path+\"test_features.csv\")\n",
    "train_targets_scored = pd.read_csv(path+\"train_targets_scored.csv\")\n",
    "sub = pd.read_csv(path+\"sample_submission.csv\")\n",
    "\n",
    "# From https://www.kaggle.com/carlmcbrideellis/moa-setting-ctl-vehicle-0-improves-score\n",
    "train_features.at[train_features['cp_type'].str.contains('ctl_vehicle'),train_features.filter(regex='-.*').columns] = 0.0\n",
    "test_features.at[test_features['cp_type'].str.contains('ctl_vehicle'),test_features.filter(regex='-.*').columns] = 0.0"
   ]
  },
  {
   "cell_type": "markdown",
   "metadata": {
    "papermill": {
     "duration": 0.023586,
     "end_time": "2020-12-11T15:14:09.018651",
     "exception": false,
     "start_time": "2020-12-11T15:14:08.995065",
     "status": "completed"
    },
    "tags": []
   },
   "source": [
    "## General data processing"
   ]
  },
  {
   "cell_type": "code",
   "execution_count": 3,
   "metadata": {
    "execution": {
     "iopub.execute_input": "2020-12-11T15:14:09.073658Z",
     "iopub.status.busy": "2020-12-11T15:14:09.072905Z",
     "iopub.status.idle": "2020-12-11T15:14:09.075853Z",
     "shell.execute_reply": "2020-12-11T15:14:09.076574Z"
    },
    "papermill": {
     "duration": 0.034621,
     "end_time": "2020-12-11T15:14:09.076729",
     "exception": false,
     "start_time": "2020-12-11T15:14:09.042108",
     "status": "completed"
    },
    "tags": []
   },
   "outputs": [],
   "source": [
    "def onehotencode(data):\n",
    "    data = pd.get_dummies(data)\n",
    "    return data"
   ]
  },
  {
   "cell_type": "code",
   "execution_count": 4,
   "metadata": {
    "execution": {
     "iopub.execute_input": "2020-12-11T15:14:09.139271Z",
     "iopub.status.busy": "2020-12-11T15:14:09.137626Z",
     "iopub.status.idle": "2020-12-11T15:14:09.716435Z",
     "shell.execute_reply": "2020-12-11T15:14:09.715757Z"
    },
    "papermill": {
     "duration": 0.616084,
     "end_time": "2020-12-11T15:14:09.716572",
     "exception": false,
     "start_time": "2020-12-11T15:14:09.100488",
     "status": "completed"
    },
    "tags": []
   },
   "outputs": [],
   "source": [
    "# Dropping sig_id columns and onehot encoding\n",
    "\n",
    "X_test = test_features.copy()\n",
    "X_train = train_features.copy()\n",
    "y_train = train_targets_scored.copy()\n",
    "X_train = X_train.drop(\"sig_id\", axis=1)\n",
    "y_train = y_train.drop(\"sig_id\", axis=1)\n",
    "\n",
    "# changing cp_time to categorical before onehotencoding\n",
    "X_test = test_features.copy()\n",
    "X_train['cp_time'] = X_train['cp_time'].apply(lambda x:str(x))\n",
    "X_test['cp_time'] = X_test['cp_time'].apply(lambda x:str(x))\n",
    "\n",
    "X_train = onehotencode(X_train)\n",
    "\n",
    "sig_id = X_test[\"sig_id\"]  # getting the ids\n",
    "X_test = X_test.drop(\"sig_id\", axis=1)\n",
    "X_test = onehotencode(X_test)\n",
    "\n",
    "columns = X_test.columns  # getting the feature columns\n",
    "sub = pd.read_csv(path+\"sample_submission.csv\")"
   ]
  },
  {
   "cell_type": "markdown",
   "metadata": {
    "papermill": {
     "duration": 0.023308,
     "end_time": "2020-12-11T15:14:09.764119",
     "exception": false,
     "start_time": "2020-12-11T15:14:09.740811",
     "status": "completed"
    },
    "tags": []
   },
   "source": [
    "## Stacking"
   ]
  },
  {
   "cell_type": "code",
   "execution_count": 5,
   "metadata": {
    "execution": {
     "iopub.execute_input": "2020-12-11T15:14:09.836372Z",
     "iopub.status.busy": "2020-12-11T15:14:09.831141Z",
     "iopub.status.idle": "2020-12-11T15:14:09.849407Z",
     "shell.execute_reply": "2020-12-11T15:14:09.848620Z"
    },
    "papermill": {
     "duration": 0.061931,
     "end_time": "2020-12-11T15:14:09.849541",
     "exception": false,
     "start_time": "2020-12-11T15:14:09.787610",
     "status": "completed"
    },
    "tags": []
   },
   "outputs": [],
   "source": [
    "def stacking_gbm(train,y,test,n_fold,params):\n",
    "    folds=KFold(n_splits=n_fold)\n",
    "    test_pred = pd.DataFrame(columns=y.columns)\n",
    "    train_pred = pd.DataFrame(columns=y.columns)\n",
    "    # 206 different models. One for each label\n",
    "    for model, target in enumerate(y_train, 1):\n",
    "        y_col = y_train[target]\n",
    "        preds_train = np.zeros(train.shape[0])\n",
    "        preds_test = np.zeros(test.shape[0])\n",
    "        for trn_idx,test_idx in folds.split(train):\n",
    "            trn_data = lgb.Dataset(train.iloc[trn_idx], label=y_col.iloc[trn_idx])\n",
    "            val_data = lgb.Dataset(train.iloc[test_idx], label=y_col.iloc[test_idx])\n",
    "\n",
    "            clf = lgb.train(params, trn_data, 10000, valid_sets = [trn_data, val_data], verbose_eval=0, early_stopping_rounds=20)\n",
    "            preds_train[test_idx] = clf.predict(train.iloc[test_idx])\n",
    "            preds_test += clf.predict(test) / folds.n_splits\n",
    "        train_pred[target] = preds_train\n",
    "        test_pred[target] = preds_test\n",
    "\n",
    "    return test_pred,train_pred\n",
    "\n",
    "def stacking_nn(model, train, y, test, n_fold):\n",
    "    folds=KFold(n_splits=n_fold)\n",
    "    test_pred = pd.DataFrame(columns=y.columns)\n",
    "    train_pred = pd.DataFrame(columns=y.columns)\n",
    "    for train_indices,val_indices in folds.split(train):\n",
    "        x_train,x_val=train.iloc[train_indices],train.iloc[val_indices]\n",
    "        y_train,y_val=y.iloc[train_indices],y.iloc[val_indices]\n",
    "\n",
    "        model.fit(x_train, y_train, batch_size=32, validation_split=0.2, verbose=0, epochs=100)\n",
    "        train_preds = pd.DataFrame(model.predict_proba(x_val), columns=y.columns)\n",
    "        train_pred = train_pred.append(train_preds, ignore_index=True)\n",
    "    model.fit(train, y, batch_size=32, validation_split=0.2, verbose=0, epochs=100)\n",
    "    test_preds = pd.DataFrame(model.predict_proba(test), columns=y.columns)\n",
    "    test_pred = test_pred.append(test_preds, ignore_index=True)\n",
    "    return test_pred,train_pred\n",
    "\n",
    "def stacking_logreg(model, train, y, test, n_fold):\n",
    "    folds=KFold(n_splits=n_fold)\n",
    "    test_pred = pd.DataFrame(columns=y.columns)\n",
    "    train_pred = pd.DataFrame(columns=y.columns)\n",
    "    for train_indices,val_indices in folds.split(train):\n",
    "        x_trn,x_val=train.iloc[train_indices],train.iloc[val_indices]\n",
    "        y_trn,y_val=y.iloc[train_indices],y.iloc[val_indices]\n",
    "        \n",
    "        for col in y_train.columns:  # for when a split has only 0s as targets in a column\n",
    "            y_trn = y_trn.copy()\n",
    "            if (y_trn[col] == 0).all():\n",
    "                y_trn[col].iloc[0] = 1  # change first element to 1\n",
    "                \n",
    "        model.fit(x_trn, y_trn)\n",
    "        train_preds = model.predict_proba(x_val)\n",
    "        train_preds = np.array(train_preds)[:,:,1]\n",
    "        train_preds = pd.DataFrame(train_preds.T, columns=y.columns)\n",
    "        train_pred = train_pred.append(train_preds, ignore_index=True)\n",
    "    model.fit(train, y)\n",
    "    test_preds = model.predict_proba(test)\n",
    "    test_preds = np.array(test_preds)[:,:,1]\n",
    "    test_preds = pd.DataFrame(test_preds.T, columns=y.columns)\n",
    "    test_pred = test_pred.append(test_preds, ignore_index=True)\n",
    "    return test_pred,train_pred"
   ]
  },
  {
   "cell_type": "markdown",
   "metadata": {
    "papermill": {
     "duration": 0.024312,
     "end_time": "2020-12-11T15:14:09.899175",
     "exception": false,
     "start_time": "2020-12-11T15:14:09.874863",
     "status": "completed"
    },
    "tags": []
   },
   "source": [
    "## Base Models"
   ]
  },
  {
   "cell_type": "markdown",
   "metadata": {
    "papermill": {
     "duration": 0.023623,
     "end_time": "2020-12-11T15:14:09.947403",
     "exception": false,
     "start_time": "2020-12-11T15:14:09.923780",
     "status": "completed"
    },
    "tags": []
   },
   "source": [
    "### Logistic Regression"
   ]
  },
  {
   "cell_type": "code",
   "execution_count": 6,
   "metadata": {
    "execution": {
     "iopub.execute_input": "2020-12-11T15:14:10.014380Z",
     "iopub.status.busy": "2020-12-11T15:14:10.013556Z",
     "iopub.status.idle": "2020-12-11T15:14:10.687731Z",
     "shell.execute_reply": "2020-12-11T15:14:10.687076Z"
    },
    "papermill": {
     "duration": 0.716647,
     "end_time": "2020-12-11T15:14:10.687862",
     "exception": false,
     "start_time": "2020-12-11T15:14:09.971215",
     "status": "completed"
    },
    "tags": []
   },
   "outputs": [
    {
     "data": {
      "text/html": [
       "<div>\n",
       "<style scoped>\n",
       "    .dataframe tbody tr th:only-of-type {\n",
       "        vertical-align: middle;\n",
       "    }\n",
       "\n",
       "    .dataframe tbody tr th {\n",
       "        vertical-align: top;\n",
       "    }\n",
       "\n",
       "    .dataframe thead th {\n",
       "        text-align: right;\n",
       "    }\n",
       "</style>\n",
       "<table border=\"1\" class=\"dataframe\">\n",
       "  <thead>\n",
       "    <tr style=\"text-align: right;\">\n",
       "      <th></th>\n",
       "      <th>g-0</th>\n",
       "      <th>g-1</th>\n",
       "      <th>g-2</th>\n",
       "      <th>g-3</th>\n",
       "      <th>g-4</th>\n",
       "      <th>g-5</th>\n",
       "      <th>g-6</th>\n",
       "      <th>g-7</th>\n",
       "      <th>g-8</th>\n",
       "      <th>g-9</th>\n",
       "      <th>...</th>\n",
       "      <th>c-97</th>\n",
       "      <th>c-98</th>\n",
       "      <th>c-99</th>\n",
       "      <th>cp_type_ctl_vehicle</th>\n",
       "      <th>cp_type_trt_cp</th>\n",
       "      <th>cp_time_24</th>\n",
       "      <th>cp_time_48</th>\n",
       "      <th>cp_time_72</th>\n",
       "      <th>cp_dose_D1</th>\n",
       "      <th>cp_dose_D2</th>\n",
       "    </tr>\n",
       "  </thead>\n",
       "  <tbody>\n",
       "    <tr>\n",
       "      <th>0</th>\n",
       "      <td>0.587495</td>\n",
       "      <td>0.819669</td>\n",
       "      <td>-0.404962</td>\n",
       "      <td>-0.758524</td>\n",
       "      <td>-0.277536</td>\n",
       "      <td>-0.774113</td>\n",
       "      <td>-1.235604</td>\n",
       "      <td>0.142506</td>\n",
       "      <td>0.448638</td>\n",
       "      <td>-0.177931</td>\n",
       "      <td>...</td>\n",
       "      <td>0.358523</td>\n",
       "      <td>0.479884</td>\n",
       "      <td>0.533100</td>\n",
       "      <td>-0.29158</td>\n",
       "      <td>0.29158</td>\n",
       "      <td>1.436689</td>\n",
       "      <td>-0.728059</td>\n",
       "      <td>-0.697375</td>\n",
       "      <td>0.980043</td>\n",
       "      <td>-0.980043</td>\n",
       "    </tr>\n",
       "    <tr>\n",
       "      <th>1</th>\n",
       "      <td>-0.132368</td>\n",
       "      <td>0.626207</td>\n",
       "      <td>0.144569</td>\n",
       "      <td>-0.015806</td>\n",
       "      <td>0.957312</td>\n",
       "      <td>0.574388</td>\n",
       "      <td>0.266602</td>\n",
       "      <td>0.480924</td>\n",
       "      <td>-0.106182</td>\n",
       "      <td>0.713380</td>\n",
       "      <td>...</td>\n",
       "      <td>0.305291</td>\n",
       "      <td>0.605019</td>\n",
       "      <td>0.763341</td>\n",
       "      <td>-0.29158</td>\n",
       "      <td>0.29158</td>\n",
       "      <td>-0.696045</td>\n",
       "      <td>-0.728059</td>\n",
       "      <td>1.433950</td>\n",
       "      <td>0.980043</td>\n",
       "      <td>-0.980043</td>\n",
       "    </tr>\n",
       "    <tr>\n",
       "      <th>2</th>\n",
       "      <td>0.271184</td>\n",
       "      <td>0.850831</td>\n",
       "      <td>1.405277</td>\n",
       "      <td>-0.164960</td>\n",
       "      <td>-0.112571</td>\n",
       "      <td>1.206363</td>\n",
       "      <td>0.191737</td>\n",
       "      <td>0.369552</td>\n",
       "      <td>0.131590</td>\n",
       "      <td>1.071966</td>\n",
       "      <td>...</td>\n",
       "      <td>0.102085</td>\n",
       "      <td>-0.503215</td>\n",
       "      <td>0.731634</td>\n",
       "      <td>-0.29158</td>\n",
       "      <td>0.29158</td>\n",
       "      <td>-0.696045</td>\n",
       "      <td>1.373516</td>\n",
       "      <td>-0.697375</td>\n",
       "      <td>0.980043</td>\n",
       "      <td>-0.980043</td>\n",
       "    </tr>\n",
       "    <tr>\n",
       "      <th>3</th>\n",
       "      <td>-0.560991</td>\n",
       "      <td>-0.227885</td>\n",
       "      <td>-0.422744</td>\n",
       "      <td>0.494894</td>\n",
       "      <td>4.054101</td>\n",
       "      <td>-0.595949</td>\n",
       "      <td>-2.356190</td>\n",
       "      <td>0.336332</td>\n",
       "      <td>0.051446</td>\n",
       "      <td>-1.092973</td>\n",
       "      <td>...</td>\n",
       "      <td>-0.288974</td>\n",
       "      <td>0.057802</td>\n",
       "      <td>-0.355437</td>\n",
       "      <td>-0.29158</td>\n",
       "      <td>0.29158</td>\n",
       "      <td>-0.696045</td>\n",
       "      <td>1.373516</td>\n",
       "      <td>-0.697375</td>\n",
       "      <td>0.980043</td>\n",
       "      <td>-0.980043</td>\n",
       "    </tr>\n",
       "    <tr>\n",
       "      <th>4</th>\n",
       "      <td>-0.423680</td>\n",
       "      <td>-0.424983</td>\n",
       "      <td>0.818574</td>\n",
       "      <td>0.672723</td>\n",
       "      <td>1.363365</td>\n",
       "      <td>-0.609059</td>\n",
       "      <td>-0.348225</td>\n",
       "      <td>0.035252</td>\n",
       "      <td>-0.380383</td>\n",
       "      <td>0.725009</td>\n",
       "      <td>...</td>\n",
       "      <td>0.402744</td>\n",
       "      <td>0.062750</td>\n",
       "      <td>0.745614</td>\n",
       "      <td>-0.29158</td>\n",
       "      <td>0.29158</td>\n",
       "      <td>-0.696045</td>\n",
       "      <td>-0.728059</td>\n",
       "      <td>1.433950</td>\n",
       "      <td>-1.020364</td>\n",
       "      <td>1.020364</td>\n",
       "    </tr>\n",
       "  </tbody>\n",
       "</table>\n",
       "<p>5 rows × 879 columns</p>\n",
       "</div>"
      ],
      "text/plain": [
       "        g-0       g-1       g-2       g-3       g-4       g-5       g-6  \\\n",
       "0  0.587495  0.819669 -0.404962 -0.758524 -0.277536 -0.774113 -1.235604   \n",
       "1 -0.132368  0.626207  0.144569 -0.015806  0.957312  0.574388  0.266602   \n",
       "2  0.271184  0.850831  1.405277 -0.164960 -0.112571  1.206363  0.191737   \n",
       "3 -0.560991 -0.227885 -0.422744  0.494894  4.054101 -0.595949 -2.356190   \n",
       "4 -0.423680 -0.424983  0.818574  0.672723  1.363365 -0.609059 -0.348225   \n",
       "\n",
       "        g-7       g-8       g-9  ...      c-97      c-98      c-99  \\\n",
       "0  0.142506  0.448638 -0.177931  ...  0.358523  0.479884  0.533100   \n",
       "1  0.480924 -0.106182  0.713380  ...  0.305291  0.605019  0.763341   \n",
       "2  0.369552  0.131590  1.071966  ...  0.102085 -0.503215  0.731634   \n",
       "3  0.336332  0.051446 -1.092973  ... -0.288974  0.057802 -0.355437   \n",
       "4  0.035252 -0.380383  0.725009  ...  0.402744  0.062750  0.745614   \n",
       "\n",
       "   cp_type_ctl_vehicle  cp_type_trt_cp  cp_time_24  cp_time_48  cp_time_72  \\\n",
       "0             -0.29158         0.29158    1.436689   -0.728059   -0.697375   \n",
       "1             -0.29158         0.29158   -0.696045   -0.728059    1.433950   \n",
       "2             -0.29158         0.29158   -0.696045    1.373516   -0.697375   \n",
       "3             -0.29158         0.29158   -0.696045    1.373516   -0.697375   \n",
       "4             -0.29158         0.29158   -0.696045   -0.728059    1.433950   \n",
       "\n",
       "   cp_dose_D1  cp_dose_D2  \n",
       "0    0.980043   -0.980043  \n",
       "1    0.980043   -0.980043  \n",
       "2    0.980043   -0.980043  \n",
       "3    0.980043   -0.980043  \n",
       "4   -1.020364    1.020364  \n",
       "\n",
       "[5 rows x 879 columns]"
      ]
     },
     "execution_count": 6,
     "metadata": {},
     "output_type": "execute_result"
    }
   ],
   "source": [
    "scaler = StandardScaler()\n",
    "X_train_scaled = pd.DataFrame(scaler.fit_transform(X_train), columns=X_train.columns)\n",
    "X_test_scaled = pd.DataFrame(scaler.transform(X_test), columns=X_test.columns)\n",
    "X_train_scaled.head()"
   ]
  },
  {
   "cell_type": "code",
   "execution_count": 7,
   "metadata": {
    "execution": {
     "iopub.execute_input": "2020-12-11T15:14:10.760990Z",
     "iopub.status.busy": "2020-12-11T15:14:10.759857Z",
     "iopub.status.idle": "2020-12-11T15:14:10.762658Z",
     "shell.execute_reply": "2020-12-11T15:14:10.763210Z"
    },
    "papermill": {
     "duration": 0.034979,
     "end_time": "2020-12-11T15:14:10.763367",
     "exception": false,
     "start_time": "2020-12-11T15:14:10.728388",
     "status": "completed"
    },
    "tags": []
   },
   "outputs": [],
   "source": [
    "model0 = MultiOutputClassifier(LogisticRegression(C=0.01, solver=\"sag\", max_iter=200, random_state=0), n_jobs=-1)"
   ]
  },
  {
   "cell_type": "code",
   "execution_count": 8,
   "metadata": {
    "execution": {
     "iopub.execute_input": "2020-12-11T15:14:10.820225Z",
     "iopub.status.busy": "2020-12-11T15:14:10.819397Z",
     "iopub.status.idle": "2020-12-11T18:26:11.225814Z",
     "shell.execute_reply": "2020-12-11T18:26:11.226495Z"
    },
    "papermill": {
     "duration": 11520.438024,
     "end_time": "2020-12-11T18:26:11.226714",
     "exception": false,
     "start_time": "2020-12-11T15:14:10.788690",
     "status": "completed"
    },
    "tags": []
   },
   "outputs": [],
   "source": [
    "test_pred0, train_pred0 = stacking_logreg(model=model0, n_fold=3, train=X_train_scaled, test=X_test_scaled, y=y_train.copy())"
   ]
  },
  {
   "cell_type": "code",
   "execution_count": 9,
   "metadata": {
    "execution": {
     "iopub.execute_input": "2020-12-11T18:26:11.311855Z",
     "iopub.status.busy": "2020-12-11T18:26:11.299468Z",
     "iopub.status.idle": "2020-12-11T18:26:11.325354Z",
     "shell.execute_reply": "2020-12-11T18:26:11.326227Z"
    },
    "papermill": {
     "duration": 0.073413,
     "end_time": "2020-12-11T18:26:11.326454",
     "exception": false,
     "start_time": "2020-12-11T18:26:11.253041",
     "status": "completed"
    },
    "tags": []
   },
   "outputs": [
    {
     "name": "stdout",
     "output_type": "stream",
     "text": [
      "(23814, 206)\n",
      "(3982, 206)\n",
      "   5-alpha_reductase_inhibitor  11-beta-hsd1_inhibitor  acat_inhibitor  \\\n",
      "0                     0.004778                0.006790        0.002768   \n",
      "1                     0.003462                0.003832        0.004392   \n",
      "2                     0.003563                0.003301        0.005360   \n",
      "3                     0.003942                0.005014        0.003191   \n",
      "4                     0.002293                0.004487        0.008529   \n",
      "\n",
      "   acetylcholine_receptor_agonist  acetylcholine_receptor_antagonist  \\\n",
      "0                        0.012949                           0.124682   \n",
      "1                        0.009566                           0.019255   \n",
      "2                        0.001522                           0.023335   \n",
      "3                        0.001999                           0.003640   \n",
      "4                        0.016428                           0.003998   \n",
      "\n",
      "   acetylcholinesterase_inhibitor  adenosine_receptor_agonist  \\\n",
      "0                        0.008535                    0.008418   \n",
      "1                        0.008256                    0.004527   \n",
      "2                        0.004052                    0.003918   \n",
      "3                        0.004015                    0.004858   \n",
      "4                        0.005545                    0.005247   \n",
      "\n",
      "   adenosine_receptor_antagonist  adenylyl_cyclase_activator  \\\n",
      "0                       0.004783                    0.004074   \n",
      "1                       0.006642                    0.004264   \n",
      "2                       0.010229                    0.005545   \n",
      "3                       0.004347                    0.003183   \n",
      "4                       0.003686                    0.006007   \n",
      "\n",
      "   adrenergic_receptor_agonist  ...  tropomyosin_receptor_kinase_inhibitor  \\\n",
      "0                     0.009075  ...                               0.003294   \n",
      "1                     0.007526  ...                               0.003366   \n",
      "2                     0.004244  ...                               0.003318   \n",
      "3                     0.003708  ...                               0.003615   \n",
      "4                     0.038564  ...                               0.004633   \n",
      "\n",
      "   trpv_agonist  trpv_antagonist  tubulin_inhibitor  \\\n",
      "0      0.001646         0.003869           0.005281   \n",
      "1      0.004140         0.004318           0.007836   \n",
      "2      0.006357         0.004236           0.005797   \n",
      "3      0.013708         0.005468           0.159228   \n",
      "4      0.002528         0.002346           0.004765   \n",
      "\n",
      "   tyrosine_kinase_inhibitor  ubiquitin_specific_protease_inhibitor  \\\n",
      "0                   0.006302                               0.003256   \n",
      "1                   0.006631                               0.003079   \n",
      "2                   0.005030                               0.003634   \n",
      "3                   0.018372                               0.003903   \n",
      "4                   0.010711                               0.004493   \n",
      "\n",
      "   vegfr_inhibitor  vitamin_b  vitamin_d_receptor_agonist  wnt_inhibitor  \n",
      "0         0.002130   0.004186                    0.001969       0.006512  \n",
      "1         0.007975   0.006216                    0.011377       0.005530  \n",
      "2         0.018024   0.003447                    0.004999       0.002957  \n",
      "3         0.004996   0.004543                    0.001486       0.002506  \n",
      "4         0.007953   0.006708                    0.004958       0.007548  \n",
      "\n",
      "[5 rows x 206 columns]\n",
      "   5-alpha_reductase_inhibitor  11-beta-hsd1_inhibitor  acat_inhibitor  \\\n",
      "0                     0.003464                0.003232        0.003700   \n",
      "1                     0.001319                0.002607        0.001806   \n",
      "2                     0.002589                0.002450        0.002615   \n",
      "3                     0.002019                0.002437        0.003028   \n",
      "4                     0.004032                0.004320        0.006233   \n",
      "\n",
      "   acetylcholine_receptor_agonist  acetylcholine_receptor_antagonist  \\\n",
      "0                        0.015732                           0.019428   \n",
      "1                        0.001350                           0.004579   \n",
      "2                        0.003232                           0.003695   \n",
      "3                        0.006401                           0.002983   \n",
      "4                        0.011106                           0.022038   \n",
      "\n",
      "   acetylcholinesterase_inhibitor  adenosine_receptor_agonist  \\\n",
      "0                        0.003676                    0.001850   \n",
      "1                        0.009560                    0.003614   \n",
      "2                        0.002953                    0.002708   \n",
      "3                        0.006393                    0.001779   \n",
      "4                        0.002113                    0.005945   \n",
      "\n",
      "   adenosine_receptor_antagonist  adenylyl_cyclase_activator  \\\n",
      "0                       0.004582                    0.002065   \n",
      "1                       0.007876                    0.004559   \n",
      "2                       0.002908                    0.002426   \n",
      "3                       0.003501                    0.001886   \n",
      "4                       0.002903                    0.002617   \n",
      "\n",
      "   adrenergic_receptor_agonist  ...  tropomyosin_receptor_kinase_inhibitor  \\\n",
      "0                     0.022688  ...                               0.004140   \n",
      "1                     0.011641  ...                               0.002899   \n",
      "2                     0.003773  ...                               0.002371   \n",
      "3                     0.027931  ...                               0.002529   \n",
      "4                     0.012608  ...                               0.003135   \n",
      "\n",
      "   trpv_agonist  trpv_antagonist  tubulin_inhibitor  \\\n",
      "0      0.010924         0.004457           0.001976   \n",
      "1      0.002493         0.003783           0.000943   \n",
      "2      0.002332         0.002551           0.003636   \n",
      "3      0.001860         0.006003           0.024815   \n",
      "4      0.001085         0.008030           0.004480   \n",
      "\n",
      "   tyrosine_kinase_inhibitor  ubiquitin_specific_protease_inhibitor  \\\n",
      "0                   0.001357                               0.002923   \n",
      "1                   0.005494                               0.002449   \n",
      "2                   0.002582                               0.002423   \n",
      "3                   0.009123                               0.002359   \n",
      "4                   0.001485                               0.003423   \n",
      "\n",
      "   vegfr_inhibitor  vitamin_b  vitamin_d_receptor_agonist  wnt_inhibitor  \n",
      "0         0.005352   0.006348                    0.010482       0.003119  \n",
      "1         0.003527   0.002900                    0.004072       0.004707  \n",
      "2         0.002681   0.002530                    0.002528       0.002416  \n",
      "3         0.002320   0.002674                    0.002625       0.003309  \n",
      "4         0.006711   0.003588                    0.001768       0.003843  \n",
      "\n",
      "[5 rows x 206 columns]\n"
     ]
    }
   ],
   "source": [
    "print(train_pred0.shape)\n",
    "print(test_pred0.shape)\n",
    "print(train_pred0.head())\n",
    "print(test_pred0.head())"
   ]
  },
  {
   "cell_type": "markdown",
   "metadata": {
    "papermill": {
     "duration": 0.025638,
     "end_time": "2020-12-11T18:26:11.381420",
     "exception": false,
     "start_time": "2020-12-11T18:26:11.355782",
     "status": "completed"
    },
    "tags": []
   },
   "source": [
    "### Feed Forward Neural Network"
   ]
  },
  {
   "cell_type": "code",
   "execution_count": 10,
   "metadata": {
    "execution": {
     "iopub.execute_input": "2020-12-11T18:26:11.446897Z",
     "iopub.status.busy": "2020-12-11T18:26:11.445988Z",
     "iopub.status.idle": "2020-12-11T18:26:11.449407Z",
     "shell.execute_reply": "2020-12-11T18:26:11.448750Z"
    },
    "papermill": {
     "duration": 0.042032,
     "end_time": "2020-12-11T18:26:11.449532",
     "exception": false,
     "start_time": "2020-12-11T18:26:11.407500",
     "status": "completed"
    },
    "tags": []
   },
   "outputs": [],
   "source": [
    "def create_model(n_input):\n",
    "    model = Sequential()\n",
    "    model.add(Input(n_input))\n",
    "    model.add(BatchNormalization())\n",
    "    model.add(Dropout(0.3))\n",
    "    model.add(Dense(300, kernel_initializer='he_uniform', activation='sigmoid'))\n",
    "    model.add(Dropout(0.6)) \n",
    "    model.add(Dense(300, activation='sigmoid'))\n",
    "    model.add(Dropout(0.6))\n",
    "    model.add(Dense(700, activation='sigmoid'))\n",
    "    model.add(Dropout(0.6))\n",
    "    model.add(Dense(206, activation='sigmoid'))\n",
    "    \n",
    "    model.compile(loss='binary_crossentropy', optimizer='adamax', metrics=['accuracy'])\n",
    "    return model"
   ]
  },
  {
   "cell_type": "code",
   "execution_count": 11,
   "metadata": {
    "execution": {
     "iopub.execute_input": "2020-12-11T18:26:11.511582Z",
     "iopub.status.busy": "2020-12-11T18:26:11.510745Z",
     "iopub.status.idle": "2020-12-11T18:26:11.880051Z",
     "shell.execute_reply": "2020-12-11T18:26:11.880926Z"
    },
    "papermill": {
     "duration": 0.403287,
     "end_time": "2020-12-11T18:26:11.881147",
     "exception": false,
     "start_time": "2020-12-11T18:26:11.477860",
     "status": "completed"
    },
    "tags": []
   },
   "outputs": [
    {
     "name": "stdout",
     "output_type": "stream",
     "text": [
      "Model: \"sequential\"\n",
      "_________________________________________________________________\n",
      "Layer (type)                 Output Shape              Param #   \n",
      "=================================================================\n",
      "batch_normalization (BatchNo (None, 879)               3516      \n",
      "_________________________________________________________________\n",
      "dropout (Dropout)            (None, 879)               0         \n",
      "_________________________________________________________________\n",
      "dense (Dense)                (None, 300)               264000    \n",
      "_________________________________________________________________\n",
      "dropout_1 (Dropout)          (None, 300)               0         \n",
      "_________________________________________________________________\n",
      "dense_1 (Dense)              (None, 300)               90300     \n",
      "_________________________________________________________________\n",
      "dropout_2 (Dropout)          (None, 300)               0         \n",
      "_________________________________________________________________\n",
      "dense_2 (Dense)              (None, 700)               210700    \n",
      "_________________________________________________________________\n",
      "dropout_3 (Dropout)          (None, 700)               0         \n",
      "_________________________________________________________________\n",
      "dense_3 (Dense)              (None, 206)               144406    \n",
      "=================================================================\n",
      "Total params: 712,922\n",
      "Trainable params: 711,164\n",
      "Non-trainable params: 1,758\n",
      "_________________________________________________________________\n"
     ]
    }
   ],
   "source": [
    "model1 = create_model(len(columns))\n",
    "model1.summary()"
   ]
  },
  {
   "cell_type": "code",
   "execution_count": 12,
   "metadata": {
    "execution": {
     "iopub.execute_input": "2020-12-11T18:26:11.974544Z",
     "iopub.status.busy": "2020-12-11T18:26:11.973743Z",
     "iopub.status.idle": "2020-12-11T19:04:36.715920Z",
     "shell.execute_reply": "2020-12-11T19:04:36.714974Z"
    },
    "papermill": {
     "duration": 2304.807286,
     "end_time": "2020-12-11T19:04:36.716110",
     "exception": false,
     "start_time": "2020-12-11T18:26:11.908824",
     "status": "completed"
    },
    "tags": []
   },
   "outputs": [],
   "source": [
    "test_pred1, train_pred1 = stacking_nn(model=model1, n_fold=5, train=X_train, test=X_test, y=y_train)"
   ]
  },
  {
   "cell_type": "code",
   "execution_count": 13,
   "metadata": {
    "execution": {
     "iopub.execute_input": "2020-12-11T19:04:36.804041Z",
     "iopub.status.busy": "2020-12-11T19:04:36.803149Z",
     "iopub.status.idle": "2020-12-11T19:04:36.809389Z",
     "shell.execute_reply": "2020-12-11T19:04:36.808251Z"
    },
    "papermill": {
     "duration": 0.064262,
     "end_time": "2020-12-11T19:04:36.809574",
     "exception": false,
     "start_time": "2020-12-11T19:04:36.745312",
     "status": "completed"
    },
    "tags": []
   },
   "outputs": [
    {
     "name": "stdout",
     "output_type": "stream",
     "text": [
      "(23814, 206)\n",
      "(3982, 206)\n",
      "   5-alpha_reductase_inhibitor  11-beta-hsd1_inhibitor  acat_inhibitor  \\\n",
      "0                 1.416117e-03                0.000848        0.001309   \n",
      "1                 8.681118e-04                0.001084        0.001770   \n",
      "2                 1.368046e-03                0.001447        0.001284   \n",
      "3                 4.037938e-07                0.000021        0.001383   \n",
      "4                 6.737411e-04                0.001244        0.001796   \n",
      "\n",
      "   acetylcholine_receptor_agonist  acetylcholine_receptor_antagonist  \\\n",
      "0                        0.012809                           0.024730   \n",
      "1                        0.013225                           0.019984   \n",
      "2                        0.005881                           0.015284   \n",
      "3                        0.001813                           0.000188   \n",
      "4                        0.013523                           0.019065   \n",
      "\n",
      "   acetylcholinesterase_inhibitor  adenosine_receptor_agonist  \\\n",
      "0                        0.003953                    0.003706   \n",
      "1                        0.005103                    0.004409   \n",
      "2                        0.006202                    0.003907   \n",
      "3                        0.000124                    0.000308   \n",
      "4                        0.004642                    0.003916   \n",
      "\n",
      "   adenosine_receptor_antagonist  adenylyl_cyclase_activator  \\\n",
      "0                       0.005550                7.593334e-04   \n",
      "1                       0.002994                1.904964e-04   \n",
      "2                       0.006725                1.349270e-03   \n",
      "3                       0.000135                7.255708e-08   \n",
      "4                       0.002881                2.043545e-04   \n",
      "\n",
      "   adrenergic_receptor_agonist  ...  tropomyosin_receptor_kinase_inhibitor  \\\n",
      "0                     0.021241  ...                               0.000257   \n",
      "1                     0.017998  ...                               0.000410   \n",
      "2                     0.021272  ...                               0.000249   \n",
      "3                     0.000308  ...                               0.000001   \n",
      "4                     0.015840  ...                               0.000487   \n",
      "\n",
      "   trpv_agonist  trpv_antagonist  tubulin_inhibitor  \\\n",
      "0      0.000146         0.002906           0.000310   \n",
      "1      0.000515         0.002852           0.003114   \n",
      "2      0.000780         0.002294           0.000872   \n",
      "3      0.009867         0.000255           0.501670   \n",
      "4      0.000617         0.003160           0.002337   \n",
      "\n",
      "   tyrosine_kinase_inhibitor  ubiquitin_specific_protease_inhibitor  \\\n",
      "0                   0.001239                           2.283752e-04   \n",
      "1                   0.001395                           2.514422e-04   \n",
      "2                   0.002841                           3.483593e-04   \n",
      "3                   0.004710                           7.948688e-07   \n",
      "4                   0.001158                           2.716780e-04   \n",
      "\n",
      "   vegfr_inhibitor  vitamin_b  vitamin_d_receptor_agonist  wnt_inhibitor  \n",
      "0         0.001042   0.001492                    0.000905       0.001737  \n",
      "1         0.000993   0.001612                    0.002445       0.001937  \n",
      "2         0.005853   0.001249                    0.003163       0.001557  \n",
      "3         0.000837   0.000064                    0.000057       0.000055  \n",
      "4         0.000855   0.001599                    0.002451       0.001667  \n",
      "\n",
      "[5 rows x 206 columns]\n",
      "   5-alpha_reductase_inhibitor  11-beta-hsd1_inhibitor  acat_inhibitor  \\\n",
      "0                     0.000255                0.000287    1.811564e-03   \n",
      "1                     0.000424                0.000641    5.485415e-04   \n",
      "2                     0.000000                0.000000    1.132106e-33   \n",
      "3                     0.000059                0.000037    4.127800e-03   \n",
      "4                     0.000627                0.000498    2.491713e-03   \n",
      "\n",
      "   acetylcholine_receptor_agonist  acetylcholine_receptor_antagonist  \\\n",
      "0                    2.304640e-02                       2.340531e-02   \n",
      "1                    8.783638e-04                       2.861559e-03   \n",
      "2                    1.310781e-21                       3.184588e-20   \n",
      "3                    3.188112e-02                       2.932984e-02   \n",
      "4                    2.310476e-02                       2.663380e-02   \n",
      "\n",
      "   acetylcholinesterase_inhibitor  adenosine_receptor_agonist  \\\n",
      "0                    3.778368e-03                4.940987e-03   \n",
      "1                    1.462549e-03                1.538038e-03   \n",
      "2                    1.855646e-30                7.888120e-29   \n",
      "3                    3.879845e-03                3.993690e-03   \n",
      "4                    5.361050e-03                6.140471e-03   \n",
      "\n",
      "   adenosine_receptor_antagonist  adenylyl_cyclase_activator  \\\n",
      "0                   3.307611e-03                3.513663e-05   \n",
      "1                   2.284425e-02                2.333075e-02   \n",
      "2                   3.967529e-30                0.000000e+00   \n",
      "3                   2.848297e-03                3.551038e-07   \n",
      "4                   3.462940e-03                5.893162e-05   \n",
      "\n",
      "   adrenergic_receptor_agonist  ...  tropomyosin_receptor_kinase_inhibitor  \\\n",
      "0                 1.346305e-02  ...                               0.001493   \n",
      "1                 2.181283e-02  ...                               0.000025   \n",
      "2                 1.564513e-23  ...                               0.000000   \n",
      "3                 6.373584e-03  ...                               0.000709   \n",
      "4                 1.695079e-02  ...                               0.000970   \n",
      "\n",
      "   trpv_agonist  trpv_antagonist  tubulin_inhibitor  \\\n",
      "0      0.000548     4.601806e-03       1.133323e-03   \n",
      "1      0.000043     1.323462e-03       2.937766e-05   \n",
      "2      0.000000     6.924692e-29       1.563947e-22   \n",
      "3      0.002135     6.029844e-03       4.425821e-02   \n",
      "4      0.000734     5.043954e-03       2.064317e-03   \n",
      "\n",
      "   tyrosine_kinase_inhibitor  ubiquitin_specific_protease_inhibitor  \\\n",
      "0               3.040433e-04                               0.000244   \n",
      "1               1.109818e-02                               0.000088   \n",
      "2               3.709669e-32                               0.000000   \n",
      "3               1.815540e-02                               0.000038   \n",
      "4               8.544326e-04                               0.000339   \n",
      "\n",
      "   vegfr_inhibitor     vitamin_b  vitamin_d_receptor_agonist  wnt_inhibitor  \n",
      "0     1.181811e-03  2.438486e-03                    0.000099   1.712322e-03  \n",
      "1     9.581536e-03  2.653301e-04                    0.001474   3.220588e-03  \n",
      "2     5.086502e-31  8.233476e-37                    0.000000   2.578417e-35  \n",
      "3     4.945397e-04  5.060583e-03                    0.000142   2.691150e-03  \n",
      "4     1.436174e-03  2.602369e-03                    0.000120   1.957446e-03  \n",
      "\n",
      "[5 rows x 206 columns]\n"
     ]
    }
   ],
   "source": [
    "print(train_pred1.shape)\n",
    "print(test_pred1.shape)\n",
    "print(train_pred1.head())\n",
    "print(test_pred1.head())"
   ]
  },
  {
   "cell_type": "markdown",
   "metadata": {
    "papermill": {
     "duration": 0.029076,
     "end_time": "2020-12-11T19:04:36.872858",
     "exception": false,
     "start_time": "2020-12-11T19:04:36.843782",
     "status": "completed"
    },
    "tags": []
   },
   "source": [
    "### LightGBM"
   ]
  },
  {
   "cell_type": "code",
   "execution_count": 14,
   "metadata": {
    "execution": {
     "iopub.execute_input": "2020-12-11T19:04:36.971573Z",
     "iopub.status.busy": "2020-12-11T19:04:36.970387Z",
     "iopub.status.idle": "2020-12-11T20:26:56.521099Z",
     "shell.execute_reply": "2020-12-11T20:26:56.522139Z"
    },
    "papermill": {
     "duration": 4939.621878,
     "end_time": "2020-12-11T20:26:56.522606",
     "exception": false,
     "start_time": "2020-12-11T19:04:36.900728",
     "status": "completed"
    },
    "tags": []
   },
   "outputs": [],
   "source": [
    "params = {\n",
    "    'objective': 'binary',\n",
    "    'metric': 'binary_logloss',\n",
    "    'boosting_type': \"gbdt\",\n",
    "    'num_leaves': 500,\n",
    "    'min_child_weight': 0.01,\n",
    "    'feature_fraction': 0.5,\n",
    "    'bagging_fraction': 0.6,\n",
    "    'min_data_in_leaf': 100,\n",
    "    'max_depth': -1,\n",
    "    'learning_rate': 0.01,\n",
    "    'bagging_seed': 11,\n",
    "    'verbosity': 0,\n",
    "    'reg_alpha': 0.4,\n",
    "    'reg_lambda': 0.6,\n",
    "    'random_state': 0\n",
    "         }\n",
    "\n",
    "test_pred2, train_pred2 = stacking_gbm(n_fold=3, train=X_train, test=X_test, y=y_train, params=params)"
   ]
  },
  {
   "cell_type": "code",
   "execution_count": 15,
   "metadata": {
    "execution": {
     "iopub.execute_input": "2020-12-11T20:26:56.603208Z",
     "iopub.status.busy": "2020-12-11T20:26:56.602164Z",
     "iopub.status.idle": "2020-12-11T20:26:56.656505Z",
     "shell.execute_reply": "2020-12-11T20:26:56.657226Z"
    },
    "papermill": {
     "duration": 0.097161,
     "end_time": "2020-12-11T20:26:56.657417",
     "exception": false,
     "start_time": "2020-12-11T20:26:56.560256",
     "status": "completed"
    },
    "tags": []
   },
   "outputs": [
    {
     "name": "stdout",
     "output_type": "stream",
     "text": [
      "(23814, 206)\n",
      "(3982, 206)\n",
      "   5-alpha_reductase_inhibitor  11-beta-hsd1_inhibitor  acat_inhibitor  \\\n",
      "0                     0.000690                0.000178        0.001004   \n",
      "1                     0.000687                0.000264        0.001011   \n",
      "2                     0.000690                0.000713        0.001004   \n",
      "3                     0.000687                0.000439        0.001045   \n",
      "4                     0.000690                0.000153        0.001109   \n",
      "\n",
      "   acetylcholine_receptor_agonist  acetylcholine_receptor_antagonist  \\\n",
      "0                        0.005602                           0.012616   \n",
      "1                        0.007729                           0.007978   \n",
      "2                        0.006266                           0.009222   \n",
      "3                        0.005178                           0.004784   \n",
      "4                        0.007295                           0.011268   \n",
      "\n",
      "   acetylcholinesterase_inhibitor  adenosine_receptor_agonist  \\\n",
      "0                        0.001528                    0.002619   \n",
      "1                        0.001393                    0.001982   \n",
      "2                        0.002062                    0.002670   \n",
      "3                        0.001499                    0.001825   \n",
      "4                        0.002552                    0.002097   \n",
      "\n",
      "   adenosine_receptor_antagonist  adenylyl_cyclase_activator  \\\n",
      "0                       0.003113                    0.000297   \n",
      "1                       0.003157                    0.000196   \n",
      "2                       0.003668                    0.000376   \n",
      "3                       0.002889                    0.000216   \n",
      "4                       0.004920                    0.000253   \n",
      "\n",
      "   adrenergic_receptor_agonist  ...  tropomyosin_receptor_kinase_inhibitor  \\\n",
      "0                     0.006883  ...                               0.000188   \n",
      "1                     0.007145  ...                               0.000188   \n",
      "2                     0.010436  ...                               0.000188   \n",
      "3                     0.003700  ...                               0.000188   \n",
      "4                     0.008002  ...                               0.000188   \n",
      "\n",
      "   trpv_agonist  trpv_antagonist  tubulin_inhibitor  \\\n",
      "0      0.000414         0.001872           0.001022   \n",
      "1      0.000396         0.001710           0.001022   \n",
      "2      0.000467         0.002004           0.002605   \n",
      "3      0.001497         0.001685           0.100413   \n",
      "4      0.000423         0.001945           0.003037   \n",
      "\n",
      "   tyrosine_kinase_inhibitor  ubiquitin_specific_protease_inhibitor  \\\n",
      "0                   0.002332                               0.000124   \n",
      "1                   0.001506                               0.000124   \n",
      "2                   0.002983                               0.000124   \n",
      "3                   0.003599                               0.000125   \n",
      "4                   0.001726                               0.000126   \n",
      "\n",
      "   vegfr_inhibitor  vitamin_b  vitamin_d_receptor_agonist  wnt_inhibitor  \n",
      "0         0.001134   0.000972                    0.000104       0.001124  \n",
      "1         0.001154   0.000983                    0.000273       0.001131  \n",
      "2         0.077856   0.000977                    0.000110       0.001129  \n",
      "3         0.001350   0.000984                    0.000117       0.001148  \n",
      "4         0.002252   0.000986                    0.000280       0.001117  \n",
      "\n",
      "[5 rows x 206 columns]\n",
      "   5-alpha_reductase_inhibitor  11-beta-hsd1_inhibitor  acat_inhibitor  \\\n",
      "0                     0.000460                0.000448        0.000955   \n",
      "1                     0.000429                0.000449        0.000958   \n",
      "2                     0.000423                0.000438        0.000953   \n",
      "3                     0.000458                0.000443        0.001049   \n",
      "4                     0.000497                0.000508        0.001008   \n",
      "\n",
      "   acetylcholine_receptor_agonist  acetylcholine_receptor_antagonist  \\\n",
      "0                        0.009153                           0.011851   \n",
      "1                        0.006870                           0.009115   \n",
      "2                        0.004607                           0.005350   \n",
      "3                        0.006483                           0.008138   \n",
      "4                        0.008726                           0.010158   \n",
      "\n",
      "   acetylcholinesterase_inhibitor  adenosine_receptor_agonist  \\\n",
      "0                        0.002229                    0.001651   \n",
      "1                        0.002422                    0.001602   \n",
      "2                        0.001945                    0.001426   \n",
      "3                        0.002611                    0.001718   \n",
      "4                        0.002251                    0.001787   \n",
      "\n",
      "   adenosine_receptor_antagonist  adenylyl_cyclase_activator  \\\n",
      "0                       0.004102                    0.000150   \n",
      "1                       0.003416                    0.000137   \n",
      "2                       0.002604                    0.000118   \n",
      "3                       0.003366                    0.000126   \n",
      "4                       0.003174                    0.000142   \n",
      "\n",
      "   adrenergic_receptor_agonist  ...  tropomyosin_receptor_kinase_inhibitor  \\\n",
      "0                     0.009772  ...                               0.000200   \n",
      "1                     0.008886  ...                               0.000192   \n",
      "2                     0.002952  ...                               0.000192   \n",
      "3                     0.009276  ...                               0.000192   \n",
      "4                     0.007131  ...                               0.000206   \n",
      "\n",
      "   trpv_agonist  trpv_antagonist  tubulin_inhibitor  \\\n",
      "0      0.000379         0.001636           0.000956   \n",
      "1      0.000405         0.001573           0.000672   \n",
      "2      0.000321         0.001466           0.000445   \n",
      "3      0.000402         0.001573           0.002158   \n",
      "4      0.000335         0.001880           0.002068   \n",
      "\n",
      "   tyrosine_kinase_inhibitor  ubiquitin_specific_protease_inhibitor  \\\n",
      "0                   0.001794                               0.000134   \n",
      "1                   0.006767                               0.000136   \n",
      "2                   0.001316                               0.000130   \n",
      "3                   0.002012                               0.000138   \n",
      "4                   0.001928                               0.000137   \n",
      "\n",
      "   vegfr_inhibitor  vitamin_b  vitamin_d_receptor_agonist  wnt_inhibitor  \n",
      "0         0.001406   0.000987                    0.000307       0.001146  \n",
      "1         0.002066   0.000911                    0.000816       0.001145  \n",
      "2         0.000659   0.000909                    0.000171       0.001093  \n",
      "3         0.001311   0.000942                    0.000313       0.001207  \n",
      "4         0.001091   0.001051                    0.000249       0.001116  \n",
      "\n",
      "[5 rows x 206 columns]\n"
     ]
    }
   ],
   "source": [
    "print(train_pred2.shape)\n",
    "print(test_pred2.shape)\n",
    "print(train_pred2.head())\n",
    "print(test_pred2.head())"
   ]
  },
  {
   "cell_type": "markdown",
   "metadata": {
    "papermill": {
     "duration": 0.028432,
     "end_time": "2020-12-11T20:26:56.734893",
     "exception": false,
     "start_time": "2020-12-11T20:26:56.706461",
     "status": "completed"
    },
    "tags": []
   },
   "source": [
    "### Meta learning NN"
   ]
  },
  {
   "cell_type": "code",
   "execution_count": 16,
   "metadata": {
    "execution": {
     "iopub.execute_input": "2020-12-11T20:26:56.805146Z",
     "iopub.status.busy": "2020-12-11T20:26:56.801351Z",
     "iopub.status.idle": "2020-12-11T20:26:56.932090Z",
     "shell.execute_reply": "2020-12-11T20:26:56.931103Z"
    },
    "papermill": {
     "duration": 0.168534,
     "end_time": "2020-12-11T20:26:56.932298",
     "exception": false,
     "start_time": "2020-12-11T20:26:56.763764",
     "status": "completed"
    },
    "tags": []
   },
   "outputs": [
    {
     "name": "stdout",
     "output_type": "stream",
     "text": [
      "(23814, 618)\n",
      "(23814, 206)\n",
      "(3982, 618)\n",
      "   5-alpha_reductase_inhibitor  11-beta-hsd1_inhibitor  acat_inhibitor  \\\n",
      "0                     0.004778                0.006790        0.002768   \n",
      "1                     0.003462                0.003832        0.004392   \n",
      "2                     0.003563                0.003301        0.005360   \n",
      "3                     0.003942                0.005014        0.003191   \n",
      "4                     0.002293                0.004487        0.008529   \n",
      "\n",
      "   acetylcholine_receptor_agonist  acetylcholine_receptor_antagonist  \\\n",
      "0                        0.012949                           0.124682   \n",
      "1                        0.009566                           0.019255   \n",
      "2                        0.001522                           0.023335   \n",
      "3                        0.001999                           0.003640   \n",
      "4                        0.016428                           0.003998   \n",
      "\n",
      "   acetylcholinesterase_inhibitor  adenosine_receptor_agonist  \\\n",
      "0                        0.008535                    0.008418   \n",
      "1                        0.008256                    0.004527   \n",
      "2                        0.004052                    0.003918   \n",
      "3                        0.004015                    0.004858   \n",
      "4                        0.005545                    0.005247   \n",
      "\n",
      "   adenosine_receptor_antagonist  adenylyl_cyclase_activator  \\\n",
      "0                       0.004783                    0.004074   \n",
      "1                       0.006642                    0.004264   \n",
      "2                       0.010229                    0.005545   \n",
      "3                       0.004347                    0.003183   \n",
      "4                       0.003686                    0.006007   \n",
      "\n",
      "   adrenergic_receptor_agonist  ...  tropomyosin_receptor_kinase_inhibitor  \\\n",
      "0                     0.009075  ...                               0.000188   \n",
      "1                     0.007526  ...                               0.000188   \n",
      "2                     0.004244  ...                               0.000188   \n",
      "3                     0.003708  ...                               0.000188   \n",
      "4                     0.038564  ...                               0.000188   \n",
      "\n",
      "   trpv_agonist  trpv_antagonist  tubulin_inhibitor  \\\n",
      "0      0.000414         0.001872           0.001022   \n",
      "1      0.000396         0.001710           0.001022   \n",
      "2      0.000467         0.002004           0.002605   \n",
      "3      0.001497         0.001685           0.100413   \n",
      "4      0.000423         0.001945           0.003037   \n",
      "\n",
      "   tyrosine_kinase_inhibitor  ubiquitin_specific_protease_inhibitor  \\\n",
      "0                   0.002332                               0.000124   \n",
      "1                   0.001506                               0.000124   \n",
      "2                   0.002983                               0.000124   \n",
      "3                   0.003599                               0.000125   \n",
      "4                   0.001726                               0.000126   \n",
      "\n",
      "   vegfr_inhibitor  vitamin_b  vitamin_d_receptor_agonist  wnt_inhibitor  \n",
      "0         0.001134   0.000972                    0.000104       0.001124  \n",
      "1         0.001154   0.000983                    0.000273       0.001131  \n",
      "2         0.077856   0.000977                    0.000110       0.001129  \n",
      "3         0.001350   0.000984                    0.000117       0.001148  \n",
      "4         0.002252   0.000986                    0.000280       0.001117  \n",
      "\n",
      "[5 rows x 618 columns]\n",
      "   5-alpha_reductase_inhibitor  11-beta-hsd1_inhibitor  acat_inhibitor  \\\n",
      "0                     0.003464                0.003232        0.003700   \n",
      "1                     0.001319                0.002607        0.001806   \n",
      "2                     0.002589                0.002450        0.002615   \n",
      "3                     0.002019                0.002437        0.003028   \n",
      "4                     0.004032                0.004320        0.006233   \n",
      "\n",
      "   acetylcholine_receptor_agonist  acetylcholine_receptor_antagonist  \\\n",
      "0                        0.015732                           0.019428   \n",
      "1                        0.001350                           0.004579   \n",
      "2                        0.003232                           0.003695   \n",
      "3                        0.006401                           0.002983   \n",
      "4                        0.011106                           0.022038   \n",
      "\n",
      "   acetylcholinesterase_inhibitor  adenosine_receptor_agonist  \\\n",
      "0                        0.003676                    0.001850   \n",
      "1                        0.009560                    0.003614   \n",
      "2                        0.002953                    0.002708   \n",
      "3                        0.006393                    0.001779   \n",
      "4                        0.002113                    0.005945   \n",
      "\n",
      "   adenosine_receptor_antagonist  adenylyl_cyclase_activator  \\\n",
      "0                       0.004582                    0.002065   \n",
      "1                       0.007876                    0.004559   \n",
      "2                       0.002908                    0.002426   \n",
      "3                       0.003501                    0.001886   \n",
      "4                       0.002903                    0.002617   \n",
      "\n",
      "   adrenergic_receptor_agonist  ...  tropomyosin_receptor_kinase_inhibitor  \\\n",
      "0                     0.022688  ...                               0.000200   \n",
      "1                     0.011641  ...                               0.000192   \n",
      "2                     0.003773  ...                               0.000192   \n",
      "3                     0.027931  ...                               0.000192   \n",
      "4                     0.012608  ...                               0.000206   \n",
      "\n",
      "   trpv_agonist  trpv_antagonist  tubulin_inhibitor  \\\n",
      "0      0.000379         0.001636           0.000956   \n",
      "1      0.000405         0.001573           0.000672   \n",
      "2      0.000321         0.001466           0.000445   \n",
      "3      0.000402         0.001573           0.002158   \n",
      "4      0.000335         0.001880           0.002068   \n",
      "\n",
      "   tyrosine_kinase_inhibitor  ubiquitin_specific_protease_inhibitor  \\\n",
      "0                   0.001794                               0.000134   \n",
      "1                   0.006767                               0.000136   \n",
      "2                   0.001316                               0.000130   \n",
      "3                   0.002012                               0.000138   \n",
      "4                   0.001928                               0.000137   \n",
      "\n",
      "   vegfr_inhibitor  vitamin_b  vitamin_d_receptor_agonist  wnt_inhibitor  \n",
      "0         0.001406   0.000987                    0.000307       0.001146  \n",
      "1         0.002066   0.000911                    0.000816       0.001145  \n",
      "2         0.000659   0.000909                    0.000171       0.001093  \n",
      "3         0.001311   0.000942                    0.000313       0.001207  \n",
      "4         0.001091   0.001051                    0.000249       0.001116  \n",
      "\n",
      "[5 rows x 618 columns]\n"
     ]
    }
   ],
   "source": [
    "df_train = pd.concat([train_pred0, train_pred1, train_pred2], axis=1)\n",
    "df_test = pd.concat([test_pred0, test_pred1, test_pred2], axis=1)\n",
    "print(df_train.shape)\n",
    "print(y_train.shape)\n",
    "print(df_test.shape)\n",
    "print(df_train.head())\n",
    "print(df_test.head())"
   ]
  },
  {
   "cell_type": "code",
   "execution_count": 17,
   "metadata": {
    "execution": {
     "iopub.execute_input": "2020-12-11T20:26:57.008854Z",
     "iopub.status.busy": "2020-12-11T20:26:57.007900Z",
     "iopub.status.idle": "2020-12-11T20:26:57.011131Z",
     "shell.execute_reply": "2020-12-11T20:26:57.010350Z"
    },
    "papermill": {
     "duration": 0.043921,
     "end_time": "2020-12-11T20:26:57.011270",
     "exception": false,
     "start_time": "2020-12-11T20:26:56.967349",
     "status": "completed"
    },
    "tags": []
   },
   "outputs": [],
   "source": [
    "def create_meta_model(n_input):\n",
    "    model = Sequential()\n",
    "    model.add(Input(n_input))\n",
    "    model.add(BatchNormalization())\n",
    "    model.add(Dropout(0.3))\n",
    "    model.add(Dense(1024, activation=\"sigmoid\"))\n",
    "    model.add(Dropout(0.6))\n",
    "    model.add(Dense(512, activation=\"sigmoid\"))\n",
    "    model.add(Dropout(0.6))\n",
    "    model.add(Dense(206, activation=\"sigmoid\"))\n",
    "    model.compile(optimizer=\"adamax\", loss='binary_crossentropy', metrics=['accuracy'])\n",
    "    return model"
   ]
  },
  {
   "cell_type": "code",
   "execution_count": 18,
   "metadata": {
    "execution": {
     "iopub.execute_input": "2020-12-11T20:26:57.084741Z",
     "iopub.status.busy": "2020-12-11T20:26:57.083627Z",
     "iopub.status.idle": "2020-12-11T20:26:57.216407Z",
     "shell.execute_reply": "2020-12-11T20:26:57.215488Z"
    },
    "papermill": {
     "duration": 0.174697,
     "end_time": "2020-12-11T20:26:57.216548",
     "exception": false,
     "start_time": "2020-12-11T20:26:57.041851",
     "status": "completed"
    },
    "tags": []
   },
   "outputs": [
    {
     "name": "stdout",
     "output_type": "stream",
     "text": [
      "Model: \"sequential_1\"\n",
      "_________________________________________________________________\n",
      "Layer (type)                 Output Shape              Param #   \n",
      "=================================================================\n",
      "batch_normalization_1 (Batch (None, 618)               2472      \n",
      "_________________________________________________________________\n",
      "dropout_4 (Dropout)          (None, 618)               0         \n",
      "_________________________________________________________________\n",
      "dense_4 (Dense)              (None, 1024)              633856    \n",
      "_________________________________________________________________\n",
      "dropout_5 (Dropout)          (None, 1024)              0         \n",
      "_________________________________________________________________\n",
      "dense_5 (Dense)              (None, 512)               524800    \n",
      "_________________________________________________________________\n",
      "dropout_6 (Dropout)          (None, 512)               0         \n",
      "_________________________________________________________________\n",
      "dense_6 (Dense)              (None, 206)               105678    \n",
      "=================================================================\n",
      "Total params: 1,266,806\n",
      "Trainable params: 1,265,570\n",
      "Non-trainable params: 1,236\n",
      "_________________________________________________________________\n"
     ]
    }
   ],
   "source": [
    "meta_model = create_meta_model(df_train.shape[1])\n",
    "meta_model.summary()"
   ]
  },
  {
   "cell_type": "code",
   "execution_count": 19,
   "metadata": {
    "execution": {
     "iopub.execute_input": "2020-12-11T20:26:57.288118Z",
     "iopub.status.busy": "2020-12-11T20:26:57.287050Z",
     "iopub.status.idle": "2020-12-11T20:29:21.448348Z",
     "shell.execute_reply": "2020-12-11T20:29:21.447530Z"
    },
    "papermill": {
     "duration": 144.20055,
     "end_time": "2020-12-11T20:29:21.448498",
     "exception": false,
     "start_time": "2020-12-11T20:26:57.247948",
     "status": "completed"
    },
    "tags": []
   },
   "outputs": [
    {
     "name": "stdout",
     "output_type": "stream",
     "text": [
      "Epoch 1/20\n",
      "596/596 [==============================] - 7s 12ms/step - loss: 0.0322 - accuracy: 0.0130 - val_loss: 0.0210 - val_accuracy: 0.0334\n",
      "Epoch 2/20\n",
      "596/596 [==============================] - 7s 12ms/step - loss: 0.0221 - accuracy: 0.0259 - val_loss: 0.0195 - val_accuracy: 0.0617\n",
      "Epoch 3/20\n",
      "596/596 [==============================] - 7s 12ms/step - loss: 0.0207 - accuracy: 0.0392 - val_loss: 0.0184 - val_accuracy: 0.0798\n",
      "Epoch 4/20\n",
      "596/596 [==============================] - 7s 12ms/step - loss: 0.0193 - accuracy: 0.0701 - val_loss: 0.0175 - val_accuracy: 0.0794\n",
      "Epoch 5/20\n",
      "596/596 [==============================] - 7s 12ms/step - loss: 0.0184 - accuracy: 0.0873 - val_loss: 0.0170 - val_accuracy: 0.0928\n",
      "Epoch 6/20\n",
      "596/596 [==============================] - 7s 11ms/step - loss: 0.0179 - accuracy: 0.0960 - val_loss: 0.0166 - val_accuracy: 0.1037\n",
      "Epoch 7/20\n",
      "596/596 [==============================] - 7s 12ms/step - loss: 0.0174 - accuracy: 0.0997 - val_loss: 0.0163 - val_accuracy: 0.1033\n",
      "Epoch 8/20\n",
      "596/596 [==============================] - 7s 12ms/step - loss: 0.0171 - accuracy: 0.1028 - val_loss: 0.0162 - val_accuracy: 0.1113\n",
      "Epoch 9/20\n",
      "596/596 [==============================] - 7s 12ms/step - loss: 0.0170 - accuracy: 0.1051 - val_loss: 0.0160 - val_accuracy: 0.1033\n",
      "Epoch 10/20\n",
      "596/596 [==============================] - 7s 12ms/step - loss: 0.0167 - accuracy: 0.1049 - val_loss: 0.0159 - val_accuracy: 0.1148\n",
      "Epoch 11/20\n",
      "596/596 [==============================] - 8s 13ms/step - loss: 0.0165 - accuracy: 0.1094 - val_loss: 0.0158 - val_accuracy: 0.1163\n",
      "Epoch 12/20\n",
      "596/596 [==============================] - 8s 13ms/step - loss: 0.0164 - accuracy: 0.1124 - val_loss: 0.0158 - val_accuracy: 0.1151\n",
      "Epoch 13/20\n",
      "596/596 [==============================] - 8s 13ms/step - loss: 0.0163 - accuracy: 0.1103 - val_loss: 0.0157 - val_accuracy: 0.1151\n",
      "Epoch 14/20\n",
      "596/596 [==============================] - 7s 12ms/step - loss: 0.0162 - accuracy: 0.1153 - val_loss: 0.0156 - val_accuracy: 0.1193\n",
      "Epoch 15/20\n",
      "596/596 [==============================] - 7s 12ms/step - loss: 0.0161 - accuracy: 0.1166 - val_loss: 0.0156 - val_accuracy: 0.1190\n",
      "Epoch 16/20\n",
      "596/596 [==============================] - 7s 11ms/step - loss: 0.0160 - accuracy: 0.1140 - val_loss: 0.0155 - val_accuracy: 0.1182\n",
      "Epoch 17/20\n",
      "596/596 [==============================] - 7s 12ms/step - loss: 0.0159 - accuracy: 0.1161 - val_loss: 0.0155 - val_accuracy: 0.1148\n",
      "Epoch 18/20\n",
      "596/596 [==============================] - 7s 12ms/step - loss: 0.0159 - accuracy: 0.1175 - val_loss: 0.0155 - val_accuracy: 0.1176\n",
      "Epoch 19/20\n",
      "596/596 [==============================] - 7s 12ms/step - loss: 0.0158 - accuracy: 0.1180 - val_loss: 0.0154 - val_accuracy: 0.1232\n",
      "Epoch 20/20\n",
      "596/596 [==============================] - 7s 12ms/step - loss: 0.0157 - accuracy: 0.1186 - val_loss: 0.0154 - val_accuracy: 0.1188\n"
     ]
    }
   ],
   "source": [
    "hist = meta_model.fit(df_train, y_train, batch_size=32, validation_split=0.2, verbose=1, epochs=20)"
   ]
  },
  {
   "cell_type": "code",
   "execution_count": 20,
   "metadata": {
    "execution": {
     "iopub.execute_input": "2020-12-11T20:29:23.639078Z",
     "iopub.status.busy": "2020-12-11T20:29:23.638319Z",
     "iopub.status.idle": "2020-12-11T20:29:23.909194Z",
     "shell.execute_reply": "2020-12-11T20:29:23.908466Z"
    },
    "papermill": {
     "duration": 1.318622,
     "end_time": "2020-12-11T20:29:23.909339",
     "exception": false,
     "start_time": "2020-12-11T20:29:22.590717",
     "status": "completed"
    },
    "tags": []
   },
   "outputs": [
    {
     "data": {
      "text/plain": [
       "Text(0.5, 1.0, 'Accuracy')"
      ]
     },
     "execution_count": 20,
     "metadata": {},
     "output_type": "execute_result"
    },
    {
     "data": {
      "image/png": "[encoded data removed]",
      "text/plain": [
       "<Figure size 1080x504 with 1 Axes>"
      ]
     },
     "metadata": {
      "needs_background": "light"
     },
     "output_type": "display_data"
    }
   ],
   "source": [
    "# Draw fitting info\n",
    "plt.figure(figsize=(15, 7))\n",
    "plt.plot(hist.history['accuracy'])\n",
    "plt.plot(hist.history['val_accuracy'])\n",
    "plt.xlabel('Epoch')\n",
    "plt.ylabel('Accuracy')\n",
    "plt.legend(['Train_Accuracy', 'Val_accuracy'])\n",
    "plt.title('Accuracy')\n"
   ]
  },
  {
   "cell_type": "code",
   "execution_count": 21,
   "metadata": {
    "execution": {
     "iopub.execute_input": "2020-12-11T20:29:26.039810Z",
     "iopub.status.busy": "2020-12-11T20:29:26.038696Z",
     "iopub.status.idle": "2020-12-11T20:29:29.780178Z",
     "shell.execute_reply": "2020-12-11T20:29:29.779295Z"
    },
    "papermill": {
     "duration": 4.834358,
     "end_time": "2020-12-11T20:29:29.780318",
     "exception": false,
     "start_time": "2020-12-11T20:29:24.945960",
     "status": "completed"
    },
    "tags": []
   },
   "outputs": [],
   "source": [
    "preds = meta_model.predict(df_test)\n",
    "submission = pd.DataFrame.from_records(preds)\n",
    "submission.insert(0, \"sig_id\", sig_id)\n",
    "submission.columns = sub.columns\n",
    "submission.to_csv('submission.csv', index=False)"
   ]
  }
 ],
 "metadata": {
  "kernelspec": {
   "display_name": "Python 3",
   "language": "python",
   "name": "python3"
  },
  "language_info": {
   "codemirror_mode": {
    "name": "ipython",
    "version": 3
   },
   "file_extension": ".py",
   "mimetype": "text/x-python",
   "name": "python",
   "nbconvert_exporter": "python",
   "pygments_lexer": "ipython3",
   "version": "3.7.6"
  },
  "papermill": {
   "duration": 18944.945688,
   "end_time": "2020-12-11T20:29:31.037686",
   "environment_variables": {},
   "exception": null,
   "input_path": "__notebook__.ipynb",
   "output_path": "__notebook__.ipynb",
   "parameters": {},
   "start_time": "2020-12-11T15:13:46.091998",
   "version": "2.1.0"
  }
 },
 "nbformat": 4,
 "nbformat_minor": 4
}
