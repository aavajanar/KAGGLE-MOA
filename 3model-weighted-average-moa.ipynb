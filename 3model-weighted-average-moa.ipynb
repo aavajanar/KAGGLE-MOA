{
 "cells": [
  {
   "cell_type": "code",
   "execution_count": 1,
   "metadata": {
    "_cell_guid": "b1076dfc-b9ad-4769-8c92-a6c4dae69d19",
    "_uuid": "8f2839f25d086af736a60e9eeb907d3b93b6e0e5",
    "execution": {
     "iopub.execute_input": "2020-12-10T15:34:51.726938Z",
     "iopub.status.busy": "2020-12-10T15:34:51.726118Z",
     "iopub.status.idle": "2020-12-10T15:34:59.538487Z",
     "shell.execute_reply": "2020-12-10T15:34:59.539126Z"
    },
    "papermill": {
     "duration": 7.841455,
     "end_time": "2020-12-10T15:34:59.539320",
     "exception": false,
     "start_time": "2020-12-10T15:34:51.697865",
     "status": "completed"
    },
    "tags": []
   },
   "outputs": [
    {
     "data": {
      "text/html": [
       "<style type='text/css'>\n",
       ".datatable table.frame { margin-bottom: 0; }\n",
       ".datatable table.frame thead { border-bottom: none; }\n",
       ".datatable table.frame tr.coltypes td {  color: #FFFFFF;  line-height: 6px;  padding: 0 0.5em;}\n",
       ".datatable .bool    { background: #DDDD99; }\n",
       ".datatable .object  { background: #565656; }\n",
       ".datatable .int     { background: #5D9E5D; }\n",
       ".datatable .float   { background: #4040CC; }\n",
       ".datatable .str     { background: #CC4040; }\n",
       ".datatable .row_index {  background: var(--jp-border-color3);  border-right: 1px solid var(--jp-border-color0);  color: var(--jp-ui-font-color3);  font-size: 9px;}\n",
       ".datatable .frame tr.coltypes .row_index {  background: var(--jp-border-color0);}\n",
       ".datatable th:nth-child(2) { padding-left: 12px; }\n",
       ".datatable .hellipsis {  color: var(--jp-cell-editor-border-color);}\n",
       ".datatable .vellipsis {  background: var(--jp-layout-color0);  color: var(--jp-cell-editor-border-color);}\n",
       ".datatable .na {  color: var(--jp-cell-editor-border-color);  font-size: 80%;}\n",
       ".datatable .footer { font-size: 9px; }\n",
       ".datatable .frame_dimensions {  background: var(--jp-border-color3);  border-top: 1px solid var(--jp-border-color0);  color: var(--jp-ui-font-color3);  display: inline-block;  opacity: 0.6;  padding: 1px 10px 1px 5px;}\n",
       ".datatable .frame thead tr.colnames {  background-image: url('data:image/png;base64,iVBORw0KGgoAAAANSUhEUgAAABwAAAA4CAYAAADuMJi0AAAGR0lEQVR42rVZ21IbRxBtCbQrkIR2dQVjsLmDLBsET3nTQ8ouYRkQVf6e/E9+Im958qMfkgoXAaKSSj6C9Jnd2R2NeiRSRaZqitVOT5+Z6dNnWoKGlN94JFp8Ipofkb/7SOXjGyp8wF+z35K3f0uUp/GW4XfLQ8v2gefj3ZCCzojoNfue+43o1Q3l3xB/yA3JO7jnF2pCLnI+pNyx/qw7L+SQ7T2N9p2f8c60QcfcK6KGXsAd+ZvA4LlZYuSSAoOhMs5vwJkEGDlbPMaJoA+FcQ0IH38QLWkbAFLkOOhoMF5tU6/eBRhNjro0ZgKiPRAt3FLhCO/vqdgmNTm32LkmKpvBmQY4q5uAaAgbwDBG2BVv3bfI8KKAMWj2kfw9+pkZREIbEql4ST1x7hgHIANkbJ//MF8mAH/ilTCJ2tIi4ASr1IC3VNqXHKOxjy34mgoImnOQtx1g81fkqTiMOBVGcTogNhiT5iBHET8R8C+iApJUmgim3SQAXhsLQz7ee2G8gOAQNtJckBEplADiAxtX+G9NmhDl0qJKnTvyWlAMPYZnvIviGXRg6/Dh824DBXhP/tbfREXJEIvQ+aaPGjG7pvw6r3xdx+9hqb4dgZaP2XmdHO2K/B0c1+oUph6k8kShBryl/Ft0DYgjTlOieOACHFFpVyUl72T9V3cM1jUoYvxIC2vpCSys/ck70mDYuYvdvKjlMdKAUThneWVU1aAsyjv6PURDiwNsHGBZzY+JtAAgE2TFxdRHJdyIp/f+zqu09M5cDP2F08Ukkpj4YNSdX950HY2pNCCUK/Hhx5ZMBfjNSEzdsIihVzzAMdn9dz4eDYhnyQb9SSCiAryiJcQk82LiTbJ4x2FZJaUenpKnzP95WyDf4Y+QN9EFHHSeDLGdBjjKNQ5vKHf4XMA7KrY0y0GEObBOO/8e1ywuQExOHXktuQyJALEBpcEqhwtHqgiDuCK5b6i0p2MQpcckIIoh+6hYgTZtO8xlMi6O4tKCF/kOGHEg/W0UUpHW0ZoGNZ1ExZWcn7EErgwt4uj50E/sFBjXXIayWvh7WryjasxarZKssXon0zxvvkc32Q0bqbBCuZiKt9dWFysfQefeL29JYFaeztX6tePaZdz5mYx8+6Zq3Mk0wXECQxlhdzgS2wjBHju3j1RIgKyOMdNUE8X0+RAdbSapS11MRCv1SzUXmO6wGZe2SQYrv2MvCSWEv2VODE6DN7bz8ufypgQKW7uQskFTQHULLKyaEyrnlZbgOGLrV5qrn9U79jjm2HJmgkaVN98AfBub91lGPLZBqdroN5LYgjSu4zYZDDHXZOIPC691HqrWI1900I8qLzgKP4ft8DxEWigprPfrO+KcXno9gZz4jjGewWdUcpGCj0qVFuGPYbl2VturndZ2qRvlL8acDO6lF/DY/VjsFesiUK+ypJ+r/ep+cJkSQxEK4PG4WozgA75TYrDDqStE69K8/mzGEM+JXTeqvmedEElMmwCMm2SLd6bNNF9su02zEtoW6nAQtpMj5Gd7fKa//wqonF7UdtHFsVn+6hf1o7AfriPH7M6EeIUEF5zKVxXbYo7kS/OEtOqDYZKPoBsETIixn0uYrasThmzDkhdKPkz2EnaX0HdQbIgr59vAdGYDqjHrxkjS7WOxkTD8sqEqhiwcJETgBYigrBqF08KyDaje9SZ/I1A7MzaTzMGDEulPtZUkuKcyIRAjxEJPVrnVlb/9wkfij31D/pQt1IN+iL8bGJcstBIO7Y5VI/cwDqURbXhMuJxBqD0KLoK3esWFs0Jz5i5ZvJUAfFJMFb9XmGIOnzGpijpcWYCaMqXSQWp8EnCABepQ0Elyi4wfKfsw78ikIqif1pe1AGPlLmojl1SKxHHXp1L+Ut7AmDQHvhI5xHGi4EooO2BR7k78PEkJOdL7cAxQUZ/Tyclu9gnfwGgOmm2lNHGNmZXsq4Pqgc1EG1ATrvKl8s4R9ywwnqulGUnaRLVhxy8v3ieUwy2hbooT68uscW++DCDH0WSzuoyN2D4LUJ/tLECbcSKznwMIFs0ChF4mRTCnQbIIfk4SHJo6A9BMuTnXTs3Ku/KxsgZWqzuSe+Os8cEUfnMBY6UF5gi3SUbd5K7vDjq5WW0UENJlRsWn4sy21Er/E/AvPQSFHy1p4fgAAAAASUVORK5CYII=');  background-repeat: repeat-x;  background-size: 14px;  height: 28px;}\n",
       "</style>\n"
      ],
      "text/plain": [
       "<IPython.core.display.HTML object>"
      ]
     },
     "metadata": {},
     "output_type": "display_data"
    },
    {
     "name": "stdout",
     "output_type": "stream",
     "text": [
      "/kaggle/input/lish-moa/train_targets_scored.csv\n",
      "/kaggle/input/lish-moa/sample_submission.csv\n",
      "/kaggle/input/lish-moa/train_drug.csv\n",
      "/kaggle/input/lish-moa/train_targets_nonscored.csv\n",
      "/kaggle/input/lish-moa/train_features.csv\n",
      "/kaggle/input/lish-moa/test_features.csv\n"
     ]
    }
   ],
   "source": [
    "import numpy as np # linear algebra\n",
    "import pandas as pd # data processing, CSV file I/O (e.g. pd.read_csv)\n",
    "\n",
    "import keras\n",
    "from tensorflow.keras.models import Sequential\n",
    "from tensorflow.keras.layers import Input, Dense, Dropout, BatchNormalization\n",
    "\n",
    "from sklearn.model_selection import StratifiedKFold\n",
    "from sklearn.multioutput import MultiOutputClassifier\n",
    "from sklearn.linear_model import LogisticRegression\n",
    "from sklearn.preprocessing import StandardScaler\n",
    "\n",
    "import lightgbm as lgb\n",
    "\n",
    "import matplotlib.pyplot as plt\n",
    "%matplotlib inline\n",
    "\n",
    "import os\n",
    "for dirname, _, filenames in os.walk('/kaggle/input'):\n",
    "    for filename in filenames:\n",
    "        print(os.path.join(dirname, filename))"
   ]
  },
  {
   "cell_type": "markdown",
   "metadata": {
    "papermill": {
     "duration": 0.012499,
     "end_time": "2020-12-10T15:34:59.565780",
     "exception": false,
     "start_time": "2020-12-10T15:34:59.553281",
     "status": "completed"
    },
    "tags": []
   },
   "source": [
    "Ensemble related source: https://www.analyticsvidhya.com/blog/2018/06/comprehensive-guide-for-ensemble-models/ <br>\n",
    "<br>\n",
    "Notebooks used for individual models:<br>\n",
    "<br>\n",
    "Logistic Regression:<br>\n",
    "https://www.kaggle.com/sg1993/logistic-regression-model/notebook<br>\n",
    "https://www.kaggle.com/barteksadlej123/basic-logistic-regression<br>\n",
    "<br>\n",
    "LightGBM:<br>\n",
    "https://www.kaggle.com/nroman/moa-lightgbm-206-models<br>\n",
    "https://www.kaggle.com/pavelvpster/moa-lgb-optuna<br>\n",
    "<br>\n",
    "FNN:<br>\n",
    "https://www.kaggle.com/simakov/keras-multilabel-neural-network-v1-2/notebook<br>\n",
    "https://www.kaggle.com/elcaiseri/moa-keras-multilabel-classifier-nn-starter/notebook<br>\n",
    "https://www.kaggle.com/gogo827jz/moa-lstm-pure-transformer-fast-and-not-bad/notebook?scriptVersionId=42679125<br>"
   ]
  },
  {
   "cell_type": "markdown",
   "metadata": {
    "papermill": {
     "duration": 0.012124,
     "end_time": "2020-12-10T15:34:59.590545",
     "exception": false,
     "start_time": "2020-12-10T15:34:59.578421",
     "status": "completed"
    },
    "tags": []
   },
   "source": [
    "## Reading data"
   ]
  },
  {
   "cell_type": "code",
   "execution_count": 2,
   "metadata": {
    "_cell_guid": "79c7e3d0-c299-4dcb-8224-4455121ee9b0",
    "_uuid": "d629ff2d2480ee46fbb7e2d37f6b5fab8052498a",
    "execution": {
     "iopub.execute_input": "2020-12-10T15:34:59.626099Z",
     "iopub.status.busy": "2020-12-10T15:34:59.625247Z",
     "iopub.status.idle": "2020-12-10T15:35:06.634087Z",
     "shell.execute_reply": "2020-12-10T15:35:06.633555Z"
    },
    "papermill": {
     "duration": 7.03116,
     "end_time": "2020-12-10T15:35:06.634209",
     "exception": false,
     "start_time": "2020-12-10T15:34:59.603049",
     "status": "completed"
    },
    "tags": []
   },
   "outputs": [],
   "source": [
    "path = \"/kaggle/input/lish-moa/\"\n",
    "train_features = pd.read_csv(path+\"train_features.csv\")\n",
    "test_features = pd.read_csv(path+\"test_features.csv\")\n",
    "train_targets_scored = pd.read_csv(path+\"train_targets_scored.csv\")\n",
    "sub = pd.read_csv(path+\"sample_submission.csv\")\n",
    "\n",
    "# From https://www.kaggle.com/carlmcbrideellis/moa-setting-ctl-vehicle-0-improves-score\n",
    "train_features.at[train_features['cp_type'].str.contains('ctl_vehicle'),train_features.filter(regex='-.*').columns] = 0.0\n",
    "test_features.at[test_features['cp_type'].str.contains('ctl_vehicle'),test_features.filter(regex='-.*').columns] = 0.0"
   ]
  },
  {
   "cell_type": "markdown",
   "metadata": {
    "papermill": {
     "duration": 0.012351,
     "end_time": "2020-12-10T15:35:06.659241",
     "exception": false,
     "start_time": "2020-12-10T15:35:06.646890",
     "status": "completed"
    },
    "tags": []
   },
   "source": [
    "## General data processing"
   ]
  },
  {
   "cell_type": "code",
   "execution_count": 3,
   "metadata": {
    "execution": {
     "iopub.execute_input": "2020-12-10T15:35:06.689861Z",
     "iopub.status.busy": "2020-12-10T15:35:06.688946Z",
     "iopub.status.idle": "2020-12-10T15:35:06.691884Z",
     "shell.execute_reply": "2020-12-10T15:35:06.691258Z"
    },
    "papermill": {
     "duration": 0.020261,
     "end_time": "2020-12-10T15:35:06.691995",
     "exception": false,
     "start_time": "2020-12-10T15:35:06.671734",
     "status": "completed"
    },
    "tags": []
   },
   "outputs": [],
   "source": [
    "def onehotencode(data):\n",
    "    data = pd.get_dummies(data)\n",
    "    return data"
   ]
  },
  {
   "cell_type": "code",
   "execution_count": 4,
   "metadata": {
    "execution": {
     "iopub.execute_input": "2020-12-10T15:35:06.728208Z",
     "iopub.status.busy": "2020-12-10T15:35:06.726505Z",
     "iopub.status.idle": "2020-12-10T15:35:07.285948Z",
     "shell.execute_reply": "2020-12-10T15:35:07.285411Z"
    },
    "papermill": {
     "duration": 0.581464,
     "end_time": "2020-12-10T15:35:07.286110",
     "exception": false,
     "start_time": "2020-12-10T15:35:06.704646",
     "status": "completed"
    },
    "tags": []
   },
   "outputs": [],
   "source": [
    "# Dropping sig_id columns and onehot encoding\n",
    "\n",
    "X_test = test_features.copy()\n",
    "X_train = train_features.copy()\n",
    "y_train = train_targets_scored.copy()\n",
    "X_train = X_train.drop(\"sig_id\", axis=1)\n",
    "y_train = y_train.drop(\"sig_id\", axis=1)\n",
    "\n",
    "# changing cp_time to categorical before onehotencoding\n",
    "X_test = test_features.copy()\n",
    "X_train['cp_time'] = X_train['cp_time'].apply(lambda x:str(x))\n",
    "X_test['cp_time'] = X_test['cp_time'].apply(lambda x:str(x))\n",
    "\n",
    "X_train = onehotencode(X_train)\n",
    "\n",
    "sig_id = X_test[\"sig_id\"]  # getting the ids\n",
    "X_test = X_test.drop(\"sig_id\", axis=1)\n",
    "X_test = onehotencode(X_test)\n",
    "\n",
    "columns = X_test.columns  # getting the feature columns\n",
    "sub = pd.read_csv(path+\"sample_submission.csv\")"
   ]
  },
  {
   "cell_type": "markdown",
   "metadata": {
    "papermill": {
     "duration": 0.012461,
     "end_time": "2020-12-10T15:35:07.311693",
     "exception": false,
     "start_time": "2020-12-10T15:35:07.299232",
     "status": "completed"
    },
    "tags": []
   },
   "source": [
    "## Logistic Regression"
   ]
  },
  {
   "cell_type": "code",
   "execution_count": 5,
   "metadata": {
    "execution": {
     "iopub.execute_input": "2020-12-10T15:35:07.352827Z",
     "iopub.status.busy": "2020-12-10T15:35:07.351179Z",
     "iopub.status.idle": "2020-12-10T15:35:07.997458Z",
     "shell.execute_reply": "2020-12-10T15:35:07.997946Z"
    },
    "papermill": {
     "duration": 0.67368,
     "end_time": "2020-12-10T15:35:07.998138",
     "exception": false,
     "start_time": "2020-12-10T15:35:07.324458",
     "status": "completed"
    },
    "tags": []
   },
   "outputs": [],
   "source": [
    "scaler = StandardScaler()\n",
    "X_train_scaled = scaler.fit_transform(X_train)\n",
    "X_test_scaled = scaler.transform(X_test)"
   ]
  },
  {
   "cell_type": "code",
   "execution_count": 6,
   "metadata": {
    "execution": {
     "iopub.execute_input": "2020-12-10T15:35:08.032313Z",
     "iopub.status.busy": "2020-12-10T15:35:08.031011Z",
     "iopub.status.idle": "2020-12-10T16:39:15.857970Z",
     "shell.execute_reply": "2020-12-10T16:39:15.858587Z"
    },
    "papermill": {
     "duration": 3847.846871,
     "end_time": "2020-12-10T16:39:15.858783",
     "exception": false,
     "start_time": "2020-12-10T15:35:08.011912",
     "status": "completed"
    },
    "tags": []
   },
   "outputs": [
    {
     "data": {
      "text/plain": [
       "MultiOutputClassifier(estimator=LogisticRegression(C=0.01, max_iter=200,\n",
       "                                                   random_state=0,\n",
       "                                                   solver='sag'),\n",
       "                      n_jobs=-1)"
      ]
     },
     "execution_count": 6,
     "metadata": {},
     "output_type": "execute_result"
    }
   ],
   "source": [
    "model_lr = MultiOutputClassifier(LogisticRegression(C=0.01, solver=\"sag\", max_iter=200, random_state=0), n_jobs=-1)\n",
    "model_lr.fit(X_train_scaled, y_train)"
   ]
  },
  {
   "cell_type": "code",
   "execution_count": 7,
   "metadata": {
    "execution": {
     "iopub.execute_input": "2020-12-10T16:39:15.891914Z",
     "iopub.status.busy": "2020-12-10T16:39:15.891267Z",
     "iopub.status.idle": "2020-12-10T16:39:16.952362Z",
     "shell.execute_reply": "2020-12-10T16:39:16.951673Z"
    },
    "papermill": {
     "duration": 1.080614,
     "end_time": "2020-12-10T16:39:16.952483",
     "exception": false,
     "start_time": "2020-12-10T16:39:15.871869",
     "status": "completed"
    },
    "tags": []
   },
   "outputs": [
    {
     "data": {
      "text/html": [
       "<div>\n",
       "<style scoped>\n",
       "    .dataframe tbody tr th:only-of-type {\n",
       "        vertical-align: middle;\n",
       "    }\n",
       "\n",
       "    .dataframe tbody tr th {\n",
       "        vertical-align: top;\n",
       "    }\n",
       "\n",
       "    .dataframe thead th {\n",
       "        text-align: right;\n",
       "    }\n",
       "</style>\n",
       "<table border=\"1\" class=\"dataframe\">\n",
       "  <thead>\n",
       "    <tr style=\"text-align: right;\">\n",
       "      <th></th>\n",
       "      <th>sig_id</th>\n",
       "      <th>5-alpha_reductase_inhibitor</th>\n",
       "      <th>11-beta-hsd1_inhibitor</th>\n",
       "      <th>acat_inhibitor</th>\n",
       "      <th>acetylcholine_receptor_agonist</th>\n",
       "      <th>acetylcholine_receptor_antagonist</th>\n",
       "      <th>acetylcholinesterase_inhibitor</th>\n",
       "      <th>adenosine_receptor_agonist</th>\n",
       "      <th>adenosine_receptor_antagonist</th>\n",
       "      <th>adenylyl_cyclase_activator</th>\n",
       "      <th>...</th>\n",
       "      <th>tropomyosin_receptor_kinase_inhibitor</th>\n",
       "      <th>trpv_agonist</th>\n",
       "      <th>trpv_antagonist</th>\n",
       "      <th>tubulin_inhibitor</th>\n",
       "      <th>tyrosine_kinase_inhibitor</th>\n",
       "      <th>ubiquitin_specific_protease_inhibitor</th>\n",
       "      <th>vegfr_inhibitor</th>\n",
       "      <th>vitamin_b</th>\n",
       "      <th>vitamin_d_receptor_agonist</th>\n",
       "      <th>wnt_inhibitor</th>\n",
       "    </tr>\n",
       "  </thead>\n",
       "  <tbody>\n",
       "    <tr>\n",
       "      <th>0</th>\n",
       "      <td>id_0004d9e33</td>\n",
       "      <td>0.000935</td>\n",
       "      <td>0.000873</td>\n",
       "      <td>0.000999</td>\n",
       "      <td>0.004248</td>\n",
       "      <td>0.005246</td>\n",
       "      <td>0.000992</td>\n",
       "      <td>0.000499</td>\n",
       "      <td>0.001237</td>\n",
       "      <td>0.000558</td>\n",
       "      <td>...</td>\n",
       "      <td>0.001118</td>\n",
       "      <td>0.002949</td>\n",
       "      <td>0.001203</td>\n",
       "      <td>0.000533</td>\n",
       "      <td>0.000367</td>\n",
       "      <td>0.000789</td>\n",
       "      <td>0.001445</td>\n",
       "      <td>0.001714</td>\n",
       "      <td>0.002830</td>\n",
       "      <td>0.000842</td>\n",
       "    </tr>\n",
       "    <tr>\n",
       "      <th>1</th>\n",
       "      <td>id_001897cda</td>\n",
       "      <td>0.000356</td>\n",
       "      <td>0.000704</td>\n",
       "      <td>0.000488</td>\n",
       "      <td>0.000365</td>\n",
       "      <td>0.001236</td>\n",
       "      <td>0.002581</td>\n",
       "      <td>0.000976</td>\n",
       "      <td>0.002127</td>\n",
       "      <td>0.001231</td>\n",
       "      <td>...</td>\n",
       "      <td>0.000783</td>\n",
       "      <td>0.000673</td>\n",
       "      <td>0.001021</td>\n",
       "      <td>0.000255</td>\n",
       "      <td>0.001483</td>\n",
       "      <td>0.000661</td>\n",
       "      <td>0.000952</td>\n",
       "      <td>0.000783</td>\n",
       "      <td>0.001099</td>\n",
       "      <td>0.001271</td>\n",
       "    </tr>\n",
       "    <tr>\n",
       "      <th>2</th>\n",
       "      <td>id_002429b5b</td>\n",
       "      <td>0.000699</td>\n",
       "      <td>0.000662</td>\n",
       "      <td>0.000706</td>\n",
       "      <td>0.000873</td>\n",
       "      <td>0.000998</td>\n",
       "      <td>0.000797</td>\n",
       "      <td>0.000731</td>\n",
       "      <td>0.000785</td>\n",
       "      <td>0.000655</td>\n",
       "      <td>...</td>\n",
       "      <td>0.000640</td>\n",
       "      <td>0.000630</td>\n",
       "      <td>0.000689</td>\n",
       "      <td>0.000982</td>\n",
       "      <td>0.000697</td>\n",
       "      <td>0.000654</td>\n",
       "      <td>0.000724</td>\n",
       "      <td>0.000683</td>\n",
       "      <td>0.000683</td>\n",
       "      <td>0.000652</td>\n",
       "    </tr>\n",
       "    <tr>\n",
       "      <th>3</th>\n",
       "      <td>id_00276f245</td>\n",
       "      <td>0.000545</td>\n",
       "      <td>0.000658</td>\n",
       "      <td>0.000817</td>\n",
       "      <td>0.001728</td>\n",
       "      <td>0.000805</td>\n",
       "      <td>0.001726</td>\n",
       "      <td>0.000480</td>\n",
       "      <td>0.000945</td>\n",
       "      <td>0.000509</td>\n",
       "      <td>...</td>\n",
       "      <td>0.000683</td>\n",
       "      <td>0.000502</td>\n",
       "      <td>0.001621</td>\n",
       "      <td>0.006700</td>\n",
       "      <td>0.002463</td>\n",
       "      <td>0.000637</td>\n",
       "      <td>0.000626</td>\n",
       "      <td>0.000722</td>\n",
       "      <td>0.000709</td>\n",
       "      <td>0.000893</td>\n",
       "    </tr>\n",
       "    <tr>\n",
       "      <th>4</th>\n",
       "      <td>id_0027f1083</td>\n",
       "      <td>0.001089</td>\n",
       "      <td>0.001166</td>\n",
       "      <td>0.001683</td>\n",
       "      <td>0.002999</td>\n",
       "      <td>0.005950</td>\n",
       "      <td>0.000570</td>\n",
       "      <td>0.001605</td>\n",
       "      <td>0.000784</td>\n",
       "      <td>0.000707</td>\n",
       "      <td>...</td>\n",
       "      <td>0.000847</td>\n",
       "      <td>0.000293</td>\n",
       "      <td>0.002168</td>\n",
       "      <td>0.001209</td>\n",
       "      <td>0.000401</td>\n",
       "      <td>0.000924</td>\n",
       "      <td>0.001812</td>\n",
       "      <td>0.000969</td>\n",
       "      <td>0.000477</td>\n",
       "      <td>0.001038</td>\n",
       "    </tr>\n",
       "  </tbody>\n",
       "</table>\n",
       "<p>5 rows × 207 columns</p>\n",
       "</div>"
      ],
      "text/plain": [
       "         sig_id  5-alpha_reductase_inhibitor  11-beta-hsd1_inhibitor  \\\n",
       "0  id_0004d9e33                     0.000935                0.000873   \n",
       "1  id_001897cda                     0.000356                0.000704   \n",
       "2  id_002429b5b                     0.000699                0.000662   \n",
       "3  id_00276f245                     0.000545                0.000658   \n",
       "4  id_0027f1083                     0.001089                0.001166   \n",
       "\n",
       "   acat_inhibitor  acetylcholine_receptor_agonist  \\\n",
       "0        0.000999                        0.004248   \n",
       "1        0.000488                        0.000365   \n",
       "2        0.000706                        0.000873   \n",
       "3        0.000817                        0.001728   \n",
       "4        0.001683                        0.002999   \n",
       "\n",
       "   acetylcholine_receptor_antagonist  acetylcholinesterase_inhibitor  \\\n",
       "0                           0.005246                        0.000992   \n",
       "1                           0.001236                        0.002581   \n",
       "2                           0.000998                        0.000797   \n",
       "3                           0.000805                        0.001726   \n",
       "4                           0.005950                        0.000570   \n",
       "\n",
       "   adenosine_receptor_agonist  adenosine_receptor_antagonist  \\\n",
       "0                    0.000499                       0.001237   \n",
       "1                    0.000976                       0.002127   \n",
       "2                    0.000731                       0.000785   \n",
       "3                    0.000480                       0.000945   \n",
       "4                    0.001605                       0.000784   \n",
       "\n",
       "   adenylyl_cyclase_activator  ...  tropomyosin_receptor_kinase_inhibitor  \\\n",
       "0                    0.000558  ...                               0.001118   \n",
       "1                    0.001231  ...                               0.000783   \n",
       "2                    0.000655  ...                               0.000640   \n",
       "3                    0.000509  ...                               0.000683   \n",
       "4                    0.000707  ...                               0.000847   \n",
       "\n",
       "   trpv_agonist  trpv_antagonist  tubulin_inhibitor  \\\n",
       "0      0.002949         0.001203           0.000533   \n",
       "1      0.000673         0.001021           0.000255   \n",
       "2      0.000630         0.000689           0.000982   \n",
       "3      0.000502         0.001621           0.006700   \n",
       "4      0.000293         0.002168           0.001209   \n",
       "\n",
       "   tyrosine_kinase_inhibitor  ubiquitin_specific_protease_inhibitor  \\\n",
       "0                   0.000367                               0.000789   \n",
       "1                   0.001483                               0.000661   \n",
       "2                   0.000697                               0.000654   \n",
       "3                   0.002463                               0.000637   \n",
       "4                   0.000401                               0.000924   \n",
       "\n",
       "   vegfr_inhibitor  vitamin_b  vitamin_d_receptor_agonist  wnt_inhibitor  \n",
       "0         0.001445   0.001714                    0.002830       0.000842  \n",
       "1         0.000952   0.000783                    0.001099       0.001271  \n",
       "2         0.000724   0.000683                    0.000683       0.000652  \n",
       "3         0.000626   0.000722                    0.000709       0.000893  \n",
       "4         0.001812   0.000969                    0.000477       0.001038  \n",
       "\n",
       "[5 rows x 207 columns]"
      ]
     },
     "execution_count": 7,
     "metadata": {},
     "output_type": "execute_result"
    }
   ],
   "source": [
    "sub1 = sub.copy()\n",
    "preds1 = model_lr.predict_proba(X_test_scaled)\n",
    "preds1 = np.array(preds1)[:,:,1] * 0.27\n",
    "sub1[sub.columns.to_list()[1:]] = preds1.T\n",
    "sub1.head()"
   ]
  },
  {
   "cell_type": "markdown",
   "metadata": {
    "papermill": {
     "duration": 0.022535,
     "end_time": "2020-12-10T16:39:16.991305",
     "exception": false,
     "start_time": "2020-12-10T16:39:16.968770",
     "status": "completed"
    },
    "tags": []
   },
   "source": [
    "## LightGBM"
   ]
  },
  {
   "cell_type": "code",
   "execution_count": 8,
   "metadata": {
    "execution": {
     "iopub.execute_input": "2020-12-10T16:39:17.042524Z",
     "iopub.status.busy": "2020-12-10T16:39:17.041497Z",
     "iopub.status.idle": "2020-12-10T17:58:32.921165Z",
     "shell.execute_reply": "2020-12-10T17:58:32.922008Z"
    },
    "papermill": {
     "duration": 4755.906941,
     "end_time": "2020-12-10T17:58:32.922274",
     "exception": false,
     "start_time": "2020-12-10T16:39:17.015333",
     "status": "completed"
    },
    "tags": []
   },
   "outputs": [
    {
     "name": "stderr",
     "output_type": "stream",
     "text": [
      "/opt/conda/lib/python3.7/site-packages/sklearn/model_selection/_split.py:672: UserWarning: The least populated class in y has only 1 members, which is less than n_splits=3.\n",
      "  % (min_groups, self.n_splits)), UserWarning)\n",
      "/opt/conda/lib/python3.7/site-packages/sklearn/model_selection/_split.py:672: UserWarning: The least populated class in y has only 1 members, which is less than n_splits=3.\n",
      "  % (min_groups, self.n_splits)), UserWarning)\n"
     ]
    }
   ],
   "source": [
    "params = {\n",
    "    'objective': 'binary',\n",
    "    'metric': 'binary_logloss',\n",
    "    'boosting_type': \"gbdt\",\n",
    "    'num_leaves': 500,\n",
    "    'min_child_weight': 0.01,\n",
    "    'feature_fraction': 0.5,\n",
    "    'bagging_fraction': 0.6,\n",
    "    'min_data_in_leaf': 100,\n",
    "    'max_depth': -1,\n",
    "    'learning_rate': 0.01,\n",
    "    'bagging_seed': 11,\n",
    "    'verbosity': 0,\n",
    "    'reg_alpha': 0.4,\n",
    "    'reg_lambda': 0.6,\n",
    "    'random_state': 0\n",
    "         }\n",
    "\n",
    "skf = StratifiedKFold(n_splits=3, random_state=0, shuffle=True)\n",
    "\n",
    "sub2 = sub.copy()\n",
    "\n",
    "# 206 different models. One for each label\n",
    "for model, target in enumerate(y_train, 1):\n",
    "    y = y_train[target]\n",
    "    preds = np.zeros(X_test.shape[0])\n",
    "    oof = np.zeros(X_train.shape[0])\n",
    "\n",
    "    for trn_idx, test_idx in skf.split(X_train, y):\n",
    "        \n",
    "        trn_data = lgb.Dataset(X_train.iloc[trn_idx], label=y.iloc[trn_idx])\n",
    "        val_data = lgb.Dataset(X_train.iloc[test_idx], label=y.iloc[test_idx])\n",
    "        clf = lgb.train(params, trn_data, 10000, valid_sets = [trn_data, val_data], verbose_eval=0, early_stopping_rounds=20)\n",
    "        oof[test_idx] = clf.predict(X_train.iloc[test_idx])\n",
    "        preds += clf.predict(X_test) / skf.n_splits\n",
    "\n",
    "    sub2[target] = preds*0.33"
   ]
  },
  {
   "cell_type": "code",
   "execution_count": 9,
   "metadata": {
    "execution": {
     "iopub.execute_input": "2020-12-10T17:58:32.991402Z",
     "iopub.status.busy": "2020-12-10T17:58:32.984610Z",
     "iopub.status.idle": "2020-12-10T17:58:32.994096Z",
     "shell.execute_reply": "2020-12-10T17:58:32.994741Z"
    },
    "papermill": {
     "duration": 0.050988,
     "end_time": "2020-12-10T17:58:32.994930",
     "exception": false,
     "start_time": "2020-12-10T17:58:32.943942",
     "status": "completed"
    },
    "tags": []
   },
   "outputs": [
    {
     "name": "stdout",
     "output_type": "stream",
     "text": [
      "         sig_id  5-alpha_reductase_inhibitor  11-beta-hsd1_inhibitor  \\\n",
      "0  id_0004d9e33                     0.000123                0.000219   \n",
      "1  id_001897cda                     0.000105                0.000217   \n",
      "2  id_002429b5b                     0.000097                0.000216   \n",
      "3  id_00276f245                     0.000103                0.000218   \n",
      "4  id_0027f1083                     0.000128                0.000217   \n",
      "\n",
      "   acat_inhibitor  acetylcholine_receptor_agonist  \\\n",
      "0        0.000311                        0.001984   \n",
      "1        0.000317                        0.002118   \n",
      "2        0.000310                        0.001149   \n",
      "3        0.000325                        0.002093   \n",
      "4        0.000313                        0.002400   \n",
      "\n",
      "   acetylcholine_receptor_antagonist  acetylcholinesterase_inhibitor  \\\n",
      "0                           0.004111                        0.000927   \n",
      "1                           0.002706                        0.001002   \n",
      "2                           0.001617                        0.000899   \n",
      "3                           0.003104                        0.000947   \n",
      "4                           0.003670                        0.000917   \n",
      "\n",
      "   adenosine_receptor_agonist  adenosine_receptor_antagonist  \\\n",
      "0                    0.000591                       0.001078   \n",
      "1                    0.000581                       0.001460   \n",
      "2                    0.000575                       0.000977   \n",
      "3                    0.000736                       0.001139   \n",
      "4                    0.000725                       0.001065   \n",
      "\n",
      "   adenylyl_cyclase_activator  ...  tropomyosin_receptor_kinase_inhibitor  \\\n",
      "0                    0.000046  ...                               0.000077   \n",
      "1                    0.000053  ...                               0.000078   \n",
      "2                    0.000038  ...                               0.000076   \n",
      "3                    0.000042  ...                               0.000076   \n",
      "4                    0.000041  ...                               0.000076   \n",
      "\n",
      "   trpv_agonist  trpv_antagonist  tubulin_inhibitor  \\\n",
      "0      0.000164         0.000642           0.000307   \n",
      "1      0.000219         0.000641           0.000255   \n",
      "2      0.000153         0.000631           0.000129   \n",
      "3      0.000170         0.000639           0.000556   \n",
      "4      0.000156         0.000672           0.000520   \n",
      "\n",
      "   tyrosine_kinase_inhibitor  ubiquitin_specific_protease_inhibitor  \\\n",
      "0                   0.000639                               0.000079   \n",
      "1                   0.001471                               0.000079   \n",
      "2                   0.000576                               0.000078   \n",
      "3                   0.000713                               0.000080   \n",
      "4                   0.000731                               0.000079   \n",
      "\n",
      "   vegfr_inhibitor  vitamin_b  vitamin_d_receptor_agonist  wnt_inhibitor  \n",
      "0         0.000412   0.000375                    0.000126       0.000363  \n",
      "1         0.000773   0.000320                    0.000266       0.000403  \n",
      "2         0.000203   0.000320                    0.000074       0.000360  \n",
      "3         0.000384   0.000321                    0.000127       0.000477  \n",
      "4         0.000324   0.000345                    0.000089       0.000373  \n",
      "\n",
      "[5 rows x 207 columns]\n"
     ]
    }
   ],
   "source": [
    "print(sub2.head())"
   ]
  },
  {
   "cell_type": "markdown",
   "metadata": {
    "papermill": {
     "duration": 0.021606,
     "end_time": "2020-12-10T17:58:33.039034",
     "exception": false,
     "start_time": "2020-12-10T17:58:33.017428",
     "status": "completed"
    },
    "tags": []
   },
   "source": [
    "## Feed Forward Neural Network"
   ]
  },
  {
   "cell_type": "code",
   "execution_count": 10,
   "metadata": {
    "execution": {
     "iopub.execute_input": "2020-12-10T17:58:33.094874Z",
     "iopub.status.busy": "2020-12-10T17:58:33.093994Z",
     "iopub.status.idle": "2020-12-10T17:58:33.099128Z",
     "shell.execute_reply": "2020-12-10T17:58:33.099803Z"
    },
    "papermill": {
     "duration": 0.038759,
     "end_time": "2020-12-10T17:58:33.099989",
     "exception": false,
     "start_time": "2020-12-10T17:58:33.061230",
     "status": "completed"
    },
    "tags": []
   },
   "outputs": [],
   "source": [
    "def create_model(n_input):\n",
    "    model = Sequential()\n",
    "    model.add(Input(n_input))\n",
    "    model.add(BatchNormalization())\n",
    "    model.add(Dropout(0.3))\n",
    "    model.add(Dense(300, kernel_initializer='he_uniform', activation='sigmoid'))\n",
    "    model.add(Dropout(0.6)) \n",
    "    model.add(Dense(300, activation='sigmoid'))\n",
    "    model.add(Dropout(0.6))\n",
    "    model.add(Dense(700, activation='sigmoid'))\n",
    "    model.add(Dropout(0.6))\n",
    "    model.add(Dense(206, activation='sigmoid'))\n",
    "    \n",
    "    model.compile(loss='binary_crossentropy', optimizer='adamax', metrics=['accuracy'])\n",
    "    return model"
   ]
  },
  {
   "cell_type": "code",
   "execution_count": 11,
   "metadata": {
    "execution": {
     "iopub.execute_input": "2020-12-10T17:58:33.140628Z",
     "iopub.status.busy": "2020-12-10T17:58:33.139837Z",
     "iopub.status.idle": "2020-12-10T17:58:33.437403Z",
     "shell.execute_reply": "2020-12-10T17:58:33.436531Z"
    },
    "papermill": {
     "duration": 0.318269,
     "end_time": "2020-12-10T17:58:33.437587",
     "exception": false,
     "start_time": "2020-12-10T17:58:33.119318",
     "status": "completed"
    },
    "tags": []
   },
   "outputs": [
    {
     "name": "stdout",
     "output_type": "stream",
     "text": [
      "Model: \"sequential\"\n",
      "_________________________________________________________________\n",
      "Layer (type)                 Output Shape              Param #   \n",
      "=================================================================\n",
      "batch_normalization (BatchNo (None, 879)               3516      \n",
      "_________________________________________________________________\n",
      "dropout (Dropout)            (None, 879)               0         \n",
      "_________________________________________________________________\n",
      "dense (Dense)                (None, 300)               264000    \n",
      "_________________________________________________________________\n",
      "dropout_1 (Dropout)          (None, 300)               0         \n",
      "_________________________________________________________________\n",
      "dense_1 (Dense)              (None, 300)               90300     \n",
      "_________________________________________________________________\n",
      "dropout_2 (Dropout)          (None, 300)               0         \n",
      "_________________________________________________________________\n",
      "dense_2 (Dense)              (None, 700)               210700    \n",
      "_________________________________________________________________\n",
      "dropout_3 (Dropout)          (None, 700)               0         \n",
      "_________________________________________________________________\n",
      "dense_3 (Dense)              (None, 206)               144406    \n",
      "=================================================================\n",
      "Total params: 712,922\n",
      "Trainable params: 711,164\n",
      "Non-trainable params: 1,758\n",
      "_________________________________________________________________\n"
     ]
    }
   ],
   "source": [
    "model = create_model(len(columns))\n",
    "model.summary()"
   ]
  },
  {
   "cell_type": "code",
   "execution_count": 12,
   "metadata": {
    "execution": {
     "iopub.execute_input": "2020-12-10T17:58:33.476611Z",
     "iopub.status.busy": "2020-12-10T17:58:33.475970Z",
     "iopub.status.idle": "2020-12-10T18:06:24.044935Z",
     "shell.execute_reply": "2020-12-10T18:06:24.043908Z"
    },
    "papermill": {
     "duration": 470.591105,
     "end_time": "2020-12-10T18:06:24.045097",
     "exception": false,
     "start_time": "2020-12-10T17:58:33.453992",
     "status": "completed"
    },
    "tags": []
   },
   "outputs": [
    {
     "name": "stdout",
     "output_type": "stream",
     "text": [
      "Epoch 1/100\n",
      "596/596 [==============================] - 5s 8ms/step - loss: 0.0299 - accuracy: 0.0131 - val_loss: 0.0213 - val_accuracy: 0.0334\n",
      "Epoch 2/100\n",
      "596/596 [==============================] - 4s 7ms/step - loss: 0.0222 - accuracy: 0.0229 - val_loss: 0.0203 - val_accuracy: 0.0460\n",
      "Epoch 3/100\n",
      "596/596 [==============================] - 5s 8ms/step - loss: 0.0212 - accuracy: 0.0283 - val_loss: 0.0198 - val_accuracy: 0.0166\n",
      "Epoch 4/100\n",
      "596/596 [==============================] - 5s 8ms/step - loss: 0.0206 - accuracy: 0.0306 - val_loss: 0.0195 - val_accuracy: 0.0212\n",
      "Epoch 5/100\n",
      "596/596 [==============================] - 5s 8ms/step - loss: 0.0202 - accuracy: 0.0315 - val_loss: 0.0191 - val_accuracy: 0.0399\n",
      "Epoch 6/100\n",
      "596/596 [==============================] - 4s 7ms/step - loss: 0.0197 - accuracy: 0.0377 - val_loss: 0.0188 - val_accuracy: 0.0403\n",
      "Epoch 7/100\n",
      "596/596 [==============================] - 4s 8ms/step - loss: 0.0193 - accuracy: 0.0417 - val_loss: 0.0186 - val_accuracy: 0.0397\n",
      "Epoch 8/100\n",
      "596/596 [==============================] - 5s 8ms/step - loss: 0.0191 - accuracy: 0.0475 - val_loss: 0.0184 - val_accuracy: 0.0512\n",
      "Epoch 9/100\n",
      "596/596 [==============================] - 4s 7ms/step - loss: 0.0189 - accuracy: 0.0494 - val_loss: 0.0182 - val_accuracy: 0.0558\n",
      "Epoch 10/100\n",
      "596/596 [==============================] - 5s 8ms/step - loss: 0.0187 - accuracy: 0.0502 - val_loss: 0.0181 - val_accuracy: 0.0582\n",
      "Epoch 11/100\n",
      "596/596 [==============================] - 5s 8ms/step - loss: 0.0186 - accuracy: 0.0535 - val_loss: 0.0179 - val_accuracy: 0.0649\n",
      "Epoch 12/100\n",
      "596/596 [==============================] - 4s 7ms/step - loss: 0.0184 - accuracy: 0.0565 - val_loss: 0.0178 - val_accuracy: 0.0724\n",
      "Epoch 13/100\n",
      "596/596 [==============================] - 5s 8ms/step - loss: 0.0183 - accuracy: 0.0593 - val_loss: 0.0177 - val_accuracy: 0.0708\n",
      "Epoch 14/100\n",
      "596/596 [==============================] - 6s 10ms/step - loss: 0.0182 - accuracy: 0.0621 - val_loss: 0.0176 - val_accuracy: 0.0712\n",
      "Epoch 15/100\n",
      "596/596 [==============================] - 6s 9ms/step - loss: 0.0181 - accuracy: 0.0656 - val_loss: 0.0175 - val_accuracy: 0.0714\n",
      "Epoch 16/100\n",
      "596/596 [==============================] - 4s 7ms/step - loss: 0.0179 - accuracy: 0.0687 - val_loss: 0.0174 - val_accuracy: 0.0718\n",
      "Epoch 17/100\n",
      "596/596 [==============================] - 4s 7ms/step - loss: 0.0179 - accuracy: 0.0720 - val_loss: 0.0173 - val_accuracy: 0.0708\n",
      "Epoch 18/100\n",
      "596/596 [==============================] - 5s 8ms/step - loss: 0.0178 - accuracy: 0.0724 - val_loss: 0.0172 - val_accuracy: 0.0813\n",
      "Epoch 19/100\n",
      "596/596 [==============================] - 5s 8ms/step - loss: 0.0177 - accuracy: 0.0730 - val_loss: 0.0171 - val_accuracy: 0.0817\n",
      "Epoch 20/100\n",
      "596/596 [==============================] - 6s 9ms/step - loss: 0.0176 - accuracy: 0.0751 - val_loss: 0.0171 - val_accuracy: 0.0855\n",
      "Epoch 21/100\n",
      "596/596 [==============================] - 5s 9ms/step - loss: 0.0175 - accuracy: 0.0754 - val_loss: 0.0170 - val_accuracy: 0.0787\n",
      "Epoch 22/100\n",
      "596/596 [==============================] - 5s 8ms/step - loss: 0.0174 - accuracy: 0.0812 - val_loss: 0.0170 - val_accuracy: 0.0855\n",
      "Epoch 23/100\n",
      "596/596 [==============================] - 5s 8ms/step - loss: 0.0174 - accuracy: 0.0774 - val_loss: 0.0169 - val_accuracy: 0.0823\n",
      "Epoch 24/100\n",
      "596/596 [==============================] - 4s 7ms/step - loss: 0.0174 - accuracy: 0.0784 - val_loss: 0.0168 - val_accuracy: 0.0892\n",
      "Epoch 25/100\n",
      "596/596 [==============================] - 5s 8ms/step - loss: 0.0173 - accuracy: 0.0798 - val_loss: 0.0168 - val_accuracy: 0.0829\n",
      "Epoch 26/100\n",
      "596/596 [==============================] - 5s 8ms/step - loss: 0.0172 - accuracy: 0.0794 - val_loss: 0.0168 - val_accuracy: 0.0878\n",
      "Epoch 27/100\n",
      "596/596 [==============================] - 4s 7ms/step - loss: 0.0172 - accuracy: 0.0811 - val_loss: 0.0168 - val_accuracy: 0.0878\n",
      "Epoch 28/100\n",
      "596/596 [==============================] - 4s 8ms/step - loss: 0.0172 - accuracy: 0.0818 - val_loss: 0.0167 - val_accuracy: 0.0848\n",
      "Epoch 29/100\n",
      "596/596 [==============================] - 5s 8ms/step - loss: 0.0171 - accuracy: 0.0832 - val_loss: 0.0167 - val_accuracy: 0.0840\n",
      "Epoch 30/100\n",
      "596/596 [==============================] - 5s 8ms/step - loss: 0.0171 - accuracy: 0.0828 - val_loss: 0.0166 - val_accuracy: 0.0941\n",
      "Epoch 31/100\n",
      "596/596 [==============================] - 5s 8ms/step - loss: 0.0170 - accuracy: 0.0852 - val_loss: 0.0166 - val_accuracy: 0.0888\n",
      "Epoch 32/100\n",
      "596/596 [==============================] - 5s 8ms/step - loss: 0.0170 - accuracy: 0.0837 - val_loss: 0.0165 - val_accuracy: 0.0930\n",
      "Epoch 33/100\n",
      "596/596 [==============================] - 5s 8ms/step - loss: 0.0169 - accuracy: 0.0884 - val_loss: 0.0165 - val_accuracy: 0.0913\n",
      "Epoch 34/100\n",
      "596/596 [==============================] - 5s 8ms/step - loss: 0.0169 - accuracy: 0.0867 - val_loss: 0.0165 - val_accuracy: 0.0888\n",
      "Epoch 35/100\n",
      "596/596 [==============================] - 5s 8ms/step - loss: 0.0169 - accuracy: 0.0881 - val_loss: 0.0165 - val_accuracy: 0.0911\n",
      "Epoch 36/100\n",
      "596/596 [==============================] - 5s 8ms/step - loss: 0.0168 - accuracy: 0.0901 - val_loss: 0.0164 - val_accuracy: 0.0890\n",
      "Epoch 37/100\n",
      "596/596 [==============================] - 4s 7ms/step - loss: 0.0168 - accuracy: 0.0865 - val_loss: 0.0164 - val_accuracy: 0.0920\n",
      "Epoch 38/100\n",
      "596/596 [==============================] - 5s 8ms/step - loss: 0.0168 - accuracy: 0.0876 - val_loss: 0.0164 - val_accuracy: 0.0953\n",
      "Epoch 39/100\n",
      "596/596 [==============================] - 5s 8ms/step - loss: 0.0167 - accuracy: 0.0899 - val_loss: 0.0164 - val_accuracy: 0.0907\n",
      "Epoch 40/100\n",
      "596/596 [==============================] - 4s 7ms/step - loss: 0.0167 - accuracy: 0.0901 - val_loss: 0.0163 - val_accuracy: 0.0932\n",
      "Epoch 41/100\n",
      "596/596 [==============================] - 4s 8ms/step - loss: 0.0167 - accuracy: 0.0898 - val_loss: 0.0163 - val_accuracy: 0.0926\n",
      "Epoch 42/100\n",
      "596/596 [==============================] - 5s 8ms/step - loss: 0.0167 - accuracy: 0.0905 - val_loss: 0.0163 - val_accuracy: 0.0920\n",
      "Epoch 43/100\n",
      "596/596 [==============================] - 5s 8ms/step - loss: 0.0166 - accuracy: 0.0914 - val_loss: 0.0163 - val_accuracy: 0.0943\n",
      "Epoch 44/100\n",
      "596/596 [==============================] - 4s 7ms/step - loss: 0.0166 - accuracy: 0.0935 - val_loss: 0.0163 - val_accuracy: 0.0983\n",
      "Epoch 45/100\n",
      "596/596 [==============================] - 5s 8ms/step - loss: 0.0166 - accuracy: 0.0930 - val_loss: 0.0162 - val_accuracy: 0.0915\n",
      "Epoch 46/100\n",
      "596/596 [==============================] - 5s 8ms/step - loss: 0.0166 - accuracy: 0.0932 - val_loss: 0.0162 - val_accuracy: 0.0974\n",
      "Epoch 47/100\n",
      "596/596 [==============================] - 4s 8ms/step - loss: 0.0165 - accuracy: 0.0942 - val_loss: 0.0162 - val_accuracy: 0.1008\n",
      "Epoch 48/100\n",
      "596/596 [==============================] - 5s 8ms/step - loss: 0.0165 - accuracy: 0.0946 - val_loss: 0.0162 - val_accuracy: 0.1012\n",
      "Epoch 49/100\n",
      "596/596 [==============================] - 5s 8ms/step - loss: 0.0165 - accuracy: 0.0949 - val_loss: 0.0162 - val_accuracy: 0.0983\n",
      "Epoch 50/100\n",
      "596/596 [==============================] - 4s 7ms/step - loss: 0.0164 - accuracy: 0.0954 - val_loss: 0.0161 - val_accuracy: 0.1020\n",
      "Epoch 51/100\n",
      "596/596 [==============================] - 4s 8ms/step - loss: 0.0165 - accuracy: 0.0950 - val_loss: 0.0162 - val_accuracy: 0.1041\n",
      "Epoch 52/100\n",
      "596/596 [==============================] - 4s 8ms/step - loss: 0.0164 - accuracy: 0.0947 - val_loss: 0.0161 - val_accuracy: 0.1020\n",
      "Epoch 53/100\n",
      "596/596 [==============================] - 5s 8ms/step - loss: 0.0164 - accuracy: 0.0962 - val_loss: 0.0161 - val_accuracy: 0.1012\n",
      "Epoch 54/100\n",
      "596/596 [==============================] - 5s 8ms/step - loss: 0.0164 - accuracy: 0.0977 - val_loss: 0.0161 - val_accuracy: 0.1041\n",
      "Epoch 55/100\n",
      "596/596 [==============================] - 5s 8ms/step - loss: 0.0163 - accuracy: 0.0968 - val_loss: 0.0161 - val_accuracy: 0.1014\n",
      "Epoch 56/100\n",
      "596/596 [==============================] - 5s 8ms/step - loss: 0.0163 - accuracy: 0.0976 - val_loss: 0.0161 - val_accuracy: 0.1062\n",
      "Epoch 57/100\n",
      "596/596 [==============================] - 5s 8ms/step - loss: 0.0163 - accuracy: 0.0981 - val_loss: 0.0161 - val_accuracy: 0.1016\n",
      "Epoch 58/100\n",
      "596/596 [==============================] - 5s 8ms/step - loss: 0.0163 - accuracy: 0.0981 - val_loss: 0.0161 - val_accuracy: 0.1018\n",
      "Epoch 59/100\n",
      "596/596 [==============================] - 4s 7ms/step - loss: 0.0163 - accuracy: 0.0992 - val_loss: 0.0160 - val_accuracy: 0.1058\n",
      "Epoch 60/100\n",
      "596/596 [==============================] - 5s 8ms/step - loss: 0.0162 - accuracy: 0.0987 - val_loss: 0.0160 - val_accuracy: 0.1001\n",
      "Epoch 61/100\n",
      "596/596 [==============================] - 5s 8ms/step - loss: 0.0162 - accuracy: 0.1004 - val_loss: 0.0160 - val_accuracy: 0.1022\n",
      "Epoch 62/100\n",
      "596/596 [==============================] - 5s 8ms/step - loss: 0.0163 - accuracy: 0.0997 - val_loss: 0.0160 - val_accuracy: 0.1029\n",
      "Epoch 63/100\n",
      "596/596 [==============================] - 5s 8ms/step - loss: 0.0163 - accuracy: 0.0983 - val_loss: 0.0160 - val_accuracy: 0.1022\n",
      "Epoch 64/100\n",
      "596/596 [==============================] - 4s 7ms/step - loss: 0.0162 - accuracy: 0.1006 - val_loss: 0.0160 - val_accuracy: 0.1039\n",
      "Epoch 65/100\n",
      "596/596 [==============================] - 5s 8ms/step - loss: 0.0162 - accuracy: 0.1003 - val_loss: 0.0160 - val_accuracy: 0.1067\n",
      "Epoch 66/100\n",
      "596/596 [==============================] - 4s 7ms/step - loss: 0.0162 - accuracy: 0.1012 - val_loss: 0.0160 - val_accuracy: 0.1073\n",
      "Epoch 67/100\n",
      "596/596 [==============================] - 5s 8ms/step - loss: 0.0162 - accuracy: 0.1002 - val_loss: 0.0160 - val_accuracy: 0.1014\n",
      "Epoch 68/100\n",
      "596/596 [==============================] - 4s 7ms/step - loss: 0.0162 - accuracy: 0.1021 - val_loss: 0.0160 - val_accuracy: 0.1054\n",
      "Epoch 69/100\n",
      "596/596 [==============================] - 5s 8ms/step - loss: 0.0162 - accuracy: 0.1005 - val_loss: 0.0160 - val_accuracy: 0.1041\n",
      "Epoch 70/100\n",
      "596/596 [==============================] - 5s 8ms/step - loss: 0.0161 - accuracy: 0.1023 - val_loss: 0.0159 - val_accuracy: 0.0999\n",
      "Epoch 71/100\n",
      "596/596 [==============================] - 5s 8ms/step - loss: 0.0161 - accuracy: 0.1031 - val_loss: 0.0159 - val_accuracy: 0.1008\n",
      "Epoch 72/100\n",
      "596/596 [==============================] - 4s 7ms/step - loss: 0.0161 - accuracy: 0.1031 - val_loss: 0.0159 - val_accuracy: 0.1094\n",
      "Epoch 73/100\n",
      "596/596 [==============================] - 4s 7ms/step - loss: 0.0161 - accuracy: 0.1023 - val_loss: 0.0159 - val_accuracy: 0.1071\n",
      "Epoch 74/100\n",
      "596/596 [==============================] - 5s 9ms/step - loss: 0.0160 - accuracy: 0.1021 - val_loss: 0.0159 - val_accuracy: 0.1060\n",
      "Epoch 75/100\n",
      "596/596 [==============================] - 5s 8ms/step - loss: 0.0161 - accuracy: 0.1018 - val_loss: 0.0159 - val_accuracy: 0.1106\n",
      "Epoch 76/100\n",
      "596/596 [==============================] - 5s 8ms/step - loss: 0.0160 - accuracy: 0.1047 - val_loss: 0.0159 - val_accuracy: 0.1067\n",
      "Epoch 77/100\n",
      "596/596 [==============================] - 5s 8ms/step - loss: 0.0160 - accuracy: 0.1022 - val_loss: 0.0159 - val_accuracy: 0.1067\n",
      "Epoch 78/100\n",
      "596/596 [==============================] - 5s 8ms/step - loss: 0.0161 - accuracy: 0.1026 - val_loss: 0.0159 - val_accuracy: 0.1088\n",
      "Epoch 79/100\n",
      "596/596 [==============================] - 5s 8ms/step - loss: 0.0160 - accuracy: 0.1058 - val_loss: 0.0159 - val_accuracy: 0.1064\n",
      "Epoch 80/100\n",
      "596/596 [==============================] - 5s 9ms/step - loss: 0.0160 - accuracy: 0.1025 - val_loss: 0.0159 - val_accuracy: 0.1050\n",
      "Epoch 81/100\n",
      "596/596 [==============================] - 5s 8ms/step - loss: 0.0160 - accuracy: 0.1045 - val_loss: 0.0158 - val_accuracy: 0.1046\n",
      "Epoch 82/100\n",
      "596/596 [==============================] - 5s 8ms/step - loss: 0.0160 - accuracy: 0.1059 - val_loss: 0.0158 - val_accuracy: 0.1113\n",
      "Epoch 83/100\n",
      "596/596 [==============================] - 5s 8ms/step - loss: 0.0159 - accuracy: 0.1031 - val_loss: 0.0158 - val_accuracy: 0.1119\n",
      "Epoch 84/100\n",
      "596/596 [==============================] - 5s 8ms/step - loss: 0.0159 - accuracy: 0.1069 - val_loss: 0.0158 - val_accuracy: 0.1077\n",
      "Epoch 85/100\n",
      "596/596 [==============================] - 4s 7ms/step - loss: 0.0159 - accuracy: 0.1055 - val_loss: 0.0158 - val_accuracy: 0.1132\n",
      "Epoch 86/100\n",
      "596/596 [==============================] - 5s 8ms/step - loss: 0.0159 - accuracy: 0.1057 - val_loss: 0.0158 - val_accuracy: 0.1094\n",
      "Epoch 87/100\n",
      "596/596 [==============================] - 6s 10ms/step - loss: 0.0159 - accuracy: 0.1057 - val_loss: 0.0158 - val_accuracy: 0.1111\n",
      "Epoch 88/100\n",
      "596/596 [==============================] - 5s 9ms/step - loss: 0.0159 - accuracy: 0.1060 - val_loss: 0.0158 - val_accuracy: 0.1031\n",
      "Epoch 89/100\n",
      "596/596 [==============================] - 5s 8ms/step - loss: 0.0159 - accuracy: 0.1078 - val_loss: 0.0158 - val_accuracy: 0.1106\n",
      "Epoch 90/100\n",
      "596/596 [==============================] - 5s 8ms/step - loss: 0.0159 - accuracy: 0.1058 - val_loss: 0.0158 - val_accuracy: 0.1113\n",
      "Epoch 91/100\n",
      "596/596 [==============================] - 5s 8ms/step - loss: 0.0159 - accuracy: 0.1053 - val_loss: 0.0158 - val_accuracy: 0.1121\n",
      "Epoch 92/100\n",
      "596/596 [==============================] - 4s 7ms/step - loss: 0.0159 - accuracy: 0.1083 - val_loss: 0.0158 - val_accuracy: 0.1113\n",
      "Epoch 93/100\n",
      "596/596 [==============================] - 5s 8ms/step - loss: 0.0159 - accuracy: 0.1057 - val_loss: 0.0157 - val_accuracy: 0.1113\n",
      "Epoch 94/100\n",
      "596/596 [==============================] - 5s 8ms/step - loss: 0.0159 - accuracy: 0.1063 - val_loss: 0.0157 - val_accuracy: 0.1104\n",
      "Epoch 95/100\n",
      "596/596 [==============================] - 5s 8ms/step - loss: 0.0158 - accuracy: 0.1085 - val_loss: 0.0157 - val_accuracy: 0.1142\n",
      "Epoch 96/100\n",
      "596/596 [==============================] - 5s 8ms/step - loss: 0.0159 - accuracy: 0.1083 - val_loss: 0.0157 - val_accuracy: 0.1109\n",
      "Epoch 97/100\n",
      "596/596 [==============================] - 5s 8ms/step - loss: 0.0158 - accuracy: 0.1076 - val_loss: 0.0157 - val_accuracy: 0.1106\n",
      "Epoch 98/100\n",
      "596/596 [==============================] - 4s 7ms/step - loss: 0.0158 - accuracy: 0.1100 - val_loss: 0.0157 - val_accuracy: 0.1069\n",
      "Epoch 99/100\n",
      "596/596 [==============================] - 5s 8ms/step - loss: 0.0158 - accuracy: 0.1079 - val_loss: 0.0157 - val_accuracy: 0.1136\n",
      "Epoch 100/100\n",
      "596/596 [==============================] - 5s 8ms/step - loss: 0.0158 - accuracy: 0.1090 - val_loss: 0.0157 - val_accuracy: 0.1117\n"
     ]
    }
   ],
   "source": [
    "hist = model.fit(X_train, y_train, batch_size=32, validation_split=0.2, verbose=1, epochs=100)"
   ]
  },
  {
   "cell_type": "code",
   "execution_count": 13,
   "metadata": {
    "execution": {
     "iopub.execute_input": "2020-12-10T18:06:28.684096Z",
     "iopub.status.busy": "2020-12-10T18:06:28.683059Z",
     "iopub.status.idle": "2020-12-10T18:06:29.457940Z",
     "shell.execute_reply": "2020-12-10T18:06:29.457276Z"
    },
    "papermill": {
     "duration": 3.082669,
     "end_time": "2020-12-10T18:06:29.458057",
     "exception": false,
     "start_time": "2020-12-10T18:06:26.375388",
     "status": "completed"
    },
    "tags": []
   },
   "outputs": [],
   "source": [
    "preds3 = model.predict(X_test)\n",
    "preds3 = preds3 * 0.4\n",
    "sub3 = pd.DataFrame.from_records(preds3)\n",
    "sub3.insert(0, \"sig_id\", sig_id)\n",
    "sub3.columns = sub.columns"
   ]
  },
  {
   "cell_type": "markdown",
   "metadata": {
    "papermill": {
     "duration": 2.350898,
     "end_time": "2020-12-10T18:06:34.151791",
     "exception": false,
     "start_time": "2020-12-10T18:06:31.800893",
     "status": "completed"
    },
    "tags": []
   },
   "source": [
    "## Combining into submission"
   ]
  },
  {
   "cell_type": "code",
   "execution_count": 14,
   "metadata": {
    "execution": {
     "iopub.execute_input": "2020-12-10T18:06:38.866890Z",
     "iopub.status.busy": "2020-12-10T18:06:38.866211Z",
     "iopub.status.idle": "2020-12-10T18:06:38.938861Z",
     "shell.execute_reply": "2020-12-10T18:06:38.938274Z"
    },
    "papermill": {
     "duration": 2.401627,
     "end_time": "2020-12-10T18:06:38.938997",
     "exception": false,
     "start_time": "2020-12-10T18:06:36.537370",
     "status": "completed"
    },
    "tags": []
   },
   "outputs": [
    {
     "name": "stdout",
     "output_type": "stream",
     "text": [
      "         sig_id  5-alpha_reductase_inhibitor  11-beta-hsd1_inhibitor  \\\n",
      "0  id_0004d9e33                     0.001526                0.001528   \n",
      "1  id_001897cda                     0.000733                0.001025   \n",
      "2  id_002429b5b                     0.000796                0.000878   \n",
      "3  id_00276f245                     0.000998                0.001212   \n",
      "4  id_0027f1083                     0.001743                0.001756   \n",
      "\n",
      "   acat_inhibitor  acetylcholine_receptor_agonist  \\\n",
      "0        0.002107                        0.013758   \n",
      "1        0.001055                        0.003278   \n",
      "2        0.001016                        0.002022   \n",
      "3        0.002629                        0.012193   \n",
      "4        0.002530                        0.010436   \n",
      "\n",
      "   acetylcholine_receptor_antagonist  acetylcholinesterase_inhibitor  \\\n",
      "0                           0.019733                        0.004189   \n",
      "1                           0.005710                        0.004266   \n",
      "2                           0.002614                        0.001696   \n",
      "3                           0.011505                        0.005189   \n",
      "4                           0.017826                        0.003551   \n",
      "\n",
      "   adenosine_receptor_agonist  adenosine_receptor_antagonist  \\\n",
      "0                    0.003067                       0.004071   \n",
      "1                    0.002057                       0.006915   \n",
      "2                    0.001306                       0.001763   \n",
      "3                    0.003567                       0.004709   \n",
      "4                    0.003896                       0.003380   \n",
      "\n",
      "   adenylyl_cyclase_activator  ...  tropomyosin_receptor_kinase_inhibitor  \\\n",
      "0                    0.000701  ...                               0.001477   \n",
      "1                    0.004138  ...                               0.000911   \n",
      "2                    0.000693  ...                               0.000716   \n",
      "3                    0.000647  ...                               0.001098   \n",
      "4                    0.000865  ...                               0.001102   \n",
      "\n",
      "   trpv_agonist  trpv_antagonist  tubulin_inhibitor  \\\n",
      "0      0.003544         0.003473           0.002040   \n",
      "1      0.000979         0.002386           0.000574   \n",
      "2      0.000783         0.001320           0.001110   \n",
      "3      0.001668         0.004300           0.014456   \n",
      "4      0.000766         0.004110           0.002669   \n",
      "\n",
      "   tyrosine_kinase_inhibitor  ubiquitin_specific_protease_inhibitor  \\\n",
      "0                   0.001452                               0.001143   \n",
      "1                   0.009646                               0.000782   \n",
      "2                   0.001273                               0.000732   \n",
      "3                   0.006946                               0.000916   \n",
      "4                   0.001617                               0.001201   \n",
      "\n",
      "   vegfr_inhibitor  vitamin_b  vitamin_d_receptor_agonist  wnt_inhibitor  \n",
      "0         0.002393   0.003179                    0.003766       0.002109  \n",
      "1         0.033227   0.001255                    0.001931       0.002182  \n",
      "2         0.000927   0.001003                    0.000756       0.001013  \n",
      "3         0.003091   0.002226                    0.002427       0.002703  \n",
      "4         0.002557   0.001957                    0.001327       0.002180  \n",
      "\n",
      "[5 rows x 207 columns]\n",
      "(3982, 206)\n",
      "(3982, 207)\n"
     ]
    }
   ],
   "source": [
    "sub1 = sub1.drop(\"sig_id\", axis=1)\n",
    "sub2 = sub2.drop(\"sig_id\", axis=1)\n",
    "sub3 = sub3.drop(\"sig_id\", axis=1)\n",
    "submission = sub1.add(sub2, fill_value=0)\n",
    "submission = submission.add(sub3, fill_value=0)\n",
    "submission.insert(0, \"sig_id\", sig_id)\n",
    "print(submission.head())\n",
    "print(sub3.shape)\n",
    "print(submission.shape)"
   ]
  },
  {
   "cell_type": "code",
   "execution_count": 15,
   "metadata": {
    "execution": {
     "iopub.execute_input": "2020-12-10T18:06:43.604790Z",
     "iopub.status.busy": "2020-12-10T18:06:43.604143Z",
     "iopub.status.idle": "2020-12-10T18:06:45.429230Z",
     "shell.execute_reply": "2020-12-10T18:06:45.429836Z"
    },
    "papermill": {
     "duration": 4.228471,
     "end_time": "2020-12-10T18:06:45.429997",
     "exception": false,
     "start_time": "2020-12-10T18:06:41.201526",
     "status": "completed"
    },
    "tags": []
   },
   "outputs": [],
   "source": [
    "submission.to_csv('submission.csv', index=False)"
   ]
  }
 ],
 "metadata": {
  "kernelspec": {
   "display_name": "Python 3",
   "language": "python",
   "name": "python3"
  },
  "language_info": {
   "codemirror_mode": {
    "name": "ipython",
    "version": 3
   },
   "file_extension": ".py",
   "mimetype": "text/x-python",
   "name": "python",
   "nbconvert_exporter": "python",
   "pygments_lexer": "ipython3",
   "version": "3.8.5"
  },
  "papermill": {
   "duration": 9121.48783,
   "end_time": "2020-12-10T18:06:47.965540",
   "environment_variables": {},
   "exception": null,
   "input_path": "__notebook__.ipynb",
   "output_path": "__notebook__.ipynb",
   "parameters": {},
   "start_time": "2020-12-10T15:34:46.477710",
   "version": "2.1.0"
  }
 },
 "nbformat": 4,
 "nbformat_minor": 4
}
