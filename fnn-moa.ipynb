{
 "cells": [
  {
   "cell_type": "code",
   "execution_count": 1,
   "metadata": {
    "_cell_guid": "b1076dfc-b9ad-4769-8c92-a6c4dae69d19",
    "_uuid": "8f2839f25d086af736a60e9eeb907d3b93b6e0e5",
    "execution": {
     "iopub.execute_input": "2020-12-09T15:06:57.605423Z",
     "iopub.status.busy": "2020-12-09T15:06:57.604480Z",
     "iopub.status.idle": "2020-12-09T15:07:03.923252Z",
     "shell.execute_reply": "2020-12-09T15:07:03.924597Z"
    },
    "papermill": {
     "duration": 6.340724,
     "end_time": "2020-12-09T15:07:03.924801",
     "exception": false,
     "start_time": "2020-12-09T15:06:57.584077",
     "status": "completed"
    },
    "tags": []
   },
   "outputs": [
    {
     "name": "stdout",
     "output_type": "stream",
     "text": [
      "/kaggle/input/lish-moa/train_targets_scored.csv\n",
      "/kaggle/input/lish-moa/sample_submission.csv\n",
      "/kaggle/input/lish-moa/train_drug.csv\n",
      "/kaggle/input/lish-moa/train_targets_nonscored.csv\n",
      "/kaggle/input/lish-moa/train_features.csv\n",
      "/kaggle/input/lish-moa/test_features.csv\n"
     ]
    }
   ],
   "source": [
    "import numpy as np # linear algebra\n",
    "import pandas as pd # data processing, CSV file I/O (e.g. pd.read_csv)\n",
    "\n",
    "import keras\n",
    "from tensorflow.keras.models import Sequential\n",
    "from tensorflow.keras.layers import Input, Dense, Dropout, BatchNormalization\n",
    "import kerastuner as kt\n",
    "import tensorflow as tf\n",
    "from keras.optimizers import Adam, Adamax, SGD\n",
    "from kerastuner.tuners import RandomSearch\n",
    "\n",
    "from sklearn.model_selection import KFold, train_test_split\n",
    "from sklearn.metrics import log_loss\n",
    "\n",
    "import matplotlib.pyplot as plt\n",
    "%matplotlib inline\n",
    "\n",
    "import os\n",
    "for dirname, _, filenames in os.walk('/kaggle/input'):\n",
    "    for filename in filenames:\n",
    "        print(os.path.join(dirname, filename))"
   ]
  },
  {
   "cell_type": "markdown",
   "metadata": {
    "papermill": {
     "duration": 0.01042,
     "end_time": "2020-12-09T15:07:03.946273",
     "exception": false,
     "start_time": "2020-12-09T15:07:03.935853",
     "status": "completed"
    },
    "tags": []
   },
   "source": [
    "Used notebooks:<br>\n",
    "https://www.kaggle.com/simakov/keras-multilabel-neural-network-v1-2/notebook<br>\n",
    "https://www.kaggle.com/elcaiseri/moa-keras-multilabel-classifier-nn-starter/notebook<br>\n",
    "https://www.kaggle.com/gogo827jz/moa-lstm-pure-transformer-fast-and-not-bad/notebook?scriptVersionId=42679125<br>"
   ]
  },
  {
   "cell_type": "markdown",
   "metadata": {
    "papermill": {
     "duration": 0.009815,
     "end_time": "2020-12-09T15:07:03.966233",
     "exception": false,
     "start_time": "2020-12-09T15:07:03.956418",
     "status": "completed"
    },
    "tags": []
   },
   "source": [
    "## Reading data"
   ]
  },
  {
   "cell_type": "code",
   "execution_count": 2,
   "metadata": {
    "_cell_guid": "79c7e3d0-c299-4dcb-8224-4455121ee9b0",
    "_uuid": "d629ff2d2480ee46fbb7e2d37f6b5fab8052498a",
    "execution": {
     "iopub.execute_input": "2020-12-09T15:07:03.994330Z",
     "iopub.status.busy": "2020-12-09T15:07:03.993698Z",
     "iopub.status.idle": "2020-12-09T15:07:11.024672Z",
     "shell.execute_reply": "2020-12-09T15:07:11.023188Z"
    },
    "papermill": {
     "duration": 7.048532,
     "end_time": "2020-12-09T15:07:11.024793",
     "exception": false,
     "start_time": "2020-12-09T15:07:03.976261",
     "status": "completed"
    },
    "tags": []
   },
   "outputs": [],
   "source": [
    "path = \"/kaggle/input/lish-moa/\"\n",
    "train_features = pd.read_csv(path+\"train_features.csv\")\n",
    "test_features = pd.read_csv(path+\"test_features.csv\")\n",
    "train_targets_scored = pd.read_csv(path+\"train_targets_scored.csv\")\n",
    "sub = pd.read_csv(path+\"sample_submission.csv\")\n",
    "\n",
    "# From https://www.kaggle.com/carlmcbrideellis/moa-setting-ctl-vehicle-0-improves-score\n",
    "train_features.at[train_features['cp_type'].str.contains('ctl_vehicle'),train_features.filter(regex='-.*').columns] = 0.0\n",
    "test_features.at[test_features['cp_type'].str.contains('ctl_vehicle'),test_features.filter(regex='-.*').columns] = 0.0"
   ]
  },
  {
   "cell_type": "markdown",
   "metadata": {
    "papermill": {
     "duration": 0.010331,
     "end_time": "2020-12-09T15:07:11.045829",
     "exception": false,
     "start_time": "2020-12-09T15:07:11.035498",
     "status": "completed"
    },
    "tags": []
   },
   "source": [
    "## Data Preparations"
   ]
  },
  {
   "cell_type": "code",
   "execution_count": 3,
   "metadata": {
    "execution": {
     "iopub.execute_input": "2020-12-09T15:07:11.072424Z",
     "iopub.status.busy": "2020-12-09T15:07:11.070651Z",
     "iopub.status.idle": "2020-12-09T15:07:11.073148Z",
     "shell.execute_reply": "2020-12-09T15:07:11.073636Z"
    },
    "papermill": {
     "duration": 0.017677,
     "end_time": "2020-12-09T15:07:11.073763",
     "exception": false,
     "start_time": "2020-12-09T15:07:11.056086",
     "status": "completed"
    },
    "tags": []
   },
   "outputs": [],
   "source": [
    "def onehotencode(data):\n",
    "    data = pd.get_dummies(data)\n",
    "    return data"
   ]
  },
  {
   "cell_type": "code",
   "execution_count": 4,
   "metadata": {
    "execution": {
     "iopub.execute_input": "2020-12-09T15:07:11.102432Z",
     "iopub.status.busy": "2020-12-09T15:07:11.101097Z",
     "iopub.status.idle": "2020-12-09T15:07:11.406873Z",
     "shell.execute_reply": "2020-12-09T15:07:11.406335Z"
    },
    "papermill": {
     "duration": 0.322889,
     "end_time": "2020-12-09T15:07:11.406986",
     "exception": false,
     "start_time": "2020-12-09T15:07:11.084097",
     "status": "completed"
    },
    "tags": []
   },
   "outputs": [],
   "source": [
    "# train data, dropping id column and onehot encoding\n",
    "X_train = train_features.copy()\n",
    "y_train = train_targets_scored.copy()\n",
    "X_train = X_train.drop(\"sig_id\", axis=1)\n",
    "y_train = y_train.drop(\"sig_id\", axis=1)\n",
    "\n",
    "X_train = onehotencode(X_train)\n",
    "\n",
    "X_test = test_features.copy()\n",
    "sig_id = X_test[\"sig_id\"]\n",
    "X_test = X_test.drop(\"sig_id\", axis=1)\n",
    "X_test = onehotencode(X_test)\n",
    "\n",
    "columns = X_test.columns  # getting the column names\n",
    "\n",
    "# scaling seemed to hurt performance"
   ]
  },
  {
   "cell_type": "markdown",
   "metadata": {
    "papermill": {
     "duration": 0.010351,
     "end_time": "2020-12-09T15:07:11.428224",
     "exception": false,
     "start_time": "2020-12-09T15:07:11.417873",
     "status": "completed"
    },
    "tags": []
   },
   "source": [
    "## Modelling"
   ]
  },
  {
   "cell_type": "code",
   "execution_count": 5,
   "metadata": {
    "execution": {
     "iopub.execute_input": "2020-12-09T15:07:11.460612Z",
     "iopub.status.busy": "2020-12-09T15:07:11.458830Z",
     "iopub.status.idle": "2020-12-09T15:07:11.461312Z",
     "shell.execute_reply": "2020-12-09T15:07:11.461841Z"
    },
    "papermill": {
     "duration": 0.023068,
     "end_time": "2020-12-09T15:07:11.461952",
     "exception": false,
     "start_time": "2020-12-09T15:07:11.438884",
     "status": "completed"
    },
    "tags": []
   },
   "outputs": [],
   "source": [
    "# Using Keras Tuner for parameters and architecture\n",
    "def build_model(hp):\n",
    "    model = Sequential()\n",
    "    model.add(Input(877))\n",
    "    model.add(BatchNormalization())\n",
    "    for i in range(hp.Int('num_layers', 1, 5)):\n",
    "        model.add(Dropout(hp.Choice('dropout_' + str(i), [0.5, 0.6, 0.7, 0.8, 0.9])))\n",
    "        model.add(Dense(units=hp.Int('units_' + str(i),\n",
    "                                     min_value=200,\n",
    "                                     max_value=2048,\n",
    "                                     step=64),\n",
    "                        activation=\"sigmoid\"))\n",
    "    model.add(Dense(206, activation='sigmoid'))\n",
    "    model.compile(optimizer=hp.Choice('optimizer', [\"adam\", \"adamax\"]),\n",
    "                  loss='binary_crossentropy',\n",
    "                  metrics=['accuracy']\n",
    "                 )\n",
    "    return model"
   ]
  },
  {
   "cell_type": "code",
   "execution_count": 6,
   "metadata": {
    "execution": {
     "iopub.execute_input": "2020-12-09T15:07:11.487973Z",
     "iopub.status.busy": "2020-12-09T15:07:11.486580Z",
     "iopub.status.idle": "2020-12-09T15:07:11.489540Z",
     "shell.execute_reply": "2020-12-09T15:07:11.489079Z"
    },
    "papermill": {
     "duration": 0.01705,
     "end_time": "2020-12-09T15:07:11.489630",
     "exception": false,
     "start_time": "2020-12-09T15:07:11.472580",
     "status": "completed"
    },
    "tags": []
   },
   "outputs": [],
   "source": [
    "# tuner = RandomSearch(build_model,\n",
    "#                     objective='val_loss',\n",
    "#                     max_trials=10,\n",
    "#                     executions_per_trial=3,\n",
    "#                     directory='project',\n",
    "#                     project_name='MoA')\n",
    "\n",
    "# X_trn_tuner, X_test_tuner, y_trn_tuner, y_test_tuner = train_test_split(X_train, y_train, test_size=0.3, random_state=0)\n",
    "# tuner.search(X_trn_tuner, y_trn_tuner, epochs=25, validation_data=(X_test_tuner, y_test_tuner))\n",
    "\n",
    "# tuner.results_summary()"
   ]
  },
  {
   "cell_type": "code",
   "execution_count": 7,
   "metadata": {
    "execution": {
     "iopub.execute_input": "2020-12-09T15:07:11.520708Z",
     "iopub.status.busy": "2020-12-09T15:07:11.519519Z",
     "iopub.status.idle": "2020-12-09T15:07:11.522067Z",
     "shell.execute_reply": "2020-12-09T15:07:11.522574Z"
    },
    "papermill": {
     "duration": 0.022326,
     "end_time": "2020-12-09T15:07:11.522695",
     "exception": false,
     "start_time": "2020-12-09T15:07:11.500369",
     "status": "completed"
    },
    "tags": []
   },
   "outputs": [],
   "source": [
    "def create_model(n_input):\n",
    "    model = Sequential()\n",
    "    model.add(Input(n_input))\n",
    "    model.add(BatchNormalization())\n",
    "    model.add(Dropout(0.3))\n",
    "    model.add(Dense(300, kernel_initializer='he_uniform', activation='sigmoid'))\n",
    "    model.add(Dropout(0.6)) \n",
    "    model.add(Dense(300, activation='sigmoid'))\n",
    "    model.add(Dropout(0.6))\n",
    "    model.add(Dense(700, activation='sigmoid'))\n",
    "    model.add(Dropout(0.6))\n",
    "    model.add(Dense(206, activation='sigmoid'))\n",
    "    \n",
    "    model.compile(loss='binary_crossentropy', optimizer='adamax', metrics=['accuracy'])\n",
    "    return model"
   ]
  },
  {
   "cell_type": "code",
   "execution_count": 8,
   "metadata": {
    "execution": {
     "iopub.execute_input": "2020-12-09T15:07:11.548466Z",
     "iopub.status.busy": "2020-12-09T15:07:11.547901Z",
     "iopub.status.idle": "2020-12-09T15:07:14.413536Z",
     "shell.execute_reply": "2020-12-09T15:07:14.412855Z"
    },
    "papermill": {
     "duration": 2.879883,
     "end_time": "2020-12-09T15:07:14.413649",
     "exception": false,
     "start_time": "2020-12-09T15:07:11.533766",
     "status": "completed"
    },
    "tags": []
   },
   "outputs": [
    {
     "name": "stdout",
     "output_type": "stream",
     "text": [
      "Model: \"sequential\"\n",
      "_________________________________________________________________\n",
      "Layer (type)                 Output Shape              Param #   \n",
      "=================================================================\n",
      "batch_normalization (BatchNo (None, 877)               3508      \n",
      "_________________________________________________________________\n",
      "dropout (Dropout)            (None, 877)               0         \n",
      "_________________________________________________________________\n",
      "dense (Dense)                (None, 300)               263400    \n",
      "_________________________________________________________________\n",
      "dropout_1 (Dropout)          (None, 300)               0         \n",
      "_________________________________________________________________\n",
      "dense_1 (Dense)              (None, 300)               90300     \n",
      "_________________________________________________________________\n",
      "dropout_2 (Dropout)          (None, 300)               0         \n",
      "_________________________________________________________________\n",
      "dense_2 (Dense)              (None, 700)               210700    \n",
      "_________________________________________________________________\n",
      "dropout_3 (Dropout)          (None, 700)               0         \n",
      "_________________________________________________________________\n",
      "dense_3 (Dense)              (None, 206)               144406    \n",
      "=================================================================\n",
      "Total params: 712,314\n",
      "Trainable params: 710,560\n",
      "Non-trainable params: 1,754\n",
      "_________________________________________________________________\n"
     ]
    }
   ],
   "source": [
    "model = create_model(len(columns))\n",
    "model.summary()"
   ]
  },
  {
   "cell_type": "code",
   "execution_count": 9,
   "metadata": {
    "execution": {
     "iopub.execute_input": "2020-12-09T15:07:14.442424Z",
     "iopub.status.busy": "2020-12-09T15:07:14.441789Z",
     "iopub.status.idle": "2020-12-09T15:10:44.635189Z",
     "shell.execute_reply": "2020-12-09T15:10:44.634247Z"
    },
    "papermill": {
     "duration": 210.209801,
     "end_time": "2020-12-09T15:10:44.635309",
     "exception": false,
     "start_time": "2020-12-09T15:07:14.425508",
     "status": "completed"
    },
    "tags": []
   },
   "outputs": [
    {
     "name": "stdout",
     "output_type": "stream",
     "text": [
      "Epoch 1/100\n",
      "596/596 [==============================] - 2s 4ms/step - loss: 0.0299 - accuracy: 0.0116 - val_loss: 0.0213 - val_accuracy: 0.0334\n",
      "Epoch 2/100\n",
      "596/596 [==============================] - 2s 3ms/step - loss: 0.0223 - accuracy: 0.0229 - val_loss: 0.0204 - val_accuracy: 0.0500\n",
      "Epoch 3/100\n",
      "596/596 [==============================] - 2s 3ms/step - loss: 0.0212 - accuracy: 0.0265 - val_loss: 0.0198 - val_accuracy: 0.0426\n",
      "Epoch 4/100\n",
      "596/596 [==============================] - 3s 4ms/step - loss: 0.0206 - accuracy: 0.0300 - val_loss: 0.0194 - val_accuracy: 0.0304\n",
      "Epoch 5/100\n",
      "596/596 [==============================] - 2s 3ms/step - loss: 0.0201 - accuracy: 0.0334 - val_loss: 0.0191 - val_accuracy: 0.0340\n",
      "Epoch 6/100\n",
      "596/596 [==============================] - 2s 3ms/step - loss: 0.0197 - accuracy: 0.0362 - val_loss: 0.0187 - val_accuracy: 0.0386\n",
      "Epoch 7/100\n",
      "596/596 [==============================] - 2s 3ms/step - loss: 0.0193 - accuracy: 0.0411 - val_loss: 0.0185 - val_accuracy: 0.0414\n",
      "Epoch 8/100\n",
      "596/596 [==============================] - 2s 3ms/step - loss: 0.0190 - accuracy: 0.0446 - val_loss: 0.0184 - val_accuracy: 0.0416\n",
      "Epoch 9/100\n",
      "596/596 [==============================] - 2s 3ms/step - loss: 0.0189 - accuracy: 0.0468 - val_loss: 0.0182 - val_accuracy: 0.0420\n",
      "Epoch 10/100\n",
      "596/596 [==============================] - 2s 4ms/step - loss: 0.0187 - accuracy: 0.0532 - val_loss: 0.0180 - val_accuracy: 0.0588\n",
      "Epoch 11/100\n",
      "596/596 [==============================] - 2s 3ms/step - loss: 0.0185 - accuracy: 0.0539 - val_loss: 0.0179 - val_accuracy: 0.0630\n",
      "Epoch 12/100\n",
      "596/596 [==============================] - 2s 3ms/step - loss: 0.0184 - accuracy: 0.0562 - val_loss: 0.0178 - val_accuracy: 0.0619\n",
      "Epoch 13/100\n",
      "596/596 [==============================] - 2s 3ms/step - loss: 0.0183 - accuracy: 0.0581 - val_loss: 0.0177 - val_accuracy: 0.0766\n",
      "Epoch 14/100\n",
      "596/596 [==============================] - 2s 3ms/step - loss: 0.0181 - accuracy: 0.0621 - val_loss: 0.0176 - val_accuracy: 0.0701\n",
      "Epoch 15/100\n",
      "596/596 [==============================] - 2s 4ms/step - loss: 0.0180 - accuracy: 0.0643 - val_loss: 0.0175 - val_accuracy: 0.0737\n",
      "Epoch 16/100\n",
      "596/596 [==============================] - 2s 4ms/step - loss: 0.0179 - accuracy: 0.0675 - val_loss: 0.0173 - val_accuracy: 0.0783\n",
      "Epoch 17/100\n",
      "596/596 [==============================] - 2s 3ms/step - loss: 0.0178 - accuracy: 0.0715 - val_loss: 0.0172 - val_accuracy: 0.0825\n",
      "Epoch 18/100\n",
      "596/596 [==============================] - 2s 3ms/step - loss: 0.0177 - accuracy: 0.0749 - val_loss: 0.0172 - val_accuracy: 0.0806\n",
      "Epoch 19/100\n",
      "596/596 [==============================] - 3s 4ms/step - loss: 0.0177 - accuracy: 0.0734 - val_loss: 0.0171 - val_accuracy: 0.0882\n",
      "Epoch 20/100\n",
      "596/596 [==============================] - 3s 5ms/step - loss: 0.0176 - accuracy: 0.0767 - val_loss: 0.0170 - val_accuracy: 0.0846\n",
      "Epoch 21/100\n",
      "596/596 [==============================] - 2s 3ms/step - loss: 0.0175 - accuracy: 0.0743 - val_loss: 0.0170 - val_accuracy: 0.0905\n",
      "Epoch 22/100\n",
      "596/596 [==============================] - 2s 3ms/step - loss: 0.0175 - accuracy: 0.0777 - val_loss: 0.0169 - val_accuracy: 0.0884\n",
      "Epoch 23/100\n",
      "596/596 [==============================] - 2s 3ms/step - loss: 0.0173 - accuracy: 0.0809 - val_loss: 0.0169 - val_accuracy: 0.0867\n",
      "Epoch 24/100\n",
      "596/596 [==============================] - 2s 3ms/step - loss: 0.0173 - accuracy: 0.0780 - val_loss: 0.0168 - val_accuracy: 0.0878\n",
      "Epoch 25/100\n",
      "596/596 [==============================] - 2s 4ms/step - loss: 0.0173 - accuracy: 0.0803 - val_loss: 0.0168 - val_accuracy: 0.0838\n",
      "Epoch 26/100\n",
      "596/596 [==============================] - 2s 4ms/step - loss: 0.0172 - accuracy: 0.0803 - val_loss: 0.0168 - val_accuracy: 0.0825\n",
      "Epoch 27/100\n",
      "596/596 [==============================] - 2s 3ms/step - loss: 0.0172 - accuracy: 0.0819 - val_loss: 0.0167 - val_accuracy: 0.0913\n",
      "Epoch 28/100\n",
      "596/596 [==============================] - 2s 3ms/step - loss: 0.0171 - accuracy: 0.0851 - val_loss: 0.0167 - val_accuracy: 0.0930\n",
      "Epoch 29/100\n",
      "596/596 [==============================] - 2s 4ms/step - loss: 0.0170 - accuracy: 0.0844 - val_loss: 0.0166 - val_accuracy: 0.0941\n",
      "Epoch 30/100\n",
      "596/596 [==============================] - 2s 3ms/step - loss: 0.0170 - accuracy: 0.0870 - val_loss: 0.0166 - val_accuracy: 0.0838\n",
      "Epoch 31/100\n",
      "596/596 [==============================] - 2s 4ms/step - loss: 0.0170 - accuracy: 0.0855 - val_loss: 0.0166 - val_accuracy: 0.0932\n",
      "Epoch 32/100\n",
      "596/596 [==============================] - 2s 3ms/step - loss: 0.0169 - accuracy: 0.0863 - val_loss: 0.0165 - val_accuracy: 0.0945\n",
      "Epoch 33/100\n",
      "596/596 [==============================] - 2s 3ms/step - loss: 0.0169 - accuracy: 0.0859 - val_loss: 0.0165 - val_accuracy: 0.0928\n",
      "Epoch 34/100\n",
      "596/596 [==============================] - 2s 3ms/step - loss: 0.0169 - accuracy: 0.0874 - val_loss: 0.0165 - val_accuracy: 0.0907\n",
      "Epoch 35/100\n",
      "596/596 [==============================] - 2s 4ms/step - loss: 0.0169 - accuracy: 0.0868 - val_loss: 0.0164 - val_accuracy: 0.0959\n",
      "Epoch 36/100\n",
      "596/596 [==============================] - 2s 4ms/step - loss: 0.0168 - accuracy: 0.0862 - val_loss: 0.0164 - val_accuracy: 0.0922\n",
      "Epoch 37/100\n",
      "596/596 [==============================] - 2s 3ms/step - loss: 0.0168 - accuracy: 0.0893 - val_loss: 0.0164 - val_accuracy: 0.0980\n",
      "Epoch 38/100\n",
      "596/596 [==============================] - 2s 3ms/step - loss: 0.0168 - accuracy: 0.0893 - val_loss: 0.0164 - val_accuracy: 0.0983\n",
      "Epoch 39/100\n",
      "596/596 [==============================] - 2s 3ms/step - loss: 0.0167 - accuracy: 0.0897 - val_loss: 0.0164 - val_accuracy: 0.0974\n",
      "Epoch 40/100\n",
      "596/596 [==============================] - 2s 3ms/step - loss: 0.0167 - accuracy: 0.0904 - val_loss: 0.0163 - val_accuracy: 0.0867\n",
      "Epoch 41/100\n",
      "596/596 [==============================] - 2s 3ms/step - loss: 0.0166 - accuracy: 0.0922 - val_loss: 0.0163 - val_accuracy: 0.0991\n",
      "Epoch 42/100\n",
      "596/596 [==============================] - 2s 4ms/step - loss: 0.0166 - accuracy: 0.0920 - val_loss: 0.0163 - val_accuracy: 0.0920\n",
      "Epoch 43/100\n",
      "596/596 [==============================] - 2s 3ms/step - loss: 0.0166 - accuracy: 0.0936 - val_loss: 0.0163 - val_accuracy: 0.0991\n",
      "Epoch 44/100\n",
      "596/596 [==============================] - 2s 4ms/step - loss: 0.0166 - accuracy: 0.0932 - val_loss: 0.0162 - val_accuracy: 0.1001\n",
      "Epoch 45/100\n",
      "596/596 [==============================] - 2s 3ms/step - loss: 0.0165 - accuracy: 0.0948 - val_loss: 0.0162 - val_accuracy: 0.0932\n",
      "Epoch 46/100\n",
      "596/596 [==============================] - 2s 3ms/step - loss: 0.0165 - accuracy: 0.0933 - val_loss: 0.0162 - val_accuracy: 0.0959\n",
      "Epoch 47/100\n",
      "596/596 [==============================] - 2s 4ms/step - loss: 0.0165 - accuracy: 0.0949 - val_loss: 0.0162 - val_accuracy: 0.0943\n",
      "Epoch 48/100\n",
      "596/596 [==============================] - 2s 4ms/step - loss: 0.0165 - accuracy: 0.0951 - val_loss: 0.0162 - val_accuracy: 0.0995\n",
      "Epoch 49/100\n",
      "596/596 [==============================] - 2s 3ms/step - loss: 0.0164 - accuracy: 0.0965 - val_loss: 0.0162 - val_accuracy: 0.1025\n",
      "Epoch 50/100\n",
      "596/596 [==============================] - 3s 4ms/step - loss: 0.0165 - accuracy: 0.0953 - val_loss: 0.0161 - val_accuracy: 0.0970\n",
      "Epoch 51/100\n",
      "596/596 [==============================] - 2s 3ms/step - loss: 0.0164 - accuracy: 0.0958 - val_loss: 0.0162 - val_accuracy: 0.0993\n",
      "Epoch 52/100\n",
      "596/596 [==============================] - 2s 4ms/step - loss: 0.0163 - accuracy: 0.0962 - val_loss: 0.0161 - val_accuracy: 0.1046\n",
      "Epoch 53/100\n",
      "596/596 [==============================] - 2s 4ms/step - loss: 0.0164 - accuracy: 0.0962 - val_loss: 0.0161 - val_accuracy: 0.1001\n",
      "Epoch 54/100\n",
      "596/596 [==============================] - 2s 3ms/step - loss: 0.0163 - accuracy: 0.0971 - val_loss: 0.0161 - val_accuracy: 0.1022\n",
      "Epoch 55/100\n",
      "596/596 [==============================] - 2s 3ms/step - loss: 0.0164 - accuracy: 0.0987 - val_loss: 0.0161 - val_accuracy: 0.0997\n",
      "Epoch 56/100\n",
      "596/596 [==============================] - 2s 3ms/step - loss: 0.0163 - accuracy: 0.0976 - val_loss: 0.0160 - val_accuracy: 0.0989\n",
      "Epoch 57/100\n",
      "596/596 [==============================] - 2s 4ms/step - loss: 0.0163 - accuracy: 0.0968 - val_loss: 0.0160 - val_accuracy: 0.1035\n",
      "Epoch 58/100\n",
      "596/596 [==============================] - 2s 3ms/step - loss: 0.0163 - accuracy: 0.0981 - val_loss: 0.0160 - val_accuracy: 0.1020\n",
      "Epoch 59/100\n",
      "596/596 [==============================] - 2s 4ms/step - loss: 0.0163 - accuracy: 0.0988 - val_loss: 0.0160 - val_accuracy: 0.1054\n",
      "Epoch 60/100\n",
      "596/596 [==============================] - 2s 3ms/step - loss: 0.0162 - accuracy: 0.1007 - val_loss: 0.0160 - val_accuracy: 0.1012\n",
      "Epoch 61/100\n",
      "596/596 [==============================] - 2s 3ms/step - loss: 0.0162 - accuracy: 0.1010 - val_loss: 0.0160 - val_accuracy: 0.1052\n",
      "Epoch 62/100\n",
      "596/596 [==============================] - 2s 4ms/step - loss: 0.0162 - accuracy: 0.1006 - val_loss: 0.0160 - val_accuracy: 0.1064\n",
      "Epoch 63/100\n",
      "596/596 [==============================] - 2s 4ms/step - loss: 0.0162 - accuracy: 0.0994 - val_loss: 0.0160 - val_accuracy: 0.1056\n",
      "Epoch 64/100\n",
      "596/596 [==============================] - 2s 4ms/step - loss: 0.0162 - accuracy: 0.1018 - val_loss: 0.0159 - val_accuracy: 0.0985\n",
      "Epoch 65/100\n",
      "596/596 [==============================] - 2s 4ms/step - loss: 0.0162 - accuracy: 0.1020 - val_loss: 0.0159 - val_accuracy: 0.1069\n",
      "Epoch 66/100\n",
      "596/596 [==============================] - 2s 4ms/step - loss: 0.0161 - accuracy: 0.1024 - val_loss: 0.0159 - val_accuracy: 0.1062\n",
      "Epoch 67/100\n",
      "596/596 [==============================] - 2s 3ms/step - loss: 0.0161 - accuracy: 0.1039 - val_loss: 0.0159 - val_accuracy: 0.1075\n",
      "Epoch 68/100\n",
      "596/596 [==============================] - 2s 4ms/step - loss: 0.0161 - accuracy: 0.1045 - val_loss: 0.0159 - val_accuracy: 0.1088\n",
      "Epoch 69/100\n",
      "596/596 [==============================] - 2s 3ms/step - loss: 0.0161 - accuracy: 0.1019 - val_loss: 0.0159 - val_accuracy: 0.1054\n",
      "Epoch 70/100\n",
      "596/596 [==============================] - 2s 3ms/step - loss: 0.0161 - accuracy: 0.1046 - val_loss: 0.0159 - val_accuracy: 0.1039\n",
      "Epoch 71/100\n",
      "596/596 [==============================] - 2s 3ms/step - loss: 0.0161 - accuracy: 0.1005 - val_loss: 0.0159 - val_accuracy: 0.1056\n",
      "Epoch 72/100\n",
      "596/596 [==============================] - 2s 3ms/step - loss: 0.0160 - accuracy: 0.1030 - val_loss: 0.0159 - val_accuracy: 0.1058\n",
      "Epoch 73/100\n",
      "596/596 [==============================] - 2s 4ms/step - loss: 0.0160 - accuracy: 0.1039 - val_loss: 0.0159 - val_accuracy: 0.1069\n",
      "Epoch 74/100\n",
      "596/596 [==============================] - 2s 4ms/step - loss: 0.0160 - accuracy: 0.1029 - val_loss: 0.0159 - val_accuracy: 0.1111\n",
      "Epoch 75/100\n",
      "596/596 [==============================] - 2s 3ms/step - loss: 0.0160 - accuracy: 0.1048 - val_loss: 0.0158 - val_accuracy: 0.1081\n",
      "Epoch 76/100\n",
      "596/596 [==============================] - 2s 3ms/step - loss: 0.0160 - accuracy: 0.1039 - val_loss: 0.0158 - val_accuracy: 0.1088\n",
      "Epoch 77/100\n",
      "596/596 [==============================] - 2s 4ms/step - loss: 0.0160 - accuracy: 0.1066 - val_loss: 0.0158 - val_accuracy: 0.1046\n",
      "Epoch 78/100\n",
      "596/596 [==============================] - 2s 4ms/step - loss: 0.0160 - accuracy: 0.1058 - val_loss: 0.0158 - val_accuracy: 0.1041\n",
      "Epoch 79/100\n",
      "596/596 [==============================] - 2s 4ms/step - loss: 0.0160 - accuracy: 0.1072 - val_loss: 0.0158 - val_accuracy: 0.1033\n",
      "Epoch 80/100\n",
      "596/596 [==============================] - 2s 3ms/step - loss: 0.0160 - accuracy: 0.1068 - val_loss: 0.0158 - val_accuracy: 0.1090\n",
      "Epoch 81/100\n",
      "596/596 [==============================] - 2s 4ms/step - loss: 0.0159 - accuracy: 0.1056 - val_loss: 0.0158 - val_accuracy: 0.1100\n",
      "Epoch 82/100\n",
      "596/596 [==============================] - 2s 3ms/step - loss: 0.0159 - accuracy: 0.1056 - val_loss: 0.0158 - val_accuracy: 0.1083\n",
      "Epoch 83/100\n",
      "596/596 [==============================] - 2s 4ms/step - loss: 0.0159 - accuracy: 0.1056 - val_loss: 0.0158 - val_accuracy: 0.1073\n",
      "Epoch 84/100\n",
      "596/596 [==============================] - 2s 3ms/step - loss: 0.0159 - accuracy: 0.1056 - val_loss: 0.0158 - val_accuracy: 0.1111\n",
      "Epoch 85/100\n",
      "596/596 [==============================] - 2s 3ms/step - loss: 0.0159 - accuracy: 0.1072 - val_loss: 0.0158 - val_accuracy: 0.1100\n",
      "Epoch 86/100\n",
      "596/596 [==============================] - 2s 3ms/step - loss: 0.0159 - accuracy: 0.1063 - val_loss: 0.0158 - val_accuracy: 0.1058\n",
      "Epoch 87/100\n",
      "596/596 [==============================] - 2s 3ms/step - loss: 0.0159 - accuracy: 0.1049 - val_loss: 0.0158 - val_accuracy: 0.1050\n",
      "Epoch 88/100\n",
      "596/596 [==============================] - 2s 3ms/step - loss: 0.0158 - accuracy: 0.1060 - val_loss: 0.0157 - val_accuracy: 0.1081\n",
      "Epoch 89/100\n",
      "596/596 [==============================] - 3s 5ms/step - loss: 0.0159 - accuracy: 0.1089 - val_loss: 0.0157 - val_accuracy: 0.1104\n",
      "Epoch 90/100\n",
      "596/596 [==============================] - 2s 4ms/step - loss: 0.0159 - accuracy: 0.1074 - val_loss: 0.0158 - val_accuracy: 0.1119\n",
      "Epoch 91/100\n",
      "596/596 [==============================] - 2s 3ms/step - loss: 0.0159 - accuracy: 0.1068 - val_loss: 0.0157 - val_accuracy: 0.1092\n",
      "Epoch 92/100\n",
      "596/596 [==============================] - 2s 3ms/step - loss: 0.0158 - accuracy: 0.1074 - val_loss: 0.0157 - val_accuracy: 0.1113\n",
      "Epoch 93/100\n",
      "596/596 [==============================] - 2s 3ms/step - loss: 0.0158 - accuracy: 0.1057 - val_loss: 0.0157 - val_accuracy: 0.1123\n",
      "Epoch 94/100\n",
      "596/596 [==============================] - 2s 4ms/step - loss: 0.0158 - accuracy: 0.1083 - val_loss: 0.0157 - val_accuracy: 0.1115\n",
      "Epoch 95/100\n",
      "596/596 [==============================] - 2s 3ms/step - loss: 0.0158 - accuracy: 0.1079 - val_loss: 0.0157 - val_accuracy: 0.1109\n",
      "Epoch 96/100\n",
      "596/596 [==============================] - 2s 4ms/step - loss: 0.0158 - accuracy: 0.1090 - val_loss: 0.0157 - val_accuracy: 0.1106\n",
      "Epoch 97/100\n",
      "596/596 [==============================] - 2s 3ms/step - loss: 0.0157 - accuracy: 0.1095 - val_loss: 0.0157 - val_accuracy: 0.1075\n",
      "Epoch 98/100\n",
      "596/596 [==============================] - 2s 3ms/step - loss: 0.0158 - accuracy: 0.1101 - val_loss: 0.0157 - val_accuracy: 0.1115\n",
      "Epoch 99/100\n",
      "596/596 [==============================] - 2s 3ms/step - loss: 0.0158 - accuracy: 0.1097 - val_loss: 0.0157 - val_accuracy: 0.1106\n",
      "Epoch 100/100\n",
      "596/596 [==============================] - 2s 4ms/step - loss: 0.0157 - accuracy: 0.1087 - val_loss: 0.0157 - val_accuracy: 0.1121\n"
     ]
    }
   ],
   "source": [
    "hist = model.fit(X_train, y_train, batch_size=32, validation_split=0.2, verbose=1, epochs=100)"
   ]
  },
  {
   "cell_type": "code",
   "execution_count": 10,
   "metadata": {
    "execution": {
     "iopub.execute_input": "2020-12-09T15:10:47.154246Z",
     "iopub.status.busy": "2020-12-09T15:10:47.153386Z",
     "iopub.status.idle": "2020-12-09T15:10:47.395473Z",
     "shell.execute_reply": "2020-12-09T15:10:47.395997Z"
    },
    "papermill": {
     "duration": 1.505351,
     "end_time": "2020-12-09T15:10:47.396133",
     "exception": false,
     "start_time": "2020-12-09T15:10:45.890782",
     "status": "completed"
    },
    "tags": []
   },
   "outputs": [
    {
     "data": {
      "text/plain": [
       "Text(0.5, 1.0, 'Accuracy')"
      ]
     },
     "execution_count": 10,
     "metadata": {},
     "output_type": "execute_result"
    },
    {
     "data": {
      "image/png": "[encoded data removed]",
      "text/plain": [
       "<Figure size 1080x504 with 1 Axes>"
      ]
     },
     "metadata": {
      "needs_background": "light"
     },
     "output_type": "display_data"
    }
   ],
   "source": [
    "# Draw fitting info\n",
    "plt.figure(figsize=(15, 7))\n",
    "plt.plot(hist.history['accuracy'])\n",
    "plt.plot(hist.history['val_accuracy'])\n",
    "plt.xlabel('Epoch')\n",
    "plt.ylabel('Accuracy')\n",
    "plt.legend(['Train_Accuracy', 'Val_accuracy'])\n",
    "plt.title('Accuracy')"
   ]
  },
  {
   "cell_type": "code",
   "execution_count": 11,
   "metadata": {
    "execution": {
     "iopub.execute_input": "2020-12-09T15:10:49.932700Z",
     "iopub.status.busy": "2020-12-09T15:10:49.931813Z",
     "iopub.status.idle": "2020-12-09T15:10:52.769266Z",
     "shell.execute_reply": "2020-12-09T15:10:52.768139Z"
    },
    "papermill": {
     "duration": 4.070931,
     "end_time": "2020-12-09T15:10:52.769382",
     "exception": false,
     "start_time": "2020-12-09T15:10:48.698451",
     "status": "completed"
    },
    "tags": []
   },
   "outputs": [],
   "source": [
    "preds = model.predict(X_test)\n",
    "submission = pd.DataFrame.from_records(preds)\n",
    "submission.insert(0, \"sig_id\", sig_id)\n",
    "submission.columns = sub.columns\n",
    "submission.to_csv('submission.csv', index=False)"
   ]
  }
 ],
 "metadata": {
  "kernelspec": {
   "display_name": "Python 3",
   "language": "python",
   "name": "python3"
  },
  "language_info": {
   "codemirror_mode": {
    "name": "ipython",
    "version": 3
   },
   "file_extension": ".py",
   "mimetype": "text/x-python",
   "name": "python",
   "nbconvert_exporter": "python",
   "pygments_lexer": "ipython3",
   "version": "3.8.5"
  },
  "papermill": {
   "duration": 242.930188,
   "end_time": "2020-12-09T15:10:56.156626",
   "environment_variables": {},
   "exception": null,
   "input_path": "__notebook__.ipynb",
   "output_path": "__notebook__.ipynb",
   "parameters": {},
   "start_time": "2020-12-09T15:06:53.226438",
   "version": "2.1.0"
  }
 },
 "nbformat": 4,
 "nbformat_minor": 4
}
