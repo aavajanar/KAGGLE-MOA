{
 "cells": [
  {
   "cell_type": "code",
   "execution_count": 1,
   "metadata": {
    "_cell_guid": "b1076dfc-b9ad-4769-8c92-a6c4dae69d19",
    "_uuid": "8f2839f25d086af736a60e9eeb907d3b93b6e0e5",
    "execution": {
     "iopub.execute_input": "2020-12-10T13:17:53.249800Z",
     "iopub.status.busy": "2020-12-10T13:17:53.248789Z",
     "iopub.status.idle": "2020-12-10T13:17:54.625130Z",
     "shell.execute_reply": "2020-12-10T13:17:54.624473Z"
    },
    "papermill": {
     "duration": 1.397601,
     "end_time": "2020-12-10T13:17:54.625273",
     "exception": false,
     "start_time": "2020-12-10T13:17:53.227672",
     "status": "completed"
    },
    "tags": []
   },
   "outputs": [
    {
     "name": "stdout",
     "output_type": "stream",
     "text": [
      "/kaggle/input/lish-moa/train_targets_scored.csv\n",
      "/kaggle/input/lish-moa/sample_submission.csv\n",
      "/kaggle/input/lish-moa/train_drug.csv\n",
      "/kaggle/input/lish-moa/train_targets_nonscored.csv\n",
      "/kaggle/input/lish-moa/train_features.csv\n",
      "/kaggle/input/lish-moa/test_features.csv\n"
     ]
    }
   ],
   "source": [
    "import numpy as np # linear algebra\n",
    "import pandas as pd # data processing, CSV file I/O (e.g. pd.read_csv)\n",
    "\n",
    "from sklearn.model_selection import cross_val_score\n",
    "from sklearn.model_selection import KFold\n",
    "from sklearn.multioutput import MultiOutputClassifier\n",
    "from sklearn.linear_model import LogisticRegression\n",
    "from sklearn.preprocessing import StandardScaler\n",
    "\n",
    "\n",
    "import warnings\n",
    "warnings.simplefilter('ignore')\n",
    "import os\n",
    "for dirname, _, filenames in os.walk('/kaggle/input'):\n",
    "    for filename in filenames:\n",
    "        print(os.path.join(dirname, filename))"
   ]
  },
  {
   "cell_type": "markdown",
   "metadata": {
    "papermill": {
     "duration": 0.011839,
     "end_time": "2020-12-10T13:17:54.647769",
     "exception": false,
     "start_time": "2020-12-10T13:17:54.635930",
     "status": "completed"
    },
    "tags": []
   },
   "source": [
    "Notebooks used:<br>\n",
    "https://www.kaggle.com/sg1993/logistic-regression-model/notebook<br>\n",
    "https://www.kaggle.com/barteksadlej123/basic-logistic-regression"
   ]
  },
  {
   "cell_type": "markdown",
   "metadata": {
    "papermill": {
     "duration": 0.009472,
     "end_time": "2020-12-10T13:17:54.667276",
     "exception": false,
     "start_time": "2020-12-10T13:17:54.657804",
     "status": "completed"
    },
    "tags": []
   },
   "source": [
    "## Reading data"
   ]
  },
  {
   "cell_type": "code",
   "execution_count": 2,
   "metadata": {
    "_cell_guid": "79c7e3d0-c299-4dcb-8224-4455121ee9b0",
    "_uuid": "d629ff2d2480ee46fbb7e2d37f6b5fab8052498a",
    "execution": {
     "iopub.execute_input": "2020-12-10T13:17:54.699287Z",
     "iopub.status.busy": "2020-12-10T13:17:54.698539Z",
     "iopub.status.idle": "2020-12-10T13:18:04.678977Z",
     "shell.execute_reply": "2020-12-10T13:18:04.679564Z"
    },
    "papermill": {
     "duration": 10.002423,
     "end_time": "2020-12-10T13:18:04.679747",
     "exception": false,
     "start_time": "2020-12-10T13:17:54.677324",
     "status": "completed"
    },
    "tags": []
   },
   "outputs": [],
   "source": [
    "path = \"/kaggle/input/lish-moa/\"\n",
    "train_features = pd.read_csv(path+\"train_features.csv\")\n",
    "test_features = pd.read_csv(path+\"test_features.csv\")\n",
    "train_targets_scored = pd.read_csv(path+\"train_targets_scored.csv\")\n",
    "\n",
    "# From https://www.kaggle.com/carlmcbrideellis/moa-setting-ctl-vehicle-0-improves-score\n",
    "train_features.at[train_features['cp_type'].str.contains('ctl_vehicle'),train_features.filter(regex='-.*').columns] = 0.0\n",
    "test_features.at[test_features['cp_type'].str.contains('ctl_vehicle'),test_features.filter(regex='-.*').columns] = 0.0"
   ]
  },
  {
   "cell_type": "markdown",
   "metadata": {
    "papermill": {
     "duration": 0.009461,
     "end_time": "2020-12-10T13:18:04.700417",
     "exception": false,
     "start_time": "2020-12-10T13:18:04.690956",
     "status": "completed"
    },
    "tags": []
   },
   "source": [
    "## Data Preparations"
   ]
  },
  {
   "cell_type": "code",
   "execution_count": 3,
   "metadata": {
    "execution": {
     "iopub.execute_input": "2020-12-10T13:18:04.726852Z",
     "iopub.status.busy": "2020-12-10T13:18:04.725985Z",
     "iopub.status.idle": "2020-12-10T13:18:04.729091Z",
     "shell.execute_reply": "2020-12-10T13:18:04.729591Z"
    },
    "papermill": {
     "duration": 0.019609,
     "end_time": "2020-12-10T13:18:04.729739",
     "exception": false,
     "start_time": "2020-12-10T13:18:04.710130",
     "status": "completed"
    },
    "tags": []
   },
   "outputs": [],
   "source": [
    "def onehotencode(data):\n",
    "    data = pd.get_dummies(data)\n",
    "    return data"
   ]
  },
  {
   "cell_type": "code",
   "execution_count": 4,
   "metadata": {
    "execution": {
     "iopub.execute_input": "2020-12-10T13:18:04.754429Z",
     "iopub.status.busy": "2020-12-10T13:18:04.753415Z",
     "iopub.status.idle": "2020-12-10T13:18:05.496534Z",
     "shell.execute_reply": "2020-12-10T13:18:05.495912Z"
    },
    "papermill": {
     "duration": 0.756523,
     "end_time": "2020-12-10T13:18:05.496652",
     "exception": false,
     "start_time": "2020-12-10T13:18:04.740129",
     "status": "completed"
    },
    "tags": []
   },
   "outputs": [],
   "source": [
    "# Dropping sig_id columns and onehot encoding\n",
    "\n",
    "X_test = test_features.copy()\n",
    "X_train = train_features.copy()\n",
    "y_train = train_targets_scored.copy()\n",
    "X_train = X_train.drop(\"sig_id\", axis=1)\n",
    "y_train = y_train.drop(\"sig_id\", axis=1)\n",
    "\n",
    "# changing cp_time to categorical before onehotencoding\n",
    "X_test = test_features.copy()\n",
    "X_train['cp_time'] = X_train['cp_time'].apply(lambda x:str(x))\n",
    "X_test['cp_time'] = X_test['cp_time'].apply(lambda x:str(x))\n",
    "\n",
    "X_train = onehotencode(X_train)\n",
    "\n",
    "sig_id = X_test[\"sig_id\"]  # getting the ids\n",
    "X_test = X_test.drop(\"sig_id\", axis=1)\n",
    "X_test = onehotencode(X_test)\n",
    "\n",
    "columns = X_test.columns  # getting the feature columns\n",
    "sub = pd.read_csv(path+\"sample_submission.csv\")"
   ]
  },
  {
   "cell_type": "code",
   "execution_count": 5,
   "metadata": {
    "execution": {
     "iopub.execute_input": "2020-12-10T13:18:05.533088Z",
     "iopub.status.busy": "2020-12-10T13:18:05.532309Z",
     "iopub.status.idle": "2020-12-10T13:18:06.540495Z",
     "shell.execute_reply": "2020-12-10T13:18:06.539873Z"
    },
    "papermill": {
     "duration": 1.034014,
     "end_time": "2020-12-10T13:18:06.540617",
     "exception": false,
     "start_time": "2020-12-10T13:18:05.506603",
     "status": "completed"
    },
    "tags": []
   },
   "outputs": [],
   "source": [
    "# Scaling the data\n",
    "scaler = StandardScaler()\n",
    "X_train = scaler.fit_transform(X_train)\n",
    "X_test = scaler.transform(X_test)"
   ]
  },
  {
   "cell_type": "markdown",
   "metadata": {
    "papermill": {
     "duration": 0.009717,
     "end_time": "2020-12-10T13:18:06.560893",
     "exception": false,
     "start_time": "2020-12-10T13:18:06.551176",
     "status": "completed"
    },
    "tags": []
   },
   "source": [
    "## Modelling"
   ]
  },
  {
   "cell_type": "code",
   "execution_count": 6,
   "metadata": {
    "execution": {
     "iopub.execute_input": "2020-12-10T13:18:06.588213Z",
     "iopub.status.busy": "2020-12-10T13:18:06.587184Z",
     "iopub.status.idle": "2020-12-10T13:18:06.591587Z",
     "shell.execute_reply": "2020-12-10T13:18:06.590849Z"
    },
    "papermill": {
     "duration": 0.020693,
     "end_time": "2020-12-10T13:18:06.591728",
     "exception": false,
     "start_time": "2020-12-10T13:18:06.571035",
     "status": "completed"
    },
    "tags": []
   },
   "outputs": [],
   "source": [
    "model_lr = MultiOutputClassifier(LogisticRegression(C=0.01, solver=\"sag\", max_iter=200, random_state=0), n_jobs=-1)\n",
    "\n",
    "# 3 fold CV on LogisticRegression that uses MultiOutputClassifier\n",
    "# kf = KFold(n_splits=3, shuffle=True)\n",
    "# score = cross_val_score(model_lr, X_train_transformed, y_train, cv=kf, n_jobs=-1)\n",
    "# print(score)"
   ]
  },
  {
   "cell_type": "code",
   "execution_count": 7,
   "metadata": {
    "execution": {
     "iopub.execute_input": "2020-12-10T13:18:06.621328Z",
     "iopub.status.busy": "2020-12-10T13:18:06.619889Z",
     "iopub.status.idle": "2020-12-10T14:11:11.032659Z",
     "shell.execute_reply": "2020-12-10T14:11:11.033375Z"
    },
    "papermill": {
     "duration": 3184.431018,
     "end_time": "2020-12-10T14:11:11.033680",
     "exception": false,
     "start_time": "2020-12-10T13:18:06.602662",
     "status": "completed"
    },
    "tags": []
   },
   "outputs": [
    {
     "data": {
      "text/plain": [
       "MultiOutputClassifier(estimator=LogisticRegression(C=0.01, max_iter=200,\n",
       "                                                   random_state=0,\n",
       "                                                   solver='sag'),\n",
       "                      n_jobs=-1)"
      ]
     },
     "execution_count": 7,
     "metadata": {},
     "output_type": "execute_result"
    }
   ],
   "source": [
    "model_lr.fit(X_train, y_train)"
   ]
  },
  {
   "cell_type": "code",
   "execution_count": 8,
   "metadata": {
    "execution": {
     "iopub.execute_input": "2020-12-10T14:11:11.060548Z",
     "iopub.status.busy": "2020-12-10T14:11:11.059693Z",
     "iopub.status.idle": "2020-12-10T14:11:12.418269Z",
     "shell.execute_reply": "2020-12-10T14:11:12.417549Z"
    },
    "papermill": {
     "duration": 1.373604,
     "end_time": "2020-12-10T14:11:12.418398",
     "exception": false,
     "start_time": "2020-12-10T14:11:11.044794",
     "status": "completed"
    },
    "tags": []
   },
   "outputs": [
    {
     "data": {
      "text/html": [
       "<div>\n",
       "<style scoped>\n",
       "    .dataframe tbody tr th:only-of-type {\n",
       "        vertical-align: middle;\n",
       "    }\n",
       "\n",
       "    .dataframe tbody tr th {\n",
       "        vertical-align: top;\n",
       "    }\n",
       "\n",
       "    .dataframe thead th {\n",
       "        text-align: right;\n",
       "    }\n",
       "</style>\n",
       "<table border=\"1\" class=\"dataframe\">\n",
       "  <thead>\n",
       "    <tr style=\"text-align: right;\">\n",
       "      <th></th>\n",
       "      <th>sig_id</th>\n",
       "      <th>5-alpha_reductase_inhibitor</th>\n",
       "      <th>11-beta-hsd1_inhibitor</th>\n",
       "      <th>acat_inhibitor</th>\n",
       "      <th>acetylcholine_receptor_agonist</th>\n",
       "      <th>acetylcholine_receptor_antagonist</th>\n",
       "      <th>acetylcholinesterase_inhibitor</th>\n",
       "      <th>adenosine_receptor_agonist</th>\n",
       "      <th>adenosine_receptor_antagonist</th>\n",
       "      <th>adenylyl_cyclase_activator</th>\n",
       "      <th>...</th>\n",
       "      <th>tropomyosin_receptor_kinase_inhibitor</th>\n",
       "      <th>trpv_agonist</th>\n",
       "      <th>trpv_antagonist</th>\n",
       "      <th>tubulin_inhibitor</th>\n",
       "      <th>tyrosine_kinase_inhibitor</th>\n",
       "      <th>ubiquitin_specific_protease_inhibitor</th>\n",
       "      <th>vegfr_inhibitor</th>\n",
       "      <th>vitamin_b</th>\n",
       "      <th>vitamin_d_receptor_agonist</th>\n",
       "      <th>wnt_inhibitor</th>\n",
       "    </tr>\n",
       "  </thead>\n",
       "  <tbody>\n",
       "    <tr>\n",
       "      <th>0</th>\n",
       "      <td>id_0004d9e33</td>\n",
       "      <td>0.003464</td>\n",
       "      <td>0.003232</td>\n",
       "      <td>0.003700</td>\n",
       "      <td>0.015732</td>\n",
       "      <td>0.019428</td>\n",
       "      <td>0.003676</td>\n",
       "      <td>0.001850</td>\n",
       "      <td>0.004582</td>\n",
       "      <td>0.002065</td>\n",
       "      <td>...</td>\n",
       "      <td>0.004140</td>\n",
       "      <td>0.010924</td>\n",
       "      <td>0.004457</td>\n",
       "      <td>0.001976</td>\n",
       "      <td>0.001357</td>\n",
       "      <td>0.002923</td>\n",
       "      <td>0.005352</td>\n",
       "      <td>0.006348</td>\n",
       "      <td>0.010482</td>\n",
       "      <td>0.003119</td>\n",
       "    </tr>\n",
       "    <tr>\n",
       "      <th>1</th>\n",
       "      <td>id_001897cda</td>\n",
       "      <td>0.001319</td>\n",
       "      <td>0.002607</td>\n",
       "      <td>0.001806</td>\n",
       "      <td>0.001350</td>\n",
       "      <td>0.004579</td>\n",
       "      <td>0.009560</td>\n",
       "      <td>0.003614</td>\n",
       "      <td>0.007876</td>\n",
       "      <td>0.004559</td>\n",
       "      <td>...</td>\n",
       "      <td>0.002899</td>\n",
       "      <td>0.002493</td>\n",
       "      <td>0.003783</td>\n",
       "      <td>0.000943</td>\n",
       "      <td>0.005494</td>\n",
       "      <td>0.002449</td>\n",
       "      <td>0.003527</td>\n",
       "      <td>0.002900</td>\n",
       "      <td>0.004072</td>\n",
       "      <td>0.004707</td>\n",
       "    </tr>\n",
       "    <tr>\n",
       "      <th>2</th>\n",
       "      <td>id_002429b5b</td>\n",
       "      <td>0.002589</td>\n",
       "      <td>0.002450</td>\n",
       "      <td>0.002615</td>\n",
       "      <td>0.003232</td>\n",
       "      <td>0.003695</td>\n",
       "      <td>0.002953</td>\n",
       "      <td>0.002708</td>\n",
       "      <td>0.002908</td>\n",
       "      <td>0.002426</td>\n",
       "      <td>...</td>\n",
       "      <td>0.002371</td>\n",
       "      <td>0.002332</td>\n",
       "      <td>0.002551</td>\n",
       "      <td>0.003636</td>\n",
       "      <td>0.002582</td>\n",
       "      <td>0.002423</td>\n",
       "      <td>0.002681</td>\n",
       "      <td>0.002530</td>\n",
       "      <td>0.002528</td>\n",
       "      <td>0.002416</td>\n",
       "    </tr>\n",
       "    <tr>\n",
       "      <th>3</th>\n",
       "      <td>id_00276f245</td>\n",
       "      <td>0.002019</td>\n",
       "      <td>0.002437</td>\n",
       "      <td>0.003028</td>\n",
       "      <td>0.006401</td>\n",
       "      <td>0.002983</td>\n",
       "      <td>0.006393</td>\n",
       "      <td>0.001779</td>\n",
       "      <td>0.003501</td>\n",
       "      <td>0.001886</td>\n",
       "      <td>...</td>\n",
       "      <td>0.002529</td>\n",
       "      <td>0.001860</td>\n",
       "      <td>0.006003</td>\n",
       "      <td>0.024815</td>\n",
       "      <td>0.009123</td>\n",
       "      <td>0.002359</td>\n",
       "      <td>0.002320</td>\n",
       "      <td>0.002674</td>\n",
       "      <td>0.002625</td>\n",
       "      <td>0.003309</td>\n",
       "    </tr>\n",
       "    <tr>\n",
       "      <th>4</th>\n",
       "      <td>id_0027f1083</td>\n",
       "      <td>0.004032</td>\n",
       "      <td>0.004320</td>\n",
       "      <td>0.006233</td>\n",
       "      <td>0.011106</td>\n",
       "      <td>0.022038</td>\n",
       "      <td>0.002113</td>\n",
       "      <td>0.005945</td>\n",
       "      <td>0.002903</td>\n",
       "      <td>0.002617</td>\n",
       "      <td>...</td>\n",
       "      <td>0.003135</td>\n",
       "      <td>0.001085</td>\n",
       "      <td>0.008030</td>\n",
       "      <td>0.004480</td>\n",
       "      <td>0.001485</td>\n",
       "      <td>0.003423</td>\n",
       "      <td>0.006711</td>\n",
       "      <td>0.003588</td>\n",
       "      <td>0.001768</td>\n",
       "      <td>0.003843</td>\n",
       "    </tr>\n",
       "  </tbody>\n",
       "</table>\n",
       "<p>5 rows × 207 columns</p>\n",
       "</div>"
      ],
      "text/plain": [
       "         sig_id  5-alpha_reductase_inhibitor  11-beta-hsd1_inhibitor  \\\n",
       "0  id_0004d9e33                     0.003464                0.003232   \n",
       "1  id_001897cda                     0.001319                0.002607   \n",
       "2  id_002429b5b                     0.002589                0.002450   \n",
       "3  id_00276f245                     0.002019                0.002437   \n",
       "4  id_0027f1083                     0.004032                0.004320   \n",
       "\n",
       "   acat_inhibitor  acetylcholine_receptor_agonist  \\\n",
       "0        0.003700                        0.015732   \n",
       "1        0.001806                        0.001350   \n",
       "2        0.002615                        0.003232   \n",
       "3        0.003028                        0.006401   \n",
       "4        0.006233                        0.011106   \n",
       "\n",
       "   acetylcholine_receptor_antagonist  acetylcholinesterase_inhibitor  \\\n",
       "0                           0.019428                        0.003676   \n",
       "1                           0.004579                        0.009560   \n",
       "2                           0.003695                        0.002953   \n",
       "3                           0.002983                        0.006393   \n",
       "4                           0.022038                        0.002113   \n",
       "\n",
       "   adenosine_receptor_agonist  adenosine_receptor_antagonist  \\\n",
       "0                    0.001850                       0.004582   \n",
       "1                    0.003614                       0.007876   \n",
       "2                    0.002708                       0.002908   \n",
       "3                    0.001779                       0.003501   \n",
       "4                    0.005945                       0.002903   \n",
       "\n",
       "   adenylyl_cyclase_activator  ...  tropomyosin_receptor_kinase_inhibitor  \\\n",
       "0                    0.002065  ...                               0.004140   \n",
       "1                    0.004559  ...                               0.002899   \n",
       "2                    0.002426  ...                               0.002371   \n",
       "3                    0.001886  ...                               0.002529   \n",
       "4                    0.002617  ...                               0.003135   \n",
       "\n",
       "   trpv_agonist  trpv_antagonist  tubulin_inhibitor  \\\n",
       "0      0.010924         0.004457           0.001976   \n",
       "1      0.002493         0.003783           0.000943   \n",
       "2      0.002332         0.002551           0.003636   \n",
       "3      0.001860         0.006003           0.024815   \n",
       "4      0.001085         0.008030           0.004480   \n",
       "\n",
       "   tyrosine_kinase_inhibitor  ubiquitin_specific_protease_inhibitor  \\\n",
       "0                   0.001357                               0.002923   \n",
       "1                   0.005494                               0.002449   \n",
       "2                   0.002582                               0.002423   \n",
       "3                   0.009123                               0.002359   \n",
       "4                   0.001485                               0.003423   \n",
       "\n",
       "   vegfr_inhibitor  vitamin_b  vitamin_d_receptor_agonist  wnt_inhibitor  \n",
       "0         0.005352   0.006348                    0.010482       0.003119  \n",
       "1         0.003527   0.002900                    0.004072       0.004707  \n",
       "2         0.002681   0.002530                    0.002528       0.002416  \n",
       "3         0.002320   0.002674                    0.002625       0.003309  \n",
       "4         0.006711   0.003588                    0.001768       0.003843  \n",
       "\n",
       "[5 rows x 207 columns]"
      ]
     },
     "execution_count": 8,
     "metadata": {},
     "output_type": "execute_result"
    }
   ],
   "source": [
    "preds = model_lr.predict_proba(X_test)\n",
    "preds = np.array(preds)[:,:,1]\n",
    "sub[sub.columns.to_list()[1:]] = preds.T\n",
    "sub.head()"
   ]
  },
  {
   "cell_type": "code",
   "execution_count": 9,
   "metadata": {
    "execution": {
     "iopub.execute_input": "2020-12-10T14:11:12.448570Z",
     "iopub.status.busy": "2020-12-10T14:11:12.447842Z",
     "iopub.status.idle": "2020-12-10T14:11:15.163702Z",
     "shell.execute_reply": "2020-12-10T14:11:15.162924Z"
    },
    "papermill": {
     "duration": 2.733059,
     "end_time": "2020-12-10T14:11:15.163844",
     "exception": false,
     "start_time": "2020-12-10T14:11:12.430785",
     "status": "completed"
    },
    "tags": []
   },
   "outputs": [],
   "source": [
    "sub.to_csv('submission.csv',index=False)"
   ]
  }
 ],
 "metadata": {
  "kernelspec": {
   "display_name": "Python 3",
   "language": "python",
   "name": "python3"
  },
  "language_info": {
   "codemirror_mode": {
    "name": "ipython",
    "version": 3
   },
   "file_extension": ".py",
   "mimetype": "text/x-python",
   "name": "python",
   "nbconvert_exporter": "python",
   "pygments_lexer": "ipython3",
   "version": "3.8.5"
  },
  "papermill": {
   "duration": 3207.66587,
   "end_time": "2020-12-10T14:11:15.292323",
   "environment_variables": {},
   "exception": null,
   "input_path": "__notebook__.ipynb",
   "output_path": "__notebook__.ipynb",
   "parameters": {},
   "start_time": "2020-12-10T13:17:47.626453",
   "version": "2.1.0"
  }
 },
 "nbformat": 4,
 "nbformat_minor": 4
}
